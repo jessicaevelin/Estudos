{
 "cells": [
  {
   "cell_type": "markdown",
   "id": "3d9530de",
   "metadata": {},
   "source": [
    "# Programação orientada a objetos"
   ]
  },
  {
   "cell_type": "markdown",
   "id": "8a0d209e",
   "metadata": {},
   "source": [
    "Organizar e reduzir códigos\n",
    "Criar nossos próprios tipos de dados\n",
    "\n",
    "Exemplo: Jogo ZombieKill\n",
    "\n",
    "\n",
    "Todos os zumbis tem algumas caracteristicas e aparências iguais\n",
    "\n",
    "Exemplo: Se a vida chega a zero o zumbi morre\n",
    "\n",
    "Zumbi verde\n",
    "    Atributos: Vida, velocidade e fome\n",
    "    Ações: Morder, pular, correr e morrer\n",
    "\n",
    "Zumbi amarelo\n",
    "    Atributos: Vida e velocidade\n",
    "    Ações: Morder e morrer\n",
    "\n",
    "Não preciso criar um zumbi amarelo do zero, eu posso reutilizar o código do verde"
   ]
  },
  {
   "cell_type": "code",
   "execution_count": 1,
   "id": "55afb993",
   "metadata": {},
   "outputs": [
    {
     "name": "stdout",
     "output_type": "stream",
     "text": [
      "<class 'list'>\n"
     ]
    }
   ],
   "source": [
    "l = [1,2,3,4,5]  # l é um objeto (instância) da classe list\n",
    "print(type(l))  # Objeto l é um filho da classe list\n",
    "l.append(10)    # O método append é um método que só existe na classe list"
   ]
  },
  {
   "cell_type": "code",
   "execution_count": 2,
   "id": "34d3fbb7",
   "metadata": {},
   "outputs": [
    {
     "name": "stdout",
     "output_type": "stream",
     "text": [
      "<class '__main__.Exemplo'>\n"
     ]
    }
   ],
   "source": [
    "# Criando o meu tipo de dado\n",
    "class Exemplo:\n",
    "    pass # Faz nada, é só para não ficar vazia\n",
    "\n",
    "x = Exemplo() # Criando um objeto do tipo exemplo\n",
    "\n",
    "print(type(x))"
   ]
  },
  {
   "cell_type": "code",
   "execution_count": 3,
   "id": "04cefad3",
   "metadata": {},
   "outputs": [
    {
     "name": "stdout",
     "output_type": "stream",
     "text": [
      "Vira-Lata criado\n",
      "Pitibu criado\n",
      "10\n",
      "Vira-Lata\n",
      "99\n",
      "Pitibu\n",
      "10\n",
      "100\n"
     ]
    }
   ],
   "source": [
    "class Dog:\n",
    "    def __init__(self, raca='Vira-Lata'): # Chamado automaticamente no inicio\n",
    "        self.idade = 10 # automatico\n",
    "        self.raca = raca # tenho que definir o parâmetro\n",
    "        print(f'{raca} criado')\n",
    "    \n",
    "    def envelhecer(self):\n",
    "        self.idade += 1\n",
    "        return self.idade\n",
    "      \n",
    "dog1 = Dog()\n",
    "dog2 = Dog('Pitibu')\n",
    "\n",
    "# Idade padrão\n",
    "print(dog1.idade)\n",
    "print(dog1.raca)\n",
    "\n",
    "# Tratando de forma individual\n",
    "dog2.idade = 99 \n",
    "print(dog2.idade) \n",
    "print(dog2.raca)\n",
    "\n",
    "# Usando a função envelhecer, que a cada vez que é chamada soma mais uma ano de idade\n",
    "dog2.envelhecer()\n",
    "print(dog1.idade)\n",
    "print(dog2.idade) "
   ]
  },
  {
   "cell_type": "code",
   "execution_count": 4,
   "id": "c417879d",
   "metadata": {},
   "outputs": [
    {
     "name": "stdout",
     "output_type": "stream",
     "text": [
      "<class '__main__.Circle'>\n",
      "3.14\n",
      "12.56\n"
     ]
    }
   ],
   "source": [
    "class Circle():\n",
    "    def __init__(self, raio = 1):\n",
    "        self.raio = raio\n",
    "    def calcula_area(self):\n",
    "        return self.raio * self.raio * 3.14\n",
    "\n",
    "# Criando um padrão\n",
    "circulo = Circle()\n",
    "print(type(circulo))\n",
    "\n",
    "# Usando o método\n",
    "print(circulo.calcula_area())\n",
    "\n",
    "# Criando \n",
    "circulo2 = Circle(2)\n",
    "\n",
    "# Usando o método\n",
    "print(circulo2.calcula_area())"
   ]
  },
  {
   "cell_type": "markdown",
   "id": "3da9f06f",
   "metadata": {},
   "source": [
    "## Herança\n",
    "\n",
    "Copiar algumas informações e reaproveitar o código"
   ]
  },
  {
   "cell_type": "code",
   "execution_count": 5,
   "id": "039ad273",
   "metadata": {},
   "outputs": [
    {
     "name": "stdout",
     "output_type": "stream",
     "text": [
      "Animal criado\n",
      "Eu sou um animal\n",
      "Comendo\n",
      "#\n",
      "Animal criado\n",
      "Eu sou um cachorro\n",
      "Comendo\n"
     ]
    }
   ],
   "source": [
    "class Animal():\n",
    "    def __init__(self):\n",
    "        print('Animal criado')\n",
    "        \n",
    "    def quemSou(self):\n",
    "        print('Eu sou um animal')\n",
    "    \n",
    "    def comer(self):\n",
    "        print('Comendo')\n",
    "        \n",
    "animal = Animal()\n",
    "animal.quemSou()\n",
    "animal.comer()\n",
    "\n",
    "# A classe Cachorro herda todos os métodos de Animal\n",
    "class Cachorro(Animal): \n",
    "    def quemSou(self):\n",
    "        print('Eu sou um cachorro')\n",
    "\n",
    "print('#')\n",
    "\n",
    "# Aproveitando alguns métodos da Classe Animal\n",
    "dog = Cachorro()\n",
    "dog.quemSou()\n",
    "dog.comer()"
   ]
  },
  {
   "cell_type": "markdown",
   "id": "7462f5f8",
   "metadata": {},
   "source": [
    "## Métodos Especiais"
   ]
  },
  {
   "cell_type": "code",
   "execution_count": 6,
   "id": "fa99e5b8",
   "metadata": {},
   "outputs": [
    {
     "name": "stdout",
     "output_type": "stream",
     "text": [
      "O livro foi criado\n",
      "titulo: As Crónicas de Nárnia, autor: C. S. Lewis, paginas: 658\n",
      "O livro foi destruído\n",
      "#\n",
      "O livro foi criado\n",
      "titulo: The Hobbit, autor: J. R. R. Tolkien , paginas: 658\n",
      "O livro foi destruído\n"
     ]
    }
   ],
   "source": [
    "class Book:\n",
    "    def __init__(self, titulo, autor, paginas):\n",
    "        print('O livro foi criado')\n",
    "        self.titulo = titulo\n",
    "        self.autor = autor\n",
    "        self.paginas = paginas\n",
    "        \n",
    "    def __str__(self):\n",
    "        return 'titulo: %s, autor: %s, paginas: %s' %(self.titulo, self.autor, self.paginas)\n",
    "    \n",
    "    def __len__(self):\n",
    "        return self.paginas\n",
    "    \n",
    "    def __del__(self):\n",
    "        print('O livro foi destruído')\n",
    "        \n",
    "# Criando (instânciando) um livro\n",
    "\n",
    "narnia = Book('As Crónicas de Nárnia', 'C. S. Lewis', 658)\n",
    "\n",
    "# Métodos especiais\n",
    "print(narnia)\n",
    "len(narnia)\n",
    "del narnia\n",
    "\n",
    "print('#')\n",
    "\n",
    "hobbit = Book('The Hobbit', 'J. R. R. Tolkien ', 658)\n",
    "\n",
    "print(hobbit)\n",
    "len(hobbit)\n",
    "del hobbit"
   ]
  },
  {
   "cell_type": "code",
   "execution_count": 7,
   "id": "645fe58b",
   "metadata": {},
   "outputs": [
    {
     "data": {
      "text/plain": [
       "0.0"
      ]
     },
     "execution_count": 7,
     "metadata": {},
     "output_type": "execute_result"
    }
   ],
   "source": [
    "# Projeto\n",
    "# Qual o impacto de um desorganizador?\n",
    "# Asimov - Python Starter - Módulo 5\n",
    "\n",
    "# O que acontece quando uma pessoa bagunça o porta halteres, colocando eles em lugares diferente do definido e a maioria deixa organizado\n",
    "\n",
    "# Definir o tamanho dos halteres\n",
    "# Definit o porta halteres, que recebe o mesmo peso para cada halteres\n",
    "\n",
    "import random\n",
    "\n",
    "class Academia:\n",
    "    def __init__(self):\n",
    "        self.halteres = [i for i in range(10, 36) if i % 2 == 0]\n",
    "        self.porta_halteres = {}\n",
    "        self.reiniciar_o_dia()\n",
    "\n",
    "    def reiniciar_o_dia(self):\n",
    "        self.porta_halteres = {i:i for i in self.halteres}\n",
    "\n",
    "    def listar_halteres(self):\n",
    "        return [i for i in self.porta_halteres.values() if i != 0]\n",
    "\n",
    "    def listar_espacos(self):\n",
    "        return [i for i, j in self.porta_halteres.items() if j == 0]\n",
    "    \n",
    "    def pegar_haltere(self, peso):\n",
    "        halt_pos = list(self.porta_halteres.values()).index(peso)\n",
    "        key_halt = list(self.porta_halteres.keys())[halt_pos]\n",
    "        self.porta_halteres[key_halt] = 0\n",
    "        return peso\n",
    "    \n",
    "    def devolver_halter(self, pos, peso):\n",
    "        self.porta_halteres[pos] = peso\n",
    "\n",
    "    def calcular_caos(self):\n",
    "        num_caos = [i for i, j in self.porta_halteres.items() if i != j]\n",
    "        return len(num_caos) / len(self.porta_halteres)\n",
    "\n",
    "class Usuario:\n",
    "    def __init__(self, tipo, academia):\n",
    "        self.tipo = tipo\n",
    "        self.academia = academia\n",
    "        self.peso = 0\n",
    "\n",
    "    def iniciar_treino(self):\n",
    "        lista_pesos = self.academia.listar_halteres()\n",
    "        self.peso = random.choice(lista_pesos)\n",
    "        self.academia.pegar_haltere(self.peso)\n",
    "\n",
    "    def finalizar_treino(self):\n",
    "        espacos = self.academia.listar_espacos()\n",
    "\n",
    "        if self.tipo == 1:\n",
    "            if self.peso in espacos:\n",
    "                self.academia.devolver_halter(self.peso, self.peso)\n",
    "            else:\n",
    "                pos = random.choice(espacos)\n",
    "                self.academia.devolver_halter(pos, self.peso)\n",
    "        \n",
    "        if self.tipo == 2:\n",
    "            pos = random.choice(espacos)\n",
    "            self.academia.devolver_halter(pos, self.peso)\n",
    "        self.peso = 0\n",
    "\n",
    "academia = Academia()\n",
    "\n",
    "usuarios = [Usuario(1, academia) for i in range(10)]\n",
    "usuarios += [Usuario(2, academia) for i in range(1)]\n",
    "random.shuffle(usuarios)\n",
    "\n",
    "for i in range(10):\n",
    "    random.shuffle(usuarios)\n",
    "    for user in usuarios:\n",
    "        user.iniciar_treino()\n",
    "    for user in usuarios:\n",
    "        user.finalizar_treino()\n",
    "        \n",
    "academia.porta_halteres\n",
    "academia.calcular_caos()"
   ]
  }
 ],
 "metadata": {
  "kernelspec": {
   "display_name": "Python 3",
   "language": "python",
   "name": "python3"
  },
  "language_info": {
   "codemirror_mode": {
    "name": "ipython",
    "version": 3
   },
   "file_extension": ".py",
   "mimetype": "text/x-python",
   "name": "python",
   "nbconvert_exporter": "python",
   "pygments_lexer": "ipython3",
   "version": "3.12.4"
  }
 },
 "nbformat": 4,
 "nbformat_minor": 5
}
