{
 "cells": [
  {
   "cell_type": "markdown",
   "id": "0d346d2b",
   "metadata": {},
   "source": [
    "# Python Starter\n",
    "Curso completo de python\n",
    "\n",
    "F0523"
   ]
  },
  {
   "cell_type": "code",
   "execution_count": null,
   "id": "58f0e0c6",
   "metadata": {},
   "outputs": [],
   "source": []
  },
  {
   "cell_type": "markdown",
   "id": "abbcc48f",
   "metadata": {},
   "source": [
    "## OS"
   ]
  },
  {
   "cell_type": "code",
   "execution_count": 2,
   "id": "a6901a5e",
   "metadata": {},
   "outputs": [
    {
     "name": "stdout",
     "output_type": "stream",
     "text": [
      "c:\\Users\\eveli\\Desktop\\Dev\\DataScience\\TradingQuantitativo\\1PythonStarter\n",
      "['.gitkeep', 'aula-1.ipynb', 'teste.py']\n",
      "['.gitignore', 'analise-train.csv', 'dados', 'data-frame.py', 'delivery-analysis.py', 'for-if-elif.py', 'loc-iloc.py']\n"
     ]
    }
   ],
   "source": [
    "import os\n",
    "\n",
    "# Path atual\n",
    "print(os.getcwd())\n",
    "\n",
    "# Arquivos em uma pasta\n",
    "print(os.listdir())\n",
    "\n",
    "print(os.listdir('../../DSFormation'))\n",
    "\n",
    "if False:\n",
    "\n",
    "    # Troca de área de trabalho \n",
    "    os.getcwd()\n",
    "\n",
    "    # Cria uma pasta\n",
    "    os.mkdir(\"NovaPasta\")\n",
    "\n",
    "    # Renomeia\n",
    "    os.rename('NovaPasta', 'NewPaste')\n",
    "\n",
    "    # Remove\n",
    "    os.remove('arquivo.txt')\n",
    "\n",
    "    # Insere novas funções ao cmd\n",
    "    cmd = 'date'\n",
    "    os.system(cmd)\n",
    "\n",
    "    # Ultima pasta do path\n",
    "    os.path.basename(os.getcwd())\n",
    "\n",
    "    # Juntar path\n",
    "    os.path.join(os.getcwd(),'/pasta')\n",
    "    # ou\n",
    "    os.getcwd() + '/pasta'\n"
   ]
  },
  {
   "cell_type": "markdown",
   "id": "220e5171",
   "metadata": {},
   "source": [
    "## Erros\n",
    "**Debug** é procurar erros"
   ]
  },
  {
   "cell_type": "code",
   "execution_count": null,
   "id": "de180925",
   "metadata": {},
   "outputs": [
    {
     "name": "stdout",
     "output_type": "stream",
     "text": [
      "--Return--\n",
      "None\n",
      "> \u001b[32mc:\\users\\eveli\\appdata\\local\\temp\\ipykernel_408\\2730074975.py\u001b[39m(\u001b[92m6\u001b[39m)\u001b[36m<module>\u001b[39m\u001b[34m()\u001b[39m\n",
      "\n",
      "[1, 2, 3]\n",
      "5\n",
      "[5, 3, 8]\n",
      "[1, 2, 3, 5, 3, 8]\n"
     ]
    }
   ],
   "source": [
    "import pdb\n",
    "# Edita o código durante a execução\n",
    "# Pode ter vários ao longo do código\n",
    "\n",
    "# Tentando somar lista com um inteiro\n",
    "x = [1, 2, 3]\n",
    "y = 5\n",
    "\n",
    "pdb.set_trace() # Abre uma caixa e permite adicionar informações durante a execução\n",
    "print(x+y) # Transformei o y em uma lista e somei"
   ]
  },
  {
   "cell_type": "code",
   "execution_count": 13,
   "id": "4407d72f",
   "metadata": {},
   "outputs": [
    {
     "name": "stdout",
     "output_type": "stream",
     "text": [
      "Deu erro, desse tipo aqui: can only concatenate list (not \"int\") to list\n",
      "18\n"
     ]
    }
   ],
   "source": [
    "# Try, except e finally\n",
    "# Evita que o código quebre com um erro\n",
    "# Usado em partes do código sucetível a erros \n",
    "\n",
    "# Tentando somar lista com um inteiro\n",
    "x = [1, 2, 3]\n",
    "y = 5\n",
    "\n",
    "try:\n",
    "    print(x + y) # Tente rodar isso\n",
    "except Exception as e:\n",
    "    print(\"Deu erro, desse tipo aqui: {}\".format(e)) # Se der erro roda esse bloco\n",
    "finally:\n",
    "    print(9 + 9) # Roda independente de ter erro ou não\n",
    "\n",
    "    "
   ]
  },
  {
   "cell_type": "code",
   "execution_count": 1,
   "id": "67986b8d",
   "metadata": {},
   "outputs": [],
   "source": [
    "# Logging\n",
    "# Encontrar erros e acompanhar o código\n",
    "# Arquivo txt que vai anotando o que está acontecendo, decisões tomadas\n",
    "# Pode ter varios tipos de log: Debugger, Info, Warning, ...\n",
    "# Fica salvo até mesmo depois de reiniciar\n",
    "\n",
    "import logging\n",
    "\n",
    "LOG_FORMAT = '%(levelname)s %(asctime)s - %(message)s'\n",
    "logging.basicConfig(filename=\"app.log\", level=logging.DEBUG, format=LOG_FORMAT)\n",
    "\n",
    "log = logging.getLogger()\n",
    "\n",
    "log.info(\"Testando\")\n",
    "log.critical('Erro Grave')\n",
    "log.warning('Erro Grave')\n",
    "log.debug('Erro Grave')\n"
   ]
  }
 ],
 "metadata": {
  "kernelspec": {
   "display_name": "Python 3",
   "language": "python",
   "name": "python3"
  },
  "language_info": {
   "codemirror_mode": {
    "name": "ipython",
    "version": 3
   },
   "file_extension": ".py",
   "mimetype": "text/x-python",
   "name": "python",
   "nbconvert_exporter": "python",
   "pygments_lexer": "ipython3",
   "version": "3.12.4"
  }
 },
 "nbformat": 4,
 "nbformat_minor": 5
}
