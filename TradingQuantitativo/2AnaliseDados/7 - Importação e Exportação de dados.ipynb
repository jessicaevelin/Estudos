{
 "cells": [
  {
   "cell_type": "code",
   "execution_count": null,
   "id": "69668e0f",
   "metadata": {},
   "outputs": [
    {
     "ename": "ModuleNotFoundError",
     "evalue": "No module named 'lxml'",
     "output_type": "error",
     "traceback": [
      "\u001b[31m---------------------------------------------------------------------------\u001b[39m",
      "\u001b[31mModuleNotFoundError\u001b[39m                       Traceback (most recent call last)",
      "\u001b[36mCell\u001b[39m\u001b[36m \u001b[39m\u001b[32mIn[15]\u001b[39m\u001b[32m, line 2\u001b[39m\n\u001b[32m      1\u001b[39m \u001b[38;5;28;01mimport\u001b[39;00m\u001b[38;5;250m \u001b[39m\u001b[34;01mpandas\u001b[39;00m\u001b[38;5;250m \u001b[39m\u001b[38;5;28;01mas\u001b[39;00m\u001b[38;5;250m \u001b[39m\u001b[34;01mpd\u001b[39;00m\n\u001b[32m----> \u001b[39m\u001b[32m2\u001b[39m \u001b[38;5;28;01mimport\u001b[39;00m\u001b[38;5;250m \u001b[39m\u001b[34;01mlxml\u001b[39;00m\n",
      "\u001b[31mModuleNotFoundError\u001b[39m: No module named 'lxml'"
     ]
    }
   ],
   "source": [
    "import pandas as pd"
   ]
  },
  {
   "cell_type": "code",
   "execution_count": 11,
   "id": "7ef22b3c",
   "metadata": {},
   "outputs": [
    {
     "data": {
      "text/html": [
       "<div>\n",
       "<style scoped>\n",
       "    .dataframe tbody tr th:only-of-type {\n",
       "        vertical-align: middle;\n",
       "    }\n",
       "\n",
       "    .dataframe tbody tr th {\n",
       "        vertical-align: top;\n",
       "    }\n",
       "\n",
       "    .dataframe thead th {\n",
       "        text-align: right;\n",
       "    }\n",
       "</style>\n",
       "<table border=\"1\" class=\"dataframe\">\n",
       "  <thead>\n",
       "    <tr style=\"text-align: right;\">\n",
       "      <th></th>\n",
       "      <th>0</th>\n",
       "      <th>1</th>\n",
       "      <th>2</th>\n",
       "      <th>3</th>\n",
       "    </tr>\n",
       "  </thead>\n",
       "  <tbody>\n",
       "    <tr>\n",
       "      <th>0</th>\n",
       "      <td>-0.394813</td>\n",
       "      <td>-0.694630</td>\n",
       "      <td>0.253393</td>\n",
       "      <td>0.602590</td>\n",
       "    </tr>\n",
       "    <tr>\n",
       "      <th>1</th>\n",
       "      <td>-2.134217</td>\n",
       "      <td>1.141381</td>\n",
       "      <td>-0.130142</td>\n",
       "      <td>0.690936</td>\n",
       "    </tr>\n",
       "    <tr>\n",
       "      <th>2</th>\n",
       "      <td>-0.223754</td>\n",
       "      <td>0.365133</td>\n",
       "      <td>-0.104233</td>\n",
       "      <td>-0.182788</td>\n",
       "    </tr>\n",
       "    <tr>\n",
       "      <th>3</th>\n",
       "      <td>0.108066</td>\n",
       "      <td>0.331332</td>\n",
       "      <td>0.053708</td>\n",
       "      <td>-0.280468</td>\n",
       "    </tr>\n",
       "    <tr>\n",
       "      <th>4</th>\n",
       "      <td>0.085290</td>\n",
       "      <td>0.740834</td>\n",
       "      <td>-0.596941</td>\n",
       "      <td>0.243950</td>\n",
       "    </tr>\n",
       "  </tbody>\n",
       "</table>\n",
       "</div>"
      ],
      "text/plain": [
       "          0         1         2         3\n",
       "0 -0.394813 -0.694630  0.253393  0.602590\n",
       "1 -2.134217  1.141381 -0.130142  0.690936\n",
       "2 -0.223754  0.365133 -0.104233 -0.182788\n",
       "3  0.108066  0.331332  0.053708 -0.280468\n",
       "4  0.085290  0.740834 -0.596941  0.243950"
      ]
     },
     "execution_count": 11,
     "metadata": {},
     "output_type": "execute_result"
    }
   ],
   "source": [
    "df = pd.read_csv('Dados/exemplo.csv')\n",
    "df"
   ]
  },
  {
   "cell_type": "code",
   "execution_count": 12,
   "id": "585de94a",
   "metadata": {},
   "outputs": [
    {
     "name": "stdout",
     "output_type": "stream",
     "text": [
      "<class 'pandas.core.frame.DataFrame'>\n",
      "RangeIndex: 5 entries, 0 to 4\n",
      "Data columns (total 4 columns):\n",
      " #   Column  Non-Null Count  Dtype  \n",
      "---  ------  --------------  -----  \n",
      " 0   0       5 non-null      float64\n",
      " 1   1       5 non-null      float64\n",
      " 2   2       5 non-null      float64\n",
      " 3   3       5 non-null      float64\n",
      "dtypes: float64(4)\n",
      "memory usage: 292.0 bytes\n"
     ]
    }
   ],
   "source": [
    "# Tem que verificar se as colunas foram lidas da forma correta\n",
    "df.info()"
   ]
  },
  {
   "cell_type": "code",
   "execution_count": 13,
   "id": "bfdcbaa7",
   "metadata": {},
   "outputs": [
    {
     "data": {
      "text/html": [
       "<div>\n",
       "<style scoped>\n",
       "    .dataframe tbody tr th:only-of-type {\n",
       "        vertical-align: middle;\n",
       "    }\n",
       "\n",
       "    .dataframe tbody tr th {\n",
       "        vertical-align: top;\n",
       "    }\n",
       "\n",
       "    .dataframe thead th {\n",
       "        text-align: right;\n",
       "    }\n",
       "</style>\n",
       "<table border=\"1\" class=\"dataframe\">\n",
       "  <thead>\n",
       "    <tr style=\"text-align: right;\">\n",
       "      <th></th>\n",
       "      <th>Unnamed: 0</th>\n",
       "      <th>A</th>\n",
       "      <th>B</th>\n",
       "      <th>C</th>\n",
       "    </tr>\n",
       "  </thead>\n",
       "  <tbody>\n",
       "    <tr>\n",
       "      <th>0</th>\n",
       "      <td>1</td>\n",
       "      <td>A1</td>\n",
       "      <td>BA1</td>\n",
       "      <td>CBA1</td>\n",
       "    </tr>\n",
       "    <tr>\n",
       "      <th>1</th>\n",
       "      <td>2</td>\n",
       "      <td>A12</td>\n",
       "      <td>BA1A12</td>\n",
       "      <td>CBA1BA1A12</td>\n",
       "    </tr>\n",
       "    <tr>\n",
       "      <th>2</th>\n",
       "      <td>3</td>\n",
       "      <td>A123</td>\n",
       "      <td>BA1A12A123</td>\n",
       "      <td>CBA1BA1A12BA1A12A123</td>\n",
       "    </tr>\n",
       "  </tbody>\n",
       "</table>\n",
       "</div>"
      ],
      "text/plain": [
       "   Unnamed: 0     A           B                     C\n",
       "0           1    A1         BA1                  CBA1\n",
       "1           2   A12      BA1A12            CBA1BA1A12\n",
       "2           3  A123  BA1A12A123  CBA1BA1A12BA1A12A123"
      ]
     },
     "execution_count": 13,
     "metadata": {},
     "output_type": "execute_result"
    }
   ],
   "source": [
    "# Instalar esse bibliotecas\n",
    "# !pip install xlrd\n",
    "# !pip install openpyxl\n",
    "\n",
    "pd.read_excel('Dados/Exemplo.xlsx')"
   ]
  },
  {
   "cell_type": "code",
   "execution_count": 18,
   "id": "b592a1d3",
   "metadata": {},
   "outputs": [
    {
     "name": "stderr",
     "output_type": "stream",
     "text": [
      "\n",
      "[notice] A new release of pip is available: 24.2 -> 25.1.1\n",
      "[notice] To update, run: python.exe -m pip install --upgrade pip\n"
     ]
    },
    {
     "name": "stdout",
     "output_type": "stream",
     "text": [
      "Collecting lxml\n",
      "  Using cached lxml-6.0.0-cp312-cp312-win_amd64.whl.metadata (6.8 kB)\n",
      "Using cached lxml-6.0.0-cp312-cp312-win_amd64.whl (4.0 MB)\n",
      "Installing collected packages: lxml\n",
      "Successfully installed lxml-6.0.0\n"
     ]
    },
    {
     "data": {
      "text/plain": [
       "[                               Bank Name               City         State  \\\n",
       " 0                   Pulaski Savings Bank            Chicago      Illinois   \n",
       " 1     The First National Bank of Lindsay            Lindsay      Oklahoma   \n",
       " 2  Republic First Bank dba Republic Bank       Philadelphia  Pennsylvania   \n",
       " 3                          Citizens Bank           Sac City          Iowa   \n",
       " 4               Heartland Tri-State Bank            Elkhart        Kansas   \n",
       " 5                    First Republic Bank      San Francisco    California   \n",
       " 6                         Signature Bank           New York      New York   \n",
       " 7                    Silicon Valley Bank        Santa Clara    California   \n",
       " 8                      Almena State Bank             Almena        Kansas   \n",
       " 9             First City Bank of Florida  Fort Walton Beach       Florida   \n",
       " \n",
       "     Cert                Acquiring Institution      Closing Date  \\\n",
       " 0  28611                      Millennium Bank  January 17, 2025   \n",
       " 1   4134   First Bank & Trust Co., Duncan, OK  October 18, 2024   \n",
       " 2  27332    Fulton Bank, National Association    April 26, 2024   \n",
       " 3   8758            Iowa Trust & Savings Bank  November 3, 2023   \n",
       " 4  25851               Dream First Bank, N.A.     July 28, 2023   \n",
       " 5  59017            JPMorgan Chase Bank, N.A.       May 1, 2023   \n",
       " 6  57053                  Flagstar Bank, N.A.    March 12, 2023   \n",
       " 7  24735  First Citizens Bank & Trust Company    March 10, 2023   \n",
       " 8  15426                          Equity Bank  October 23, 2020   \n",
       " 9  16748            United Fidelity Bank, fsb  October 16, 2020   \n",
       " \n",
       "    Fund  Sort ascending  \n",
       " 0                 10548  \n",
       " 1                 10547  \n",
       " 2                 10546  \n",
       " 3                 10545  \n",
       " 4                 10544  \n",
       " 5                 10543  \n",
       " 6                 10540  \n",
       " 7                 10539  \n",
       " 8                 10538  \n",
       " 9                 10537  ]"
      ]
     },
     "execution_count": 18,
     "metadata": {},
     "output_type": "execute_result"
    }
   ],
   "source": [
    "!pip install lxml\n",
    "\n",
    "pd.read_html('https://www.fdic.gov/bank-failures/failed-bank-list')"
   ]
  },
  {
   "cell_type": "code",
   "execution_count": null,
   "id": "80106a43",
   "metadata": {},
   "outputs": [
    {
     "data": {
      "text/html": [
       "<div>\n",
       "<style scoped>\n",
       "    .dataframe tbody tr th:only-of-type {\n",
       "        vertical-align: middle;\n",
       "    }\n",
       "\n",
       "    .dataframe tbody tr th {\n",
       "        vertical-align: top;\n",
       "    }\n",
       "\n",
       "    .dataframe thead th {\n",
       "        text-align: right;\n",
       "    }\n",
       "</style>\n",
       "<table border=\"1\" class=\"dataframe\">\n",
       "  <thead>\n",
       "    <tr style=\"text-align: right;\">\n",
       "      <th></th>\n",
       "      <th>lipboa</th>\n",
       "    </tr>\n",
       "  </thead>\n",
       "  <tbody>\n",
       "  </tbody>\n",
       "</table>\n",
       "</div>"
      ],
      "text/plain": [
       "Empty DataFrame\n",
       "Columns: [lipboa]\n",
       "Index: []"
      ]
     },
     "execution_count": 21,
     "metadata": {},
     "output_type": "execute_result"
    }
   ],
   "source": [
    "# Informações que estão no copiar\n",
    "pd.read_clipboard()"
   ]
  }
 ],
 "metadata": {
  "kernelspec": {
   "display_name": "Python 3",
   "language": "python",
   "name": "python3"
  },
  "language_info": {
   "codemirror_mode": {
    "name": "ipython",
    "version": 3
   },
   "file_extension": ".py",
   "mimetype": "text/x-python",
   "name": "python",
   "nbconvert_exporter": "python",
   "pygments_lexer": "ipython3",
   "version": "3.12.4"
  }
 },
 "nbformat": 4,
 "nbformat_minor": 5
}
