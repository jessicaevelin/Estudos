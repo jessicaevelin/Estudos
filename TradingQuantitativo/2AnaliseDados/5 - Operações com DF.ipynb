{
 "cells": [
  {
   "cell_type": "markdown",
   "id": "ed3959b2",
   "metadata": {},
   "source": [
    "# Operações com DF"
   ]
  },
  {
   "cell_type": "code",
   "execution_count": 28,
   "id": "c0b5cdac",
   "metadata": {},
   "outputs": [
    {
     "name": "stdout",
     "output_type": "stream",
     "text": [
      "     Nome  Idade                                          Descricao\n",
      "0  Nome_0     25  Descricao longa com muito texto Descricao long...\n",
      "1  Nome_1     25  Descricao longa com muito texto Descricao long...\n",
      "2  Nome_2     99  Descricao longa com muito texto Descricao long...\n"
     ]
    }
   ],
   "source": [
    "import pandas as pd\n",
    "import numpy as np\n",
    "\n",
    "# Número de linhas\n",
    "n = 3\n",
    "\n",
    "# Gerar dados\n",
    "nomes = ['Nome_' + str(i) for i in range(n)]\n",
    "idades = [25,25,99]\n",
    "descricoes = ['Descricao longa com muito texto ' * 10 for _ in range(n)]  # string longa repetida\n",
    "\n",
    "# Criar o DataFrame\n",
    "df = pd.DataFrame({\n",
    "    'Nome': nomes,\n",
    "    'Idade': idades,\n",
    "    'Descricao': descricoes\n",
    "})\n",
    "\n",
    "# Exibir o DataFrame\n",
    "print(df)"
   ]
  },
  {
   "cell_type": "markdown",
   "id": "8f7df573",
   "metadata": {},
   "source": [
    "As vezes algumas series são muito pesadas, consomem muita memória, pode ser que vale a pena remover ela temporariamente das análises.\n",
    "\n",
    "Sempre verificar se os dados são números ou objetos"
   ]
  },
  {
   "cell_type": "code",
   "execution_count": 29,
   "id": "1ee52dd7",
   "metadata": {},
   "outputs": [
    {
     "name": "stdout",
     "output_type": "stream",
     "text": [
      "<class 'pandas.core.frame.DataFrame'>\n",
      "RangeIndex: 3 entries, 0 to 2\n",
      "Data columns (total 3 columns):\n",
      " #   Column     Non-Null Count  Dtype \n",
      "---  ------     --------------  ----- \n",
      " 0   Nome       3 non-null      object\n",
      " 1   Idade      3 non-null      int64 \n",
      " 2   Descricao  3 non-null      object\n",
      "dtypes: int64(1), object(2)\n",
      "memory usage: 204.0+ bytes\n"
     ]
    }
   ],
   "source": [
    "df.info()"
   ]
  },
  {
   "cell_type": "code",
   "execution_count": 30,
   "id": "36e328a9",
   "metadata": {},
   "outputs": [
    {
     "data": {
      "text/plain": [
       "Index         132\n",
       "Nome          165\n",
       "Idade          24\n",
       "Descricao    1107\n",
       "dtype: int64"
      ]
     },
     "execution_count": 30,
     "metadata": {},
     "output_type": "execute_result"
    }
   ],
   "source": [
    "# Nesse caso Descrição consome muita memória RAM, pode valer a pena tirar ele da análise\n",
    "df.memory_usage(deep=True) "
   ]
  },
  {
   "cell_type": "code",
   "execution_count": 31,
   "id": "ee625476",
   "metadata": {},
   "outputs": [
    {
     "data": {
      "text/plain": [
       "array([25, 99])"
      ]
     },
     "execution_count": 31,
     "metadata": {},
     "output_type": "execute_result"
    }
   ],
   "source": [
    "# Valores únicos\n",
    "df['Idade'].unique()"
   ]
  },
  {
   "cell_type": "code",
   "execution_count": 32,
   "id": "9dceeca7",
   "metadata": {},
   "outputs": [
    {
     "data": {
      "text/plain": [
       "2"
      ]
     },
     "execution_count": 32,
     "metadata": {},
     "output_type": "execute_result"
    }
   ],
   "source": [
    "# Quantidade de valores únicos\n",
    "df['Idade'].nunique()"
   ]
  },
  {
   "cell_type": "code",
   "execution_count": 33,
   "id": "d8013dff",
   "metadata": {},
   "outputs": [
    {
     "data": {
      "text/plain": [
       "Idade\n",
       "25    2\n",
       "99    1\n",
       "Name: count, dtype: int64"
      ]
     },
     "execution_count": 33,
     "metadata": {},
     "output_type": "execute_result"
    }
   ],
   "source": [
    "# Valores únicos e quantidades\n",
    "df['Idade'].value_counts()"
   ]
  },
  {
   "cell_type": "markdown",
   "id": "fe8212e0",
   "metadata": {},
   "source": [
    "## Funções"
   ]
  },
  {
   "cell_type": "code",
   "execution_count": 34,
   "id": "9c1e5a0b",
   "metadata": {},
   "outputs": [
    {
     "name": "stdout",
     "output_type": "stream",
     "text": [
      "----\n"
     ]
    },
    {
     "data": {
      "text/html": [
       "<div>\n",
       "<style scoped>\n",
       "    .dataframe tbody tr th:only-of-type {\n",
       "        vertical-align: middle;\n",
       "    }\n",
       "\n",
       "    .dataframe tbody tr th {\n",
       "        vertical-align: top;\n",
       "    }\n",
       "\n",
       "    .dataframe thead th {\n",
       "        text-align: right;\n",
       "    }\n",
       "</style>\n",
       "<table border=\"1\" class=\"dataframe\">\n",
       "  <thead>\n",
       "    <tr style=\"text-align: right;\">\n",
       "      <th></th>\n",
       "      <th>Idade</th>\n",
       "    </tr>\n",
       "  </thead>\n",
       "  <tbody>\n",
       "    <tr>\n",
       "      <th>0</th>\n",
       "      <td>1025</td>\n",
       "    </tr>\n",
       "    <tr>\n",
       "      <th>1</th>\n",
       "      <td>1025</td>\n",
       "    </tr>\n",
       "    <tr>\n",
       "      <th>2</th>\n",
       "      <td>1099</td>\n",
       "    </tr>\n",
       "  </tbody>\n",
       "</table>\n",
       "</div>"
      ],
      "text/plain": [
       "   Idade\n",
       "0   1025\n",
       "1   1025\n",
       "2   1099"
      ]
     },
     "execution_count": 34,
     "metadata": {},
     "output_type": "execute_result"
    }
   ],
   "source": [
    "def calcula(x):\n",
    "    return x + 1000\n",
    "\n",
    "df[['Idade']].apply(calcula)\n",
    "\n",
    "print('----')\n",
    "\n",
    "df[['Idade']].apply(lambda x: x+1000)"
   ]
  },
  {
   "cell_type": "code",
   "execution_count": 35,
   "id": "998774b0",
   "metadata": {},
   "outputs": [
    {
     "name": "stdout",
     "output_type": "stream",
     "text": [
      "Idade    99\n",
      "dtype: int64\n",
      "----\n",
      "Idade    2\n",
      "dtype: int64\n"
     ]
    }
   ],
   "source": [
    "# Maior valor\n",
    "print(df[['Idade']].max())\n",
    "print('----')\n",
    "\n",
    "# Pega o índice do maior valor\n",
    "print(df[['Idade']].idxmax())"
   ]
  },
  {
   "cell_type": "code",
   "execution_count": 36,
   "id": "1e5fe29f",
   "metadata": {},
   "outputs": [
    {
     "name": "stdout",
     "output_type": "stream",
     "text": [
      "     Nome  Idade                                          Descricao\n",
      "0  Nome_0     25  Descricao longa com muito texto Descricao long...\n",
      "1  Nome_1     25  Descricao longa com muito texto Descricao long...\n",
      "----\n",
      "Nome                                              Nome_0Nome_1\n",
      "Idade                                                       50\n",
      "Descricao    Descricao longa com muito texto Descricao long...\n",
      "dtype: object\n"
     ]
    }
   ],
   "source": [
    "print(df[df['Idade'] == 25])\n",
    "print('----')\n",
    "print(df[df['Idade'] == 25].sum())"
   ]
  },
  {
   "cell_type": "code",
   "execution_count": 37,
   "id": "125e7fa9",
   "metadata": {},
   "outputs": [
    {
     "data": {
      "text/html": [
       "<div>\n",
       "<style scoped>\n",
       "    .dataframe tbody tr th:only-of-type {\n",
       "        vertical-align: middle;\n",
       "    }\n",
       "\n",
       "    .dataframe tbody tr th {\n",
       "        vertical-align: top;\n",
       "    }\n",
       "\n",
       "    .dataframe thead th {\n",
       "        text-align: right;\n",
       "    }\n",
       "</style>\n",
       "<table border=\"1\" class=\"dataframe\">\n",
       "  <thead>\n",
       "    <tr style=\"text-align: right;\">\n",
       "      <th></th>\n",
       "      <th>Nome</th>\n",
       "      <th>Idade</th>\n",
       "      <th>Descricao</th>\n",
       "    </tr>\n",
       "  </thead>\n",
       "  <tbody>\n",
       "    <tr>\n",
       "      <th>0</th>\n",
       "      <td>Nome_0</td>\n",
       "      <td>25</td>\n",
       "      <td>Descricao longa com muito texto Descricao long...</td>\n",
       "    </tr>\n",
       "    <tr>\n",
       "      <th>1</th>\n",
       "      <td>Nome_1</td>\n",
       "      <td>25</td>\n",
       "      <td>Descricao longa com muito texto Descricao long...</td>\n",
       "    </tr>\n",
       "    <tr>\n",
       "      <th>2</th>\n",
       "      <td>Nome_2</td>\n",
       "      <td>99</td>\n",
       "      <td>Descricao longa com muito texto Descricao long...</td>\n",
       "    </tr>\n",
       "  </tbody>\n",
       "</table>\n",
       "</div>"
      ],
      "text/plain": [
       "     Nome  Idade                                          Descricao\n",
       "0  Nome_0     25  Descricao longa com muito texto Descricao long...\n",
       "1  Nome_1     25  Descricao longa com muito texto Descricao long...\n",
       "2  Nome_2     99  Descricao longa com muito texto Descricao long..."
      ]
     },
     "execution_count": 37,
     "metadata": {},
     "output_type": "execute_result"
    }
   ],
   "source": [
    "# Ordena pela idade\n",
    "df.sort_values(by='Idade')"
   ]
  },
  {
   "cell_type": "markdown",
   "id": "b56dc109",
   "metadata": {},
   "source": [
    "## Classificando"
   ]
  },
  {
   "cell_type": "code",
   "execution_count": 48,
   "id": "ceb62a4c",
   "metadata": {},
   "outputs": [
    {
     "data": {
      "text/html": [
       "<div>\n",
       "<style scoped>\n",
       "    .dataframe tbody tr th:only-of-type {\n",
       "        vertical-align: middle;\n",
       "    }\n",
       "\n",
       "    .dataframe tbody tr th {\n",
       "        vertical-align: top;\n",
       "    }\n",
       "\n",
       "    .dataframe thead th {\n",
       "        text-align: right;\n",
       "    }\n",
       "</style>\n",
       "<table border=\"1\" class=\"dataframe\">\n",
       "  <thead>\n",
       "    <tr style=\"text-align: right;\">\n",
       "      <th></th>\n",
       "      <th>Comida</th>\n",
       "      <th>Preço</th>\n",
       "    </tr>\n",
       "  </thead>\n",
       "  <tbody>\n",
       "    <tr>\n",
       "      <th>0</th>\n",
       "      <td>Laranja</td>\n",
       "      <td>10</td>\n",
       "    </tr>\n",
       "    <tr>\n",
       "      <th>1</th>\n",
       "      <td>Laranja</td>\n",
       "      <td>25</td>\n",
       "    </tr>\n",
       "    <tr>\n",
       "      <th>2</th>\n",
       "      <td>Laranja</td>\n",
       "      <td>13</td>\n",
       "    </tr>\n",
       "    <tr>\n",
       "      <th>3</th>\n",
       "      <td>Cebola</td>\n",
       "      <td>65</td>\n",
       "    </tr>\n",
       "    <tr>\n",
       "      <th>4</th>\n",
       "      <td>Cebola</td>\n",
       "      <td>32</td>\n",
       "    </tr>\n",
       "  </tbody>\n",
       "</table>\n",
       "</div>"
      ],
      "text/plain": [
       "    Comida  Preço\n",
       "0  Laranja     10\n",
       "1  Laranja     25\n",
       "2  Laranja     13\n",
       "3   Cebola     65\n",
       "4   Cebola     32"
      ]
     },
     "execution_count": 48,
     "metadata": {},
     "output_type": "execute_result"
    }
   ],
   "source": [
    "df = pd.DataFrame({'Comida':['Laranja', 'Laranja', 'Laranja', 'Cebola', 'Cebola'],\n",
    "                   'Preço': [10, 25, 13, 65, 32]})\n",
    "dict_map = {'Laranja':'Fruta', 'Cebola':'Verdura'}\n",
    "df"
   ]
  },
  {
   "cell_type": "code",
   "execution_count": 49,
   "id": "e56f1cb5",
   "metadata": {},
   "outputs": [
    {
     "data": {
      "text/html": [
       "<div>\n",
       "<style scoped>\n",
       "    .dataframe tbody tr th:only-of-type {\n",
       "        vertical-align: middle;\n",
       "    }\n",
       "\n",
       "    .dataframe tbody tr th {\n",
       "        vertical-align: top;\n",
       "    }\n",
       "\n",
       "    .dataframe thead th {\n",
       "        text-align: right;\n",
       "    }\n",
       "</style>\n",
       "<table border=\"1\" class=\"dataframe\">\n",
       "  <thead>\n",
       "    <tr style=\"text-align: right;\">\n",
       "      <th></th>\n",
       "      <th>Comida</th>\n",
       "      <th>Preço</th>\n",
       "      <th>Tipo</th>\n",
       "    </tr>\n",
       "  </thead>\n",
       "  <tbody>\n",
       "    <tr>\n",
       "      <th>0</th>\n",
       "      <td>Laranja</td>\n",
       "      <td>10</td>\n",
       "      <td>Fruta</td>\n",
       "    </tr>\n",
       "    <tr>\n",
       "      <th>1</th>\n",
       "      <td>Laranja</td>\n",
       "      <td>25</td>\n",
       "      <td>Fruta</td>\n",
       "    </tr>\n",
       "    <tr>\n",
       "      <th>2</th>\n",
       "      <td>Laranja</td>\n",
       "      <td>13</td>\n",
       "      <td>Fruta</td>\n",
       "    </tr>\n",
       "    <tr>\n",
       "      <th>3</th>\n",
       "      <td>Cebola</td>\n",
       "      <td>65</td>\n",
       "      <td>Verdura</td>\n",
       "    </tr>\n",
       "    <tr>\n",
       "      <th>4</th>\n",
       "      <td>Cebola</td>\n",
       "      <td>32</td>\n",
       "      <td>Verdura</td>\n",
       "    </tr>\n",
       "  </tbody>\n",
       "</table>\n",
       "</div>"
      ],
      "text/plain": [
       "    Comida  Preço     Tipo\n",
       "0  Laranja     10    Fruta\n",
       "1  Laranja     25    Fruta\n",
       "2  Laranja     13    Fruta\n",
       "3   Cebola     65  Verdura\n",
       "4   Cebola     32  Verdura"
      ]
     },
     "execution_count": 49,
     "metadata": {},
     "output_type": "execute_result"
    }
   ],
   "source": [
    "df['Tipo'] = df['Comida'].map(dict_map)\n",
    "df"
   ]
  },
  {
   "cell_type": "markdown",
   "id": "9665a523",
   "metadata": {},
   "source": [
    "## Modificando a tabela"
   ]
  },
  {
   "cell_type": "code",
   "execution_count": null,
   "id": "6078a43b",
   "metadata": {},
   "outputs": [
    {
     "data": {
      "text/html": [
       "<div>\n",
       "<style scoped>\n",
       "    .dataframe tbody tr th:only-of-type {\n",
       "        vertical-align: middle;\n",
       "    }\n",
       "\n",
       "    .dataframe tbody tr th {\n",
       "        vertical-align: top;\n",
       "    }\n",
       "\n",
       "    .dataframe thead th {\n",
       "        text-align: right;\n",
       "    }\n",
       "</style>\n",
       "<table border=\"1\" class=\"dataframe\">\n",
       "  <thead>\n",
       "    <tr style=\"text-align: right;\">\n",
       "      <th>Comida</th>\n",
       "      <th>Cebola</th>\n",
       "      <th>Laranja</th>\n",
       "    </tr>\n",
       "    <tr>\n",
       "      <th>Tipo</th>\n",
       "      <th></th>\n",
       "      <th></th>\n",
       "    </tr>\n",
       "  </thead>\n",
       "  <tbody>\n",
       "    <tr>\n",
       "      <th>Fruta</th>\n",
       "      <td>NaN</td>\n",
       "      <td>16.0</td>\n",
       "    </tr>\n",
       "    <tr>\n",
       "      <th>Verdura</th>\n",
       "      <td>48.5</td>\n",
       "      <td>NaN</td>\n",
       "    </tr>\n",
       "  </tbody>\n",
       "</table>\n",
       "</div>"
      ],
      "text/plain": [
       "Comida   Cebola  Laranja\n",
       "Tipo                    \n",
       "Fruta       NaN     16.0\n",
       "Verdura    48.5      NaN"
      ]
     },
     "execution_count": 53,
     "metadata": {},
     "output_type": "execute_result"
    }
   ],
   "source": [
    "df.pivot_table(index=\"Tipo\", columns='Comida', values='Preço')"
   ]
  }
 ],
 "metadata": {
  "kernelspec": {
   "display_name": "Python 3",
   "language": "python",
   "name": "python3"
  },
  "language_info": {
   "codemirror_mode": {
    "name": "ipython",
    "version": 3
   },
   "file_extension": ".py",
   "mimetype": "text/x-python",
   "name": "python",
   "nbconvert_exporter": "python",
   "pygments_lexer": "ipython3",
   "version": "3.12.4"
  }
 },
 "nbformat": 4,
 "nbformat_minor": 5
}
