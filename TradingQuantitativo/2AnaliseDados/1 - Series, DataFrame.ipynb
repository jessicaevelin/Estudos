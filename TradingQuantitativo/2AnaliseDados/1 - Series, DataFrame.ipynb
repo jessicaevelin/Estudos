{
 "cells": [
  {
   "cell_type": "markdown",
   "id": "9b6cf13c",
   "metadata": {},
   "source": [
    "# Análise de dados com Pandas e SQL\n",
    "\n",
    "DataFrame = Tabelas\n",
    "\n",
    "Series = Colunas\n",
    "\n",
    "Indices = Linhas"
   ]
  },
  {
   "cell_type": "code",
   "execution_count": 123,
   "id": "10d6aa86",
   "metadata": {},
   "outputs": [],
   "source": [
    "import pandas as pd\n",
    "import numpy as np\n",
    "from numpy.random import randn"
   ]
  },
  {
   "cell_type": "markdown",
   "id": "09fe4302",
   "metadata": {},
   "source": [
    "## Series"
   ]
  },
  {
   "cell_type": "markdown",
   "id": "159f491a",
   "metadata": {},
   "source": [
    "### Criando Series apartir de outros objetos"
   ]
  },
  {
   "cell_type": "code",
   "execution_count": 124,
   "id": "8cf60f56",
   "metadata": {},
   "outputs": [
    {
     "name": "stdout",
     "output_type": "stream",
     "text": [
      "0    jessica\n",
      "1     evelin\n",
      "2      silva\n",
      "dtype: object\n",
      "----\n",
      "indice_d    10\n",
      "indice_e    20\n",
      "indice_f    30\n",
      "dtype: int64\n",
      "----\n",
      "jessica    40\n",
      "evelin     50\n",
      "silva      60\n",
      "dtype: int64\n"
     ]
    }
   ],
   "source": [
    "lista = ['jessica','evelin','silva']\n",
    "print(pd.Series(lista))\n",
    "print('----')\n",
    "\n",
    "dicionario = {'indice_d': 10, 'indice_e': 20, 'indice_f': 30}\n",
    "print(pd.Series(dicionario))\n",
    "print('----')\n",
    "\n",
    "array = np.array([40, 50, 60])\n",
    "print(pd.Series(data = array, index = lista))"
   ]
  },
  {
   "cell_type": "markdown",
   "id": "1b4bb983",
   "metadata": {},
   "source": [
    "### Selecionando valores de Series"
   ]
  },
  {
   "cell_type": "code",
   "execution_count": 125,
   "id": "bc0556bd",
   "metadata": {},
   "outputs": [
    {
     "name": "stdout",
     "output_type": "stream",
     "text": [
      "EUA           5\n",
      "Brasil        7\n",
      "Argentina    12\n",
      "China         3\n",
      "dtype: int64\n",
      "----\n",
      "EUA          10\n",
      "Chile        20\n",
      "Argentina    30\n",
      "China        40\n",
      "dtype: int64\n",
      "----\n",
      "Brasil    7\n",
      "EUA       5\n",
      "dtype: int64\n",
      "----\n",
      "EUA    5\n",
      "dtype: int64\n",
      "----\n"
     ]
    }
   ],
   "source": [
    "paises_a = pd.Series([5,7,12,3], index=['EUA', 'Brasil', 'Argentina', 'China'])\n",
    "paises_b = pd.Series([10,20,30,40], index=['EUA', 'Chile', 'Argentina', 'China'])\n",
    "\n",
    "print(paises_a)\n",
    "print('----')\n",
    "\n",
    "print(paises_b)\n",
    "print('----')\n",
    "\n",
    "print(paises_a[['Brasil', 'EUA']])\n",
    "print('----')\n",
    "\n",
    "print(paises_a[['EUA']])\n",
    "print('----')"
   ]
  },
  {
   "cell_type": "markdown",
   "id": "02859838",
   "metadata": {},
   "source": [
    "### Somando Series"
   ]
  },
  {
   "cell_type": "code",
   "execution_count": 126,
   "id": "33d48b12",
   "metadata": {},
   "outputs": [
    {
     "name": "stdout",
     "output_type": "stream",
     "text": [
      "Argentina    42.0\n",
      "Brasil        NaN\n",
      "Chile         NaN\n",
      "China        43.0\n",
      "EUA          15.0\n",
      "dtype: float64\n"
     ]
    }
   ],
   "source": [
    "print(paises_a + paises_b)"
   ]
  },
  {
   "cell_type": "markdown",
   "id": "991b9fa0",
   "metadata": {},
   "source": [
    "## DataFrames"
   ]
  },
  {
   "cell_type": "markdown",
   "id": "ed937370",
   "metadata": {},
   "source": [
    "### Criando um DF"
   ]
  },
  {
   "cell_type": "code",
   "execution_count": 127,
   "id": "f8e21d82",
   "metadata": {},
   "outputs": [
    {
     "data": {
      "text/html": [
       "<div>\n",
       "<style scoped>\n",
       "    .dataframe tbody tr th:only-of-type {\n",
       "        vertical-align: middle;\n",
       "    }\n",
       "\n",
       "    .dataframe tbody tr th {\n",
       "        vertical-align: top;\n",
       "    }\n",
       "\n",
       "    .dataframe thead th {\n",
       "        text-align: right;\n",
       "    }\n",
       "</style>\n",
       "<table border=\"1\" class=\"dataframe\">\n",
       "  <thead>\n",
       "    <tr style=\"text-align: right;\">\n",
       "      <th></th>\n",
       "      <th>W</th>\n",
       "      <th>X</th>\n",
       "      <th>Y</th>\n",
       "      <th>Z</th>\n",
       "    </tr>\n",
       "  </thead>\n",
       "  <tbody>\n",
       "    <tr>\n",
       "      <th>A</th>\n",
       "      <td>-1.320057</td>\n",
       "      <td>0.304043</td>\n",
       "      <td>0.890093</td>\n",
       "      <td>0.316054</td>\n",
       "    </tr>\n",
       "    <tr>\n",
       "      <th>B</th>\n",
       "      <td>-0.959424</td>\n",
       "      <td>-0.165018</td>\n",
       "      <td>0.138236</td>\n",
       "      <td>-0.572100</td>\n",
       "    </tr>\n",
       "    <tr>\n",
       "      <th>C</th>\n",
       "      <td>0.513406</td>\n",
       "      <td>-0.739937</td>\n",
       "      <td>-0.162824</td>\n",
       "      <td>-0.162644</td>\n",
       "    </tr>\n",
       "    <tr>\n",
       "      <th>D</th>\n",
       "      <td>-0.748151</td>\n",
       "      <td>0.028932</td>\n",
       "      <td>-0.072481</td>\n",
       "      <td>-0.808714</td>\n",
       "    </tr>\n",
       "    <tr>\n",
       "      <th>E</th>\n",
       "      <td>0.802790</td>\n",
       "      <td>1.404954</td>\n",
       "      <td>-0.591995</td>\n",
       "      <td>0.448872</td>\n",
       "    </tr>\n",
       "  </tbody>\n",
       "</table>\n",
       "</div>"
      ],
      "text/plain": [
       "          W         X         Y         Z\n",
       "A -1.320057  0.304043  0.890093  0.316054\n",
       "B -0.959424 -0.165018  0.138236 -0.572100\n",
       "C  0.513406 -0.739937 -0.162824 -0.162644\n",
       "D -0.748151  0.028932 -0.072481 -0.808714\n",
       "E  0.802790  1.404954 -0.591995  0.448872"
      ]
     },
     "execution_count": 127,
     "metadata": {},
     "output_type": "execute_result"
    }
   ],
   "source": [
    "df = pd.DataFrame(randn(5,4), index=['A','B','C','D', 'E'], columns ='W X Y Z'.split()) # split e uma outra forma de fazer uma lista\n",
    "df"
   ]
  },
  {
   "cell_type": "markdown",
   "id": "4f094313",
   "metadata": {},
   "source": [
    "### Selecionando colunas/Series\n",
    "\n",
    "Toda a seleção com duplas [[]], retorna um data frame\n",
    "\n",
    "E as com [] simples, retorna uma Series"
   ]
  },
  {
   "cell_type": "code",
   "execution_count": 128,
   "id": "27bba839",
   "metadata": {},
   "outputs": [
    {
     "name": "stdout",
     "output_type": "stream",
     "text": [
      "A   -1.320057\n",
      "B   -0.959424\n",
      "C    0.513406\n",
      "D   -0.748151\n",
      "E    0.802790\n",
      "Name: W, dtype: float64\n",
      "<class 'pandas.core.series.Series'>\n",
      "----\n",
      "          W\n",
      "A -1.320057\n",
      "B -0.959424\n",
      "C  0.513406\n",
      "D -0.748151\n",
      "E  0.802790\n",
      "<class 'pandas.core.frame.DataFrame'>\n"
     ]
    }
   ],
   "source": [
    "# Retorna em Series\n",
    "print(df['W'])\n",
    "df.iloc[2,2] # Selecionado pela linha e pela coluna\n",
    "print(type(df['W']))\n",
    "print('----')\n",
    "\n",
    "# Retorna em DataFrame\n",
    "print(df[['W']])\n",
    "df.iloc[[2,2]] # Selecionado pela linha e pela coluna\n",
    "print(type(df[['W']]))"
   ]
  },
  {
   "cell_type": "code",
   "execution_count": 129,
   "id": "d0566dcc",
   "metadata": {},
   "outputs": [
    {
     "data": {
      "text/plain": [
       "W    0.802790\n",
       "X    1.404954\n",
       "Y   -0.591995\n",
       "Z    0.448872\n",
       "Name: E, dtype: float64"
      ]
     },
     "execution_count": 129,
     "metadata": {},
     "output_type": "execute_result"
    }
   ],
   "source": [
    "# Loc é para o nome das colunas\n",
    "df.loc[:] # Tudo\n",
    "df.loc[['A','C'],:] # Apenas algumas linhas\n",
    "df.loc[:,['X','Y']] # Apenas algumas colunas\n",
    "df.loc[['B'],['X']] # Selecionado pela linha e pela coluna\n",
    "\n",
    "# Iloc é para os números e posições\n",
    "df.iloc[:] # Tudo\n",
    "df.iloc[1:3,:] # Apenas algumas linhas\n",
    "df.iloc[:,2:4] # Apenas algumas colunas\n",
    "df.iloc[[2,2]] # Selecionado pela linha e pela coluna\n",
    "df.iloc[-1,:] # Tudo menos a última linha"
   ]
  },
  {
   "cell_type": "markdown",
   "id": "6a59b13d",
   "metadata": {},
   "source": [
    "### Adicionando Colunas/Series"
   ]
  },
  {
   "cell_type": "code",
   "execution_count": 130,
   "id": "da92cdb6",
   "metadata": {},
   "outputs": [
    {
     "data": {
      "text/html": [
       "<div>\n",
       "<style scoped>\n",
       "    .dataframe tbody tr th:only-of-type {\n",
       "        vertical-align: middle;\n",
       "    }\n",
       "\n",
       "    .dataframe tbody tr th {\n",
       "        vertical-align: top;\n",
       "    }\n",
       "\n",
       "    .dataframe thead th {\n",
       "        text-align: right;\n",
       "    }\n",
       "</style>\n",
       "<table border=\"1\" class=\"dataframe\">\n",
       "  <thead>\n",
       "    <tr style=\"text-align: right;\">\n",
       "      <th></th>\n",
       "      <th>W</th>\n",
       "      <th>X</th>\n",
       "      <th>Y</th>\n",
       "      <th>Z</th>\n",
       "      <th>NovaColuna</th>\n",
       "    </tr>\n",
       "  </thead>\n",
       "  <tbody>\n",
       "    <tr>\n",
       "      <th>A</th>\n",
       "      <td>-1.320057</td>\n",
       "      <td>0.304043</td>\n",
       "      <td>0.890093</td>\n",
       "      <td>0.316054</td>\n",
       "      <td>999.598646</td>\n",
       "    </tr>\n",
       "    <tr>\n",
       "      <th>B</th>\n",
       "      <td>-0.959424</td>\n",
       "      <td>-0.165018</td>\n",
       "      <td>0.138236</td>\n",
       "      <td>-0.572100</td>\n",
       "      <td>1000.158322</td>\n",
       "    </tr>\n",
       "    <tr>\n",
       "      <th>C</th>\n",
       "      <td>0.513406</td>\n",
       "      <td>-0.739937</td>\n",
       "      <td>-0.162824</td>\n",
       "      <td>-0.162644</td>\n",
       "      <td>999.620111</td>\n",
       "    </tr>\n",
       "    <tr>\n",
       "      <th>D</th>\n",
       "      <td>-0.748151</td>\n",
       "      <td>0.028932</td>\n",
       "      <td>-0.072481</td>\n",
       "      <td>-0.808714</td>\n",
       "      <td>999.978354</td>\n",
       "    </tr>\n",
       "    <tr>\n",
       "      <th>E</th>\n",
       "      <td>0.802790</td>\n",
       "      <td>1.404954</td>\n",
       "      <td>-0.591995</td>\n",
       "      <td>0.448872</td>\n",
       "      <td>1001.127883</td>\n",
       "    </tr>\n",
       "  </tbody>\n",
       "</table>\n",
       "</div>"
      ],
      "text/plain": [
       "          W         X         Y         Z   NovaColuna\n",
       "A -1.320057  0.304043  0.890093  0.316054   999.598646\n",
       "B -0.959424 -0.165018  0.138236 -0.572100  1000.158322\n",
       "C  0.513406 -0.739937 -0.162824 -0.162644   999.620111\n",
       "D -0.748151  0.028932 -0.072481 -0.808714   999.978354\n",
       "E  0.802790  1.404954 -0.591995  0.448872  1001.127883"
      ]
     },
     "execution_count": 130,
     "metadata": {},
     "output_type": "execute_result"
    }
   ],
   "source": [
    "df['NovaColuna'] = df['W']\n",
    "df['NovaColuna'] = df['W'] * df['X'] + 1000\n",
    "df"
   ]
  },
  {
   "cell_type": "markdown",
   "id": "d7a04e56",
   "metadata": {},
   "source": [
    "### Removendo Colunas/Series"
   ]
  },
  {
   "cell_type": "code",
   "execution_count": 131,
   "id": "ec543fbc",
   "metadata": {},
   "outputs": [
    {
     "data": {
      "text/html": [
       "<div>\n",
       "<style scoped>\n",
       "    .dataframe tbody tr th:only-of-type {\n",
       "        vertical-align: middle;\n",
       "    }\n",
       "\n",
       "    .dataframe tbody tr th {\n",
       "        vertical-align: top;\n",
       "    }\n",
       "\n",
       "    .dataframe thead th {\n",
       "        text-align: right;\n",
       "    }\n",
       "</style>\n",
       "<table border=\"1\" class=\"dataframe\">\n",
       "  <thead>\n",
       "    <tr style=\"text-align: right;\">\n",
       "      <th></th>\n",
       "      <th>X</th>\n",
       "      <th>Y</th>\n",
       "      <th>Z</th>\n",
       "    </tr>\n",
       "  </thead>\n",
       "  <tbody>\n",
       "    <tr>\n",
       "      <th>A</th>\n",
       "      <td>0.304043</td>\n",
       "      <td>0.890093</td>\n",
       "      <td>0.316054</td>\n",
       "    </tr>\n",
       "    <tr>\n",
       "      <th>B</th>\n",
       "      <td>-0.165018</td>\n",
       "      <td>0.138236</td>\n",
       "      <td>-0.572100</td>\n",
       "    </tr>\n",
       "    <tr>\n",
       "      <th>C</th>\n",
       "      <td>-0.739937</td>\n",
       "      <td>-0.162824</td>\n",
       "      <td>-0.162644</td>\n",
       "    </tr>\n",
       "    <tr>\n",
       "      <th>D</th>\n",
       "      <td>0.028932</td>\n",
       "      <td>-0.072481</td>\n",
       "      <td>-0.808714</td>\n",
       "    </tr>\n",
       "    <tr>\n",
       "      <th>E</th>\n",
       "      <td>1.404954</td>\n",
       "      <td>-0.591995</td>\n",
       "      <td>0.448872</td>\n",
       "    </tr>\n",
       "  </tbody>\n",
       "</table>\n",
       "</div>"
      ],
      "text/plain": [
       "          X         Y         Z\n",
       "A  0.304043  0.890093  0.316054\n",
       "B -0.165018  0.138236 -0.572100\n",
       "C -0.739937 -0.162824 -0.162644\n",
       "D  0.028932 -0.072481 -0.808714\n",
       "E  1.404954 -0.591995  0.448872"
      ]
     },
     "execution_count": 131,
     "metadata": {},
     "output_type": "execute_result"
    }
   ],
   "source": [
    "# Drop, axis=1 é coluna e axis=0 é linha\n",
    "df.drop('NovaColuna', axis=1, inplace = True)\n",
    "\n",
    "# Del, é a mesma coisa do Drop de forma simplificada\n",
    "del df['W']\n",
    "\n",
    "df"
   ]
  },
  {
   "cell_type": "markdown",
   "id": "487ea8ad",
   "metadata": {},
   "source": [
    "### Seleção condicional"
   ]
  },
  {
   "cell_type": "code",
   "execution_count": 132,
   "id": "e326ad9f",
   "metadata": {},
   "outputs": [
    {
     "name": "stdout",
     "output_type": "stream",
     "text": [
      "       X      Y      Z\n",
      "A   True   True   True\n",
      "B  False   True  False\n",
      "C  False  False  False\n",
      "D   True  False  False\n",
      "E   True  False   True\n",
      "----\n",
      "          X         Y         Z\n",
      "A  0.304043  0.890093  0.316054\n",
      "B       NaN  0.138236       NaN\n",
      "C       NaN       NaN       NaN\n",
      "D  0.028932       NaN       NaN\n",
      "E  1.404954       NaN  0.448872\n",
      "----\n",
      "A     True\n",
      "B    False\n",
      "C    False\n",
      "D    False\n",
      "E     True\n",
      "Name: Z, dtype: bool\n",
      "----\n",
      "          X         Y         Z\n",
      "A  0.304043  0.890093  0.316054\n",
      "E  1.404954 -0.591995  0.448872\n"
     ]
    }
   ],
   "source": [
    "print(df > 0) # Quando o meu df é maior que zero\n",
    "print('----')\n",
    "print(df[df > 0]) # Aqueles que são menores serão tratados como NaN\n",
    "print('----')\n",
    "print(df['Z'] > 0 )\n",
    "print('----')\n",
    "print(df[df['Z']>0])"
   ]
  },
  {
   "cell_type": "code",
   "execution_count": 133,
   "id": "a2e6e5cc",
   "metadata": {},
   "outputs": [
    {
     "name": "stdout",
     "output_type": "stream",
     "text": [
      "A     True\n",
      "B    False\n",
      "C    False\n",
      "D    False\n",
      "E     True\n",
      "dtype: bool\n",
      "----\n",
      "          X         Y         Z\n",
      "A  0.304043  0.890093  0.316054\n",
      "E  1.404954 -0.591995  0.448872\n"
     ]
    }
   ],
   "source": [
    "print((df['Z'] > 0) & (df['X'] > 0)) # Compara linha a linha\n",
    "\n",
    "print('----')\n",
    "\n",
    "print(df[(df['Z'] > 0) & (df['X'] > 0)]) # Tras todas as colunas, das linhas selecionadas"
   ]
  },
  {
   "cell_type": "markdown",
   "id": "4971eee6",
   "metadata": {},
   "source": [
    "### Mais detalhes dos índices"
   ]
  },
  {
   "cell_type": "code",
   "execution_count": 134,
   "id": "5ce3160f",
   "metadata": {},
   "outputs": [
    {
     "name": "stdout",
     "output_type": "stream",
     "text": [
      "Index(['A', 'B', 'C', 'D', 'E'], dtype='object')\n",
      "Index(['X', 'Y', 'Z'], dtype='object')\n"
     ]
    }
   ],
   "source": [
    "print(df.index) # Linhas\n",
    "print(df.columns) # Colunas"
   ]
  },
  {
   "cell_type": "code",
   "execution_count": 135,
   "id": "d55b63a4",
   "metadata": {},
   "outputs": [
    {
     "data": {
      "text/html": [
       "<div>\n",
       "<style scoped>\n",
       "    .dataframe tbody tr th:only-of-type {\n",
       "        vertical-align: middle;\n",
       "    }\n",
       "\n",
       "    .dataframe tbody tr th {\n",
       "        vertical-align: top;\n",
       "    }\n",
       "\n",
       "    .dataframe thead th {\n",
       "        text-align: right;\n",
       "    }\n",
       "</style>\n",
       "<table border=\"1\" class=\"dataframe\">\n",
       "  <thead>\n",
       "    <tr style=\"text-align: right;\">\n",
       "      <th></th>\n",
       "      <th>X</th>\n",
       "      <th>Y</th>\n",
       "      <th>Z</th>\n",
       "      <th>novo_indice</th>\n",
       "    </tr>\n",
       "  </thead>\n",
       "  <tbody>\n",
       "    <tr>\n",
       "      <th>A</th>\n",
       "      <td>0.304043</td>\n",
       "      <td>0.890093</td>\n",
       "      <td>0.316054</td>\n",
       "      <td>PB</td>\n",
       "    </tr>\n",
       "    <tr>\n",
       "      <th>B</th>\n",
       "      <td>-0.165018</td>\n",
       "      <td>0.138236</td>\n",
       "      <td>-0.572100</td>\n",
       "      <td>PE</td>\n",
       "    </tr>\n",
       "    <tr>\n",
       "      <th>C</th>\n",
       "      <td>-0.739937</td>\n",
       "      <td>-0.162824</td>\n",
       "      <td>-0.162644</td>\n",
       "      <td>SP</td>\n",
       "    </tr>\n",
       "    <tr>\n",
       "      <th>D</th>\n",
       "      <td>0.028932</td>\n",
       "      <td>-0.072481</td>\n",
       "      <td>-0.808714</td>\n",
       "      <td>RJ</td>\n",
       "    </tr>\n",
       "    <tr>\n",
       "      <th>E</th>\n",
       "      <td>1.404954</td>\n",
       "      <td>-0.591995</td>\n",
       "      <td>0.448872</td>\n",
       "      <td>RS</td>\n",
       "    </tr>\n",
       "  </tbody>\n",
       "</table>\n",
       "</div>"
      ],
      "text/plain": [
       "          X         Y         Z novo_indice\n",
       "A  0.304043  0.890093  0.316054          PB\n",
       "B -0.165018  0.138236 -0.572100          PE\n",
       "C -0.739937 -0.162824 -0.162644          SP\n",
       "D  0.028932 -0.072481 -0.808714          RJ\n",
       "E  1.404954 -0.591995  0.448872          RS"
      ]
     },
     "execution_count": 135,
     "metadata": {},
     "output_type": "execute_result"
    }
   ],
   "source": [
    "df['novo_indice'] = 'PB PE SP RJ RS'.split() # Adiciona uma coluna\n",
    "df"
   ]
  },
  {
   "cell_type": "code",
   "execution_count": 136,
   "id": "5bbc4d7a",
   "metadata": {},
   "outputs": [
    {
     "data": {
      "text/html": [
       "<div>\n",
       "<style scoped>\n",
       "    .dataframe tbody tr th:only-of-type {\n",
       "        vertical-align: middle;\n",
       "    }\n",
       "\n",
       "    .dataframe tbody tr th {\n",
       "        vertical-align: top;\n",
       "    }\n",
       "\n",
       "    .dataframe thead th {\n",
       "        text-align: right;\n",
       "    }\n",
       "</style>\n",
       "<table border=\"1\" class=\"dataframe\">\n",
       "  <thead>\n",
       "    <tr style=\"text-align: right;\">\n",
       "      <th></th>\n",
       "      <th>index</th>\n",
       "      <th>X</th>\n",
       "      <th>Y</th>\n",
       "      <th>Z</th>\n",
       "      <th>novo_indice</th>\n",
       "    </tr>\n",
       "  </thead>\n",
       "  <tbody>\n",
       "    <tr>\n",
       "      <th>0</th>\n",
       "      <td>A</td>\n",
       "      <td>0.304043</td>\n",
       "      <td>0.890093</td>\n",
       "      <td>0.316054</td>\n",
       "      <td>PB</td>\n",
       "    </tr>\n",
       "    <tr>\n",
       "      <th>1</th>\n",
       "      <td>B</td>\n",
       "      <td>-0.165018</td>\n",
       "      <td>0.138236</td>\n",
       "      <td>-0.572100</td>\n",
       "      <td>PE</td>\n",
       "    </tr>\n",
       "    <tr>\n",
       "      <th>2</th>\n",
       "      <td>C</td>\n",
       "      <td>-0.739937</td>\n",
       "      <td>-0.162824</td>\n",
       "      <td>-0.162644</td>\n",
       "      <td>SP</td>\n",
       "    </tr>\n",
       "    <tr>\n",
       "      <th>3</th>\n",
       "      <td>D</td>\n",
       "      <td>0.028932</td>\n",
       "      <td>-0.072481</td>\n",
       "      <td>-0.808714</td>\n",
       "      <td>RJ</td>\n",
       "    </tr>\n",
       "    <tr>\n",
       "      <th>4</th>\n",
       "      <td>E</td>\n",
       "      <td>1.404954</td>\n",
       "      <td>-0.591995</td>\n",
       "      <td>0.448872</td>\n",
       "      <td>RS</td>\n",
       "    </tr>\n",
       "  </tbody>\n",
       "</table>\n",
       "</div>"
      ],
      "text/plain": [
       "  index         X         Y         Z novo_indice\n",
       "0     A  0.304043  0.890093  0.316054          PB\n",
       "1     B -0.165018  0.138236 -0.572100          PE\n",
       "2     C -0.739937 -0.162824 -0.162644          SP\n",
       "3     D  0.028932 -0.072481 -0.808714          RJ\n",
       "4     E  1.404954 -0.591995  0.448872          RS"
      ]
     },
     "execution_count": 136,
     "metadata": {},
     "output_type": "execute_result"
    }
   ],
   "source": [
    "df.reset_index(inplace=True) # Transforma o índice em coluna\n",
    "df"
   ]
  },
  {
   "cell_type": "code",
   "execution_count": 137,
   "id": "bfcd0562",
   "metadata": {},
   "outputs": [
    {
     "data": {
      "text/html": [
       "<div>\n",
       "<style scoped>\n",
       "    .dataframe tbody tr th:only-of-type {\n",
       "        vertical-align: middle;\n",
       "    }\n",
       "\n",
       "    .dataframe tbody tr th {\n",
       "        vertical-align: top;\n",
       "    }\n",
       "\n",
       "    .dataframe thead th {\n",
       "        text-align: right;\n",
       "    }\n",
       "</style>\n",
       "<table border=\"1\" class=\"dataframe\">\n",
       "  <thead>\n",
       "    <tr style=\"text-align: right;\">\n",
       "      <th></th>\n",
       "      <th>index</th>\n",
       "      <th>X</th>\n",
       "      <th>Y</th>\n",
       "      <th>Z</th>\n",
       "    </tr>\n",
       "    <tr>\n",
       "      <th>novo_indice</th>\n",
       "      <th></th>\n",
       "      <th></th>\n",
       "      <th></th>\n",
       "      <th></th>\n",
       "    </tr>\n",
       "  </thead>\n",
       "  <tbody>\n",
       "    <tr>\n",
       "      <th>PB</th>\n",
       "      <td>A</td>\n",
       "      <td>0.304043</td>\n",
       "      <td>0.890093</td>\n",
       "      <td>0.316054</td>\n",
       "    </tr>\n",
       "    <tr>\n",
       "      <th>PE</th>\n",
       "      <td>B</td>\n",
       "      <td>-0.165018</td>\n",
       "      <td>0.138236</td>\n",
       "      <td>-0.572100</td>\n",
       "    </tr>\n",
       "    <tr>\n",
       "      <th>SP</th>\n",
       "      <td>C</td>\n",
       "      <td>-0.739937</td>\n",
       "      <td>-0.162824</td>\n",
       "      <td>-0.162644</td>\n",
       "    </tr>\n",
       "    <tr>\n",
       "      <th>RJ</th>\n",
       "      <td>D</td>\n",
       "      <td>0.028932</td>\n",
       "      <td>-0.072481</td>\n",
       "      <td>-0.808714</td>\n",
       "    </tr>\n",
       "    <tr>\n",
       "      <th>RS</th>\n",
       "      <td>E</td>\n",
       "      <td>1.404954</td>\n",
       "      <td>-0.591995</td>\n",
       "      <td>0.448872</td>\n",
       "    </tr>\n",
       "  </tbody>\n",
       "</table>\n",
       "</div>"
      ],
      "text/plain": [
       "            index         X         Y         Z\n",
       "novo_indice                                    \n",
       "PB              A  0.304043  0.890093  0.316054\n",
       "PE              B -0.165018  0.138236 -0.572100\n",
       "SP              C -0.739937 -0.162824 -0.162644\n",
       "RJ              D  0.028932 -0.072481 -0.808714\n",
       "RS              E  1.404954 -0.591995  0.448872"
      ]
     },
     "execution_count": 137,
     "metadata": {},
     "output_type": "execute_result"
    }
   ],
   "source": [
    "df.set_index('novo_indice', inplace=True) # Seta um novo índice\n",
    "df"
   ]
  },
  {
   "cell_type": "code",
   "execution_count": 138,
   "id": "459a04d5",
   "metadata": {},
   "outputs": [
    {
     "data": {
      "text/html": [
       "<div>\n",
       "<style scoped>\n",
       "    .dataframe tbody tr th:only-of-type {\n",
       "        vertical-align: middle;\n",
       "    }\n",
       "\n",
       "    .dataframe tbody tr th {\n",
       "        vertical-align: top;\n",
       "    }\n",
       "\n",
       "    .dataframe thead th {\n",
       "        text-align: right;\n",
       "    }\n",
       "</style>\n",
       "<table border=\"1\" class=\"dataframe\">\n",
       "  <thead>\n",
       "    <tr style=\"text-align: right;\">\n",
       "      <th></th>\n",
       "      <th>X</th>\n",
       "      <th>Y</th>\n",
       "      <th>Z</th>\n",
       "    </tr>\n",
       "    <tr>\n",
       "      <th>index</th>\n",
       "      <th></th>\n",
       "      <th></th>\n",
       "      <th></th>\n",
       "    </tr>\n",
       "  </thead>\n",
       "  <tbody>\n",
       "    <tr>\n",
       "      <th>A</th>\n",
       "      <td>0.304043</td>\n",
       "      <td>0.890093</td>\n",
       "      <td>0.316054</td>\n",
       "    </tr>\n",
       "    <tr>\n",
       "      <th>B</th>\n",
       "      <td>-0.165018</td>\n",
       "      <td>0.138236</td>\n",
       "      <td>-0.572100</td>\n",
       "    </tr>\n",
       "    <tr>\n",
       "      <th>C</th>\n",
       "      <td>-0.739937</td>\n",
       "      <td>-0.162824</td>\n",
       "      <td>-0.162644</td>\n",
       "    </tr>\n",
       "    <tr>\n",
       "      <th>D</th>\n",
       "      <td>0.028932</td>\n",
       "      <td>-0.072481</td>\n",
       "      <td>-0.808714</td>\n",
       "    </tr>\n",
       "    <tr>\n",
       "      <th>E</th>\n",
       "      <td>1.404954</td>\n",
       "      <td>-0.591995</td>\n",
       "      <td>0.448872</td>\n",
       "    </tr>\n",
       "  </tbody>\n",
       "</table>\n",
       "</div>"
      ],
      "text/plain": [
       "              X         Y         Z\n",
       "index                              \n",
       "A      0.304043  0.890093  0.316054\n",
       "B     -0.165018  0.138236 -0.572100\n",
       "C     -0.739937 -0.162824 -0.162644\n",
       "D      0.028932 -0.072481 -0.808714\n",
       "E      1.404954 -0.591995  0.448872"
      ]
     },
     "execution_count": 138,
     "metadata": {},
     "output_type": "execute_result"
    }
   ],
   "source": [
    "df.set_index('index', inplace=True) # Substitui o índice por uma coluna\n",
    "df"
   ]
  },
  {
   "cell_type": "markdown",
   "id": "ab133114",
   "metadata": {},
   "source": [
    "### Hierarquia de índices e índices Multiplos"
   ]
  },
  {
   "cell_type": "code",
   "execution_count": 139,
   "id": "22c813d3",
   "metadata": {},
   "outputs": [
    {
     "name": "stdout",
     "output_type": "stream",
     "text": [
      "<class 'list'>\n",
      "<class 'tuple'>\n"
     ]
    },
    {
     "data": {
      "text/html": [
       "<div>\n",
       "<style scoped>\n",
       "    .dataframe tbody tr th:only-of-type {\n",
       "        vertical-align: middle;\n",
       "    }\n",
       "\n",
       "    .dataframe tbody tr th {\n",
       "        vertical-align: top;\n",
       "    }\n",
       "\n",
       "    .dataframe thead th {\n",
       "        text-align: right;\n",
       "    }\n",
       "</style>\n",
       "<table border=\"1\" class=\"dataframe\">\n",
       "  <thead>\n",
       "    <tr style=\"text-align: right;\">\n",
       "      <th></th>\n",
       "      <th></th>\n",
       "      <th>Mensal</th>\n",
       "      <th>Anual</th>\n",
       "    </tr>\n",
       "    <tr>\n",
       "      <th>Gênero</th>\n",
       "      <th>Idade</th>\n",
       "      <th></th>\n",
       "      <th></th>\n",
       "    </tr>\n",
       "  </thead>\n",
       "  <tbody>\n",
       "    <tr>\n",
       "      <th rowspan=\"3\" valign=\"top\">Mulher</th>\n",
       "      <th>Jovem</th>\n",
       "      <td>-1.044204</td>\n",
       "      <td>0.444926</td>\n",
       "    </tr>\n",
       "    <tr>\n",
       "      <th>Adulto</th>\n",
       "      <td>0.859038</td>\n",
       "      <td>-0.651637</td>\n",
       "    </tr>\n",
       "    <tr>\n",
       "      <th>Idoso</th>\n",
       "      <td>0.004759</td>\n",
       "      <td>0.433650</td>\n",
       "    </tr>\n",
       "    <tr>\n",
       "      <th rowspan=\"3\" valign=\"top\">Homem</th>\n",
       "      <th>Jovem</th>\n",
       "      <td>-0.225078</td>\n",
       "      <td>0.798642</td>\n",
       "    </tr>\n",
       "    <tr>\n",
       "      <th>Adulto</th>\n",
       "      <td>0.405703</td>\n",
       "      <td>-0.254350</td>\n",
       "    </tr>\n",
       "    <tr>\n",
       "      <th>Idoso</th>\n",
       "      <td>0.041503</td>\n",
       "      <td>1.127041</td>\n",
       "    </tr>\n",
       "  </tbody>\n",
       "</table>\n",
       "</div>"
      ],
      "text/plain": [
       "                 Mensal     Anual\n",
       "Gênero Idade                     \n",
       "Mulher Jovem  -1.044204  0.444926\n",
       "       Adulto  0.859038 -0.651637\n",
       "       Idoso   0.004759  0.433650\n",
       "Homem  Jovem  -0.225078  0.798642\n",
       "       Adulto  0.405703 -0.254350\n",
       "       Idoso   0.041503  1.127041"
      ]
     },
     "execution_count": 139,
     "metadata": {},
     "output_type": "execute_result"
    }
   ],
   "source": [
    "genero = ('Mulher Mulher Mulher Homem Homem Homem').split()\n",
    "\n",
    "idade = ('Jovem Adulto Idoso Jovem Adulto Idoso').split()\n",
    "\n",
    "hier_index = list(zip(genero, idade))\n",
    "\n",
    "print(type(hier_index))\n",
    "\n",
    "print(type(hier_index[1]))\n",
    "\n",
    "hier_index = pd.MultiIndex.from_tuples(hier_index)\n",
    "\n",
    "df = pd.DataFrame(np.random.randn(6,2), index=hier_index , columns = ['Mensal', 'Anual'])\n",
    "\n",
    "df.index.names = ['Gênero', 'Idade']\n",
    "\n",
    "df"
   ]
  },
  {
   "cell_type": "markdown",
   "id": "6e9b33e3",
   "metadata": {},
   "source": [
    "#### Acessando as informações"
   ]
  },
  {
   "cell_type": "code",
   "execution_count": 140,
   "id": "56ff4a2f",
   "metadata": {},
   "outputs": [
    {
     "name": "stdout",
     "output_type": "stream",
     "text": [
      "                 Mensal     Anual\n",
      "Gênero Idade                     \n",
      "Mulher Jovem  -1.044204  0.444926\n",
      "       Adulto  0.859038 -0.651637\n",
      "       Idoso   0.004759  0.433650\n",
      "----\n",
      "          Mensal\n",
      "Idade           \n",
      "Jovem  -1.044204\n",
      "Adulto  0.859038\n",
      "Idoso   0.004759\n",
      "----\n",
      "          Mensal     Anual\n",
      "Idade                     \n",
      "Jovem  -1.044204  0.444926\n",
      "Adulto  0.859038 -0.651637\n"
     ]
    }
   ],
   "source": [
    "print(df.loc[['Mulher']])\n",
    "print('----')\n",
    "print(df.loc['Mulher'][['Mensal']])\n",
    "print('----')\n",
    "print(df.loc['Mulher'].iloc[0:2,0:2])"
   ]
  },
  {
   "cell_type": "code",
   "execution_count": 141,
   "id": "8fe320ec",
   "metadata": {},
   "outputs": [
    {
     "name": "stdout",
     "output_type": "stream",
     "text": [
      "          Mensal     Anual\n",
      "Gênero                    \n",
      "Mulher -1.044204  0.444926\n",
      "Homem  -0.225078  0.798642\n",
      "----\n",
      "          Mensal     Anual\n",
      "Idade                     \n",
      "Jovem  -0.225078  0.798642\n",
      "Adulto  0.405703 -0.254350\n",
      "Idoso   0.041503  1.127041\n"
     ]
    }
   ],
   "source": [
    "print(df.xs('Jovem', level = 'Idade'))\n",
    "print('----')\n",
    "print(df.xs('Homem', level = 'Gênero'))"
   ]
  }
 ],
 "metadata": {
  "kernelspec": {
   "display_name": "Python 3",
   "language": "python",
   "name": "python3"
  },
  "language_info": {
   "codemirror_mode": {
    "name": "ipython",
    "version": 3
   },
   "file_extension": ".py",
   "mimetype": "text/x-python",
   "name": "python",
   "nbconvert_exporter": "python",
   "pygments_lexer": "ipython3",
   "version": "3.12.4"
  }
 },
 "nbformat": 4,
 "nbformat_minor": 5
}
