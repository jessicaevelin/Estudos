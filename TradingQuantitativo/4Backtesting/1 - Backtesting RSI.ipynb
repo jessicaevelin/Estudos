{
 "cells": [
  {
   "cell_type": "markdown",
   "id": "845f4f33",
   "metadata": {},
   "source": [
    "Uma **estratégia** precisa especificar:\n",
    "\n",
    "* Entrada (E mais importante que o Stop)\n",
    "    * Buscamos embasar as entradas em momentos onde a assimetria na distribuição de retornos futuros\n",
    "    * A probabilidade de acerto é maior que 50%\n",
    "    * Buscar esperança matemática possitiva\n",
    "\n",
    "* Saída\n",
    "* Capital alocado"
   ]
  },
  {
   "cell_type": "markdown",
   "id": "b8fe7a3f",
   "metadata": {},
   "source": [
    "## Monte Carlo"
   ]
  },
  {
   "cell_type": "code",
   "execution_count": null,
   "id": "9458a991",
   "metadata": {},
   "outputs": [],
   "source": [
    "import random\n",
    "import seaborn as sns\n",
    "import matplotlib.pyplot as plt\n",
    "import pandas as pd"
   ]
  },
  {
   "cell_type": "code",
   "execution_count": null,
   "id": "9d913857",
   "metadata": {},
   "outputs": [],
   "source": [
    "capital = 100\n",
    "bet_size = 10\n",
    "qtd= 1000\n",
    "\n",
    "prob_win = 0.5\n",
    "prob_loss = 1-prob_win\n",
    "\n",
    "win_reward = 1\n",
    "loss_reward = -1\n",
    "\n",
    "fig, ax = plt.subplots(figsize=(16,8))\n",
    "\n",
    "equity_curve = [capital]\n",
    "\n",
    "for i in range(qtd):\n",
    "    if prob_loss < random.random():\n",
    "        equity_curve += [equity_curve[-1]+ win_reward * bet_size]\n",
    "    else:\n",
    "        equity_curve += [equity_curve[-1]+ loss_reward * bet_size]\n",
    "\n",
    "ax.plot(equity_curve)"
   ]
  },
  {
   "cell_type": "markdown",
   "id": "5a613a93",
   "metadata": {},
   "source": [
    "Estratégias com valor esperado = 0, não podem ser salvas com Stop ou position size\n",
    "\n",
    "## Martingale\n",
    "Estratégia de dobrar o valor apostado até ganhar. Assim, quando ganhar você irá se recuperar e lucrar."
   ]
  },
  {
   "cell_type": "code",
   "execution_count": null,
   "id": "ef9de81f",
   "metadata": {},
   "outputs": [],
   "source": [
    "capital = 100\n",
    "bet_size = 1\n",
    "bet_size_start = 1\n",
    "\n",
    "qtd= 100\n",
    "\n",
    "prob_win = 0.5\n",
    "prob_loss = 1-prob_win\n",
    "\n",
    "win_reward = 1\n",
    "loss_reward = -1\n",
    "\n",
    "fig, ax = plt.subplots(figsize=(16,8))\n",
    "\n",
    "equity_curve = [capital]\n",
    "\n",
    "for i in range(qtd):\n",
    "    if prob_loss < random.random():\n",
    "        equity_curve += [equity_curve[-1]+ win_reward * bet_size]\n",
    "        bet_size = bet_size_start\n",
    "    else:\n",
    "        equity_curve += [equity_curve[-1]+ loss_reward * bet_size]\n",
    "        bet_size = bet_size * 2\n",
    "    if equity_curve[-1] <=0:\n",
    "        break\n",
    "ax.plot(equity_curve)"
   ]
  },
  {
   "cell_type": "markdown",
   "id": "003ad6c2",
   "metadata": {},
   "source": [
    "## Monte Carlo"
   ]
  },
  {
   "cell_type": "code",
   "execution_count": null,
   "id": "05e095a7",
   "metadata": {},
   "outputs": [],
   "source": [
    "capital = 100\n",
    "bet_size_start = 1\n",
    "\n",
    "qtd= 100\n",
    "\n",
    "prob_win = 0.5\n",
    "prob_loss = 1-prob_win\n",
    "\n",
    "win_reward = 1\n",
    "loss_reward = -1\n",
    "\n",
    "simulacoes = 10\n",
    "\n",
    "fig, ax = plt.subplots(figsize=(16,8))\n",
    "for j in range(simulacoes):\n",
    "    bet_size = 1\n",
    "    equity_curve = [capital]\n",
    "    for i in range(qtd):\n",
    "        if prob_loss < random.random():\n",
    "            equity_curve += [equity_curve[-1]+ win_reward * bet_size]\n",
    "            bet_size = bet_size_start\n",
    "        else:\n",
    "            equity_curve += [equity_curve[-1]+ loss_reward * bet_size]\n",
    "            bet_size = bet_size * 2\n",
    "        if equity_curve[-1] <=0:\n",
    "            break\n",
    "    ax.plot(equity_curve)"
   ]
  },
  {
   "cell_type": "markdown",
   "id": "73a00d17",
   "metadata": {},
   "source": [
    "## Dados e Gráficos"
   ]
  },
  {
   "cell_type": "code",
   "execution_count": null,
   "id": "a10f538a",
   "metadata": {},
   "outputs": [],
   "source": [
    "from datetime import datetime\n",
    "import MetaTrader5 as mt5\n",
    "import pandas as pd\n",
    "\n",
    "pd.set_option('display.max_columns', 500) # number of columns to be displayed\n",
    "pd.set_option('display.width', 1500)      # max table width to display\n",
    "\n",
    "if not mt5.initialize():\n",
    "    print(\"initialize() failed, error code =\",mt5.last_error())\n",
    "    quit()\n",
    " \n",
    "rates = mt5.copy_rates_from(\"PETR4\", mt5.TIMEFRAME_H1, datetime(2025, 7, 3), 500)\n",
    " \n",
    "mt5.shutdown()\n",
    " \n",
    "df = pd.DataFrame(rates)\n",
    "\n",
    "df['time']=pd.to_datetime(df['time'], unit='s')\n",
    "df.set_index('time', inplace=True)\n",
    "\n",
    "# display data\n",
    "print(\"\\nDisplay dataframe with data\")\n",
    "print(df)  \n",
    " "
   ]
  },
  {
   "cell_type": "code",
   "execution_count": null,
   "id": "6d205662",
   "metadata": {},
   "outputs": [],
   "source": [
    "import plotly.express as px\n",
    "import plotly.io as pio\n",
    "import plotly.graph_objects as go\n",
    "from plotly.subplots import make_subplots\n",
    "\n",
    "pio.renderers.default = 'vscode' \n",
    "\n",
    "fig = px.line(df, x=df.index, y='close')\n",
    "fig"
   ]
  },
  {
   "cell_type": "code",
   "execution_count": null,
   "id": "bd10662f",
   "metadata": {},
   "outputs": [],
   "source": [
    "fig = go.Figure(data=go.Candlestick(x=df.index, open=df.open, high=df.high, low=df.low, close=df.close))\n",
    "fig.update_xaxes(rangebreaks=[dict(bounds=[18,10], pattern='hour'),dict(bounds=['sat', 'mon'])])\n",
    "fig.update_layout(height = 600, xaxis_rangeslider_visible=False)\n",
    "fig.show()"
   ]
  }
 ],
 "metadata": {
  "kernelspec": {
   "display_name": ".venv",
   "language": "python",
   "name": "python3"
  },
  "language_info": {
   "codemirror_mode": {
    "name": "ipython",
    "version": 3
   },
   "file_extension": ".py",
   "mimetype": "text/x-python",
   "name": "python",
   "nbconvert_exporter": "python",
   "pygments_lexer": "ipython3",
   "version": "3.12.4"
  }
 },
 "nbformat": 4,
 "nbformat_minor": 5
}
