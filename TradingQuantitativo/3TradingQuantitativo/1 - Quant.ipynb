{
 "cells": [
  {
   "cell_type": "markdown",
   "id": "42386be3",
   "metadata": {},
   "source": [
    "**Quant:** Estratégias de investimento sistematizada, busca de padrões com significância estatística\n",
    "\n",
    "**Est. Sistêmatica:** Já é definido antes (ativos, regras, tempo)\n",
    "\n",
    "**Est. Discricionário:** A decisão é tomada na hora (notícia, momentum)\n",
    "\n",
    "![My Image](img1.png)\n",
    "\n",
    "Sempre buscar desprovar as hipotéses e encontrar problemas\n",
    "\n",
    "As teorias precisão ser testaveis\n",
    "\n",
    "**Fluxo de desenvolvimento de estratégias**\n",
    "\n",
    "* Observação\n",
    "* Hipóteses\n",
    "* Backtesting\n",
    "* Avaliação\n",
    "* Otimização\n",
    "* Implementação\n",
    "\n",
    "**Estudar probabilidade e estatística**"
   ]
  }
 ],
 "metadata": {
  "kernelspec": {
   "display_name": ".venv",
   "language": "python",
   "name": "python3"
  },
  "language_info": {
   "name": "python",
   "version": "3.12.4"
  }
 },
 "nbformat": 4,
 "nbformat_minor": 5
}
