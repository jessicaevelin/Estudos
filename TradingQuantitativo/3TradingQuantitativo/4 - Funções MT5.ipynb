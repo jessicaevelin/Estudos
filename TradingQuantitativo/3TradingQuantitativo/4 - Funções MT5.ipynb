{
 "cells": [
  {
   "cell_type": "code",
   "execution_count": 21,
   "id": "c7c5033e",
   "metadata": {},
   "outputs": [],
   "source": [
    "import MetaTrader5 as mt5\n",
    "import json"
   ]
  },
  {
   "cell_type": "markdown",
   "id": "bc146812",
   "metadata": {},
   "source": [
    "## Funções básicas"
   ]
  },
  {
   "cell_type": "code",
   "execution_count": 22,
   "id": "45720017",
   "metadata": {},
   "outputs": [],
   "source": [
    "with open('./Dados/credentials.json') as f:\n",
    "    credentials = json.load(f)"
   ]
  },
  {
   "cell_type": "code",
   "execution_count": 23,
   "id": "4d302271",
   "metadata": {},
   "outputs": [
    {
     "name": "stdout",
     "output_type": "stream",
     "text": [
      "Login realizado com sucesso!\n"
     ]
    }
   ],
   "source": [
    "# Inicia o terminal do MetaTrader 5\n",
    "if not mt5.initialize():\n",
    "    print(\"Erro ao iniciar o MT5:\", mt5.last_error())\n",
    "    quit()\n",
    "\n",
    "# Tenta logar na conta demo\n",
    "login = credentials['login']\n",
    "senha = credentials['senha']\n",
    "servidor = credentials['servidor']\n",
    "\n",
    "if not mt5.login(login, password=senha, server=servidor):\n",
    "    print(\"Erro ao fazer login:\", mt5.last_error())\n",
    "else:\n",
    "    print(\"Login realizado com sucesso!\")\n"
   ]
  },
  {
   "cell_type": "code",
   "execution_count": 24,
   "id": "0544bc25",
   "metadata": {},
   "outputs": [
    {
     "data": {
      "text/plain": [
       "56017"
      ]
     },
     "execution_count": 24,
     "metadata": {},
     "output_type": "execute_result"
    }
   ],
   "source": [
    "mt5.symbols_total()"
   ]
  },
  {
   "cell_type": "code",
   "execution_count": 25,
   "id": "fbdc005e",
   "metadata": {},
   "outputs": [
    {
     "data": {
      "text/plain": [
       "SymbolInfo(custom=False, chart_mode=1, select=False, visible=False, session_deals=0, session_buy_orders=0, session_sell_orders=0, volume=0, volumehigh=0, volumelow=0, time=0, digits=2, spread=0, spread_float=True, ticks_bookdepth=32, trade_calc_mode=35, trade_mode=4, start_time=0, expiration_time=1758326399, trade_stops_level=0, trade_freeze_level=0, trade_exemode=3, swap_mode=0, swap_rollover3days=3, margin_hedged_use_leg=False, expiration_mode=11, filling_mode=3, order_mode=127, order_gtc_mode=0, option_mode=1, option_right=0, bid=0.0, bidhigh=0.0, bidlow=0.0, ask=0.0, askhigh=0.0, asklow=0.0, last=0.0, lasthigh=0.0, lastlow=0.0, volume_real=0.0, volumehigh_real=0.0, volumelow_real=0.0, option_strike=2.01, point=0.01, trade_tick_value=0.01, trade_tick_value_profit=0.01, trade_tick_value_loss=0.01, trade_tick_size=0.01, trade_contract_size=1.0, trade_accrued_interest=0.0, trade_face_value=0.0, trade_liquidity_rate=0.0, volume_min=100.0, volume_max=315232775.0, volume_step=100.0, volume_limit=0.0, swap_long=0.0, swap_short=0.0, margin_initial=0.0, margin_maintenance=0.0, session_volume=0.0, session_turnover=0.0, session_interest=0.0, session_buy_orders_volume=0.0, session_sell_orders_volume=0.0, session_open=0.0, session_close=0.0, session_aw=0.0, session_price_settlement=0.0, session_price_limit_min=0.0, session_price_limit_max=0.0, margin_hedged=0.0, price_change=0.0, price_volatility=0.0, price_theoretical=0.0, price_greeks_delta=0.0, price_greeks_theta=0.0, price_greeks_gamma=0.0, price_greeks_vega=0.0, price_greeks_rho=0.0, price_greeks_omega=0.0, price_sensitivity=0.0, basis='ABEV3', category='', currency_base='BRL', currency_profit='BRL', currency_margin='BRL', bank='', description='ABEV        ON    2,01', exchange='BVMF', formula='', isin='BRABEV3I0J86', name='ABEVI20', page='', path='BOVESPA\\\\OPCOES\\\\ABEVI20')"
      ]
     },
     "execution_count": 25,
     "metadata": {},
     "output_type": "execute_result"
    }
   ],
   "source": [
    "# Lista com 56011 tuplas\n",
    "mt5.symbols_get()[0]"
   ]
  },
  {
   "cell_type": "code",
   "execution_count": 26,
   "id": "759603e8",
   "metadata": {},
   "outputs": [
    {
     "data": {
      "text/plain": [
       "{'custom': False,\n",
       " 'chart_mode': 1,\n",
       " 'select': True,\n",
       " 'visible': True,\n",
       " 'session_deals': 14908,\n",
       " 'session_buy_orders': 0,\n",
       " 'session_sell_orders': 0,\n",
       " 'volume': 100,\n",
       " 'volumehigh': 47700,\n",
       " 'volumelow': 100,\n",
       " 'time': 1751549700,\n",
       " 'digits': 2,\n",
       " 'spread': 1,\n",
       " 'spread_float': True,\n",
       " 'ticks_bookdepth': 32,\n",
       " 'trade_calc_mode': 32,\n",
       " 'trade_mode': 4,\n",
       " 'start_time': 0,\n",
       " 'expiration_time': 253402300799,\n",
       " 'trade_stops_level': 0,\n",
       " 'trade_freeze_level': 0,\n",
       " 'trade_exemode': 3,\n",
       " 'swap_mode': 0,\n",
       " 'swap_rollover3days': 3,\n",
       " 'margin_hedged_use_leg': False,\n",
       " 'expiration_mode': 11,\n",
       " 'filling_mode': 3,\n",
       " 'order_mode': 127,\n",
       " 'order_gtc_mode': 0,\n",
       " 'option_mode': 0,\n",
       " 'option_right': 0,\n",
       " 'bid': 32.31,\n",
       " 'bidhigh': 32.38,\n",
       " 'bidlow': 31.95,\n",
       " 'ask': 32.32,\n",
       " 'askhigh': 32.39,\n",
       " 'asklow': 31.98,\n",
       " 'last': 32.32,\n",
       " 'lasthigh': 32.39,\n",
       " 'lastlow': 31.94,\n",
       " 'volume_real': 100.0,\n",
       " 'volumehigh_real': 47700.0,\n",
       " 'volumelow_real': 100.0,\n",
       " 'option_strike': 0.0,\n",
       " 'point': 0.01,\n",
       " 'trade_tick_value': 0.01,\n",
       " 'trade_tick_value_profit': 0.01,\n",
       " 'trade_tick_value_loss': 0.01,\n",
       " 'trade_tick_size': 0.01,\n",
       " 'trade_contract_size': 1.0,\n",
       " 'trade_accrued_interest': 0.0,\n",
       " 'trade_face_value': 0.0,\n",
       " 'trade_liquidity_rate': 0.0,\n",
       " 'volume_min': 100.0,\n",
       " 'volume_max': 108930028.0,\n",
       " 'volume_step': 100.0,\n",
       " 'volume_limit': 0.0,\n",
       " 'swap_long': 0.0,\n",
       " 'swap_short': 0.0,\n",
       " 'margin_initial': 0.0,\n",
       " 'margin_maintenance': 0.0,\n",
       " 'session_volume': 8120000.0,\n",
       " 'session_turnover': 0.0,\n",
       " 'session_interest': 0.0,\n",
       " 'session_buy_orders_volume': 0.0,\n",
       " 'session_sell_orders_volume': 0.0,\n",
       " 'session_open': 32.0,\n",
       " 'session_close': 32.05,\n",
       " 'session_aw': 32.22,\n",
       " 'session_price_settlement': 0.0,\n",
       " 'session_price_limit_min': 0.0,\n",
       " 'session_price_limit_max': 0.0,\n",
       " 'margin_hedged': 0.0,\n",
       " 'price_change': 0.8424,\n",
       " 'price_volatility': 0.0,\n",
       " 'price_theoretical': 0.0,\n",
       " 'price_greeks_delta': 0.0,\n",
       " 'price_greeks_theta': 0.0,\n",
       " 'price_greeks_gamma': 0.0,\n",
       " 'price_greeks_vega': 0.0,\n",
       " 'price_greeks_rho': 0.0,\n",
       " 'price_greeks_omega': 0.0,\n",
       " 'price_sensitivity': 0.0,\n",
       " 'basis': '',\n",
       " 'category': '',\n",
       " 'currency_base': 'BRL',\n",
       " 'currency_profit': 'BRL',\n",
       " 'currency_margin': 'BRL',\n",
       " 'bank': '',\n",
       " 'description': 'PETROBRAS   PN      N2',\n",
       " 'exchange': 'BVMF',\n",
       " 'formula': '',\n",
       " 'isin': 'BRPETRACNPR6',\n",
       " 'name': 'PETR4',\n",
       " 'page': '',\n",
       " 'path': 'BOVESPA\\\\A VISTA\\\\PETR4'}"
      ]
     },
     "execution_count": 26,
     "metadata": {},
     "output_type": "execute_result"
    }
   ],
   "source": [
    "mt5.symbol_info('PETR4')._asdict()"
   ]
  },
  {
   "cell_type": "markdown",
   "id": "c239c658",
   "metadata": {},
   "source": [
    "## OHCL\n",
    "\n",
    "```python\n",
    "copy_rates_range(\n",
    "   symbol,       // nome do símbolo\n",
    "   timeframe,    // período gráfico\n",
    "   date_from,    // data a partir da qual são solicitadas as barras\n",
    "   date_to       // data para a qual são solicitadas as barras\n",
    "   )\n",
    "```"
   ]
  },
  {
   "cell_type": "code",
   "execution_count": 27,
   "id": "821a11cd",
   "metadata": {},
   "outputs": [],
   "source": [
    "import MetaTrader5 as mt5\n",
    "\n",
    "import pandas as pd\n",
    "from datetime import datetime, timedelta\n",
    "import plotly.express as px\n",
    "import plotly.graph_objects as go"
   ]
  },
  {
   "cell_type": "code",
   "execution_count": null,
   "id": "594a8cdc",
   "metadata": {},
   "outputs": [
    {
     "data": {
      "text/html": [
       "<div>\n",
       "<style scoped>\n",
       "    .dataframe tbody tr th:only-of-type {\n",
       "        vertical-align: middle;\n",
       "    }\n",
       "\n",
       "    .dataframe tbody tr th {\n",
       "        vertical-align: top;\n",
       "    }\n",
       "\n",
       "    .dataframe thead th {\n",
       "        text-align: right;\n",
       "    }\n",
       "</style>\n",
       "<table border=\"1\" class=\"dataframe\">\n",
       "  <thead>\n",
       "    <tr style=\"text-align: right;\">\n",
       "      <th></th>\n",
       "      <th>time</th>\n",
       "      <th>open</th>\n",
       "      <th>high</th>\n",
       "      <th>low</th>\n",
       "      <th>close</th>\n",
       "      <th>tick_volume</th>\n",
       "      <th>spread</th>\n",
       "      <th>real_volume</th>\n",
       "    </tr>\n",
       "  </thead>\n",
       "  <tbody>\n",
       "    <tr>\n",
       "      <th>0</th>\n",
       "      <td>1751388000</td>\n",
       "      <td>31.52</td>\n",
       "      <td>31.54</td>\n",
       "      <td>31.51</td>\n",
       "      <td>31.51</td>\n",
       "      <td>240</td>\n",
       "      <td>1</td>\n",
       "      <td>183100</td>\n",
       "    </tr>\n",
       "    <tr>\n",
       "      <th>1</th>\n",
       "      <td>1751388300</td>\n",
       "      <td>31.52</td>\n",
       "      <td>31.52</td>\n",
       "      <td>31.48</td>\n",
       "      <td>31.50</td>\n",
       "      <td>252</td>\n",
       "      <td>1</td>\n",
       "      <td>184400</td>\n",
       "    </tr>\n",
       "    <tr>\n",
       "      <th>2</th>\n",
       "      <td>1751388600</td>\n",
       "      <td>31.48</td>\n",
       "      <td>31.49</td>\n",
       "      <td>31.45</td>\n",
       "      <td>31.49</td>\n",
       "      <td>557</td>\n",
       "      <td>1</td>\n",
       "      <td>3044300</td>\n",
       "    </tr>\n",
       "    <tr>\n",
       "      <th>3</th>\n",
       "      <td>1751450400</td>\n",
       "      <td>31.58</td>\n",
       "      <td>31.67</td>\n",
       "      <td>31.56</td>\n",
       "      <td>31.63</td>\n",
       "      <td>217</td>\n",
       "      <td>0</td>\n",
       "      <td>223300</td>\n",
       "    </tr>\n",
       "    <tr>\n",
       "      <th>4</th>\n",
       "      <td>1751450700</td>\n",
       "      <td>31.64</td>\n",
       "      <td>31.80</td>\n",
       "      <td>31.60</td>\n",
       "      <td>31.78</td>\n",
       "      <td>729</td>\n",
       "      <td>0</td>\n",
       "      <td>951800</td>\n",
       "    </tr>\n",
       "    <tr>\n",
       "      <th>...</th>\n",
       "      <td>...</td>\n",
       "      <td>...</td>\n",
       "      <td>...</td>\n",
       "      <td>...</td>\n",
       "      <td>...</td>\n",
       "      <td>...</td>\n",
       "      <td>...</td>\n",
       "      <td>...</td>\n",
       "    </tr>\n",
       "    <tr>\n",
       "      <th>107</th>\n",
       "      <td>1751548500</td>\n",
       "      <td>32.27</td>\n",
       "      <td>32.29</td>\n",
       "      <td>32.26</td>\n",
       "      <td>32.27</td>\n",
       "      <td>254</td>\n",
       "      <td>0</td>\n",
       "      <td>112000</td>\n",
       "    </tr>\n",
       "    <tr>\n",
       "      <th>108</th>\n",
       "      <td>1751548800</td>\n",
       "      <td>32.27</td>\n",
       "      <td>32.28</td>\n",
       "      <td>32.24</td>\n",
       "      <td>32.25</td>\n",
       "      <td>320</td>\n",
       "      <td>1</td>\n",
       "      <td>113600</td>\n",
       "    </tr>\n",
       "    <tr>\n",
       "      <th>109</th>\n",
       "      <td>1751549100</td>\n",
       "      <td>32.24</td>\n",
       "      <td>32.28</td>\n",
       "      <td>32.24</td>\n",
       "      <td>32.27</td>\n",
       "      <td>187</td>\n",
       "      <td>0</td>\n",
       "      <td>54700</td>\n",
       "    </tr>\n",
       "    <tr>\n",
       "      <th>110</th>\n",
       "      <td>1751549400</td>\n",
       "      <td>32.27</td>\n",
       "      <td>32.32</td>\n",
       "      <td>32.27</td>\n",
       "      <td>32.31</td>\n",
       "      <td>250</td>\n",
       "      <td>0</td>\n",
       "      <td>304900</td>\n",
       "    </tr>\n",
       "    <tr>\n",
       "      <th>111</th>\n",
       "      <td>1751549700</td>\n",
       "      <td>32.32</td>\n",
       "      <td>32.32</td>\n",
       "      <td>32.29</td>\n",
       "      <td>32.30</td>\n",
       "      <td>89</td>\n",
       "      <td>0</td>\n",
       "      <td>49700</td>\n",
       "    </tr>\n",
       "  </tbody>\n",
       "</table>\n",
       "<p>112 rows × 8 columns</p>\n",
       "</div>"
      ],
      "text/plain": [
       "           time   open   high    low  close  tick_volume  spread  real_volume\n",
       "0    1751388000  31.52  31.54  31.51  31.51          240       1       183100\n",
       "1    1751388300  31.52  31.52  31.48  31.50          252       1       184400\n",
       "2    1751388600  31.48  31.49  31.45  31.49          557       1      3044300\n",
       "3    1751450400  31.58  31.67  31.56  31.63          217       0       223300\n",
       "4    1751450700  31.64  31.80  31.60  31.78          729       0       951800\n",
       "..          ...    ...    ...    ...    ...          ...     ...          ...\n",
       "107  1751548500  32.27  32.29  32.26  32.27          254       0       112000\n",
       "108  1751548800  32.27  32.28  32.24  32.25          320       1       113600\n",
       "109  1751549100  32.24  32.28  32.24  32.27          187       0        54700\n",
       "110  1751549400  32.27  32.32  32.27  32.31          250       0       304900\n",
       "111  1751549700  32.32  32.32  32.29  32.30           89       0        49700\n",
       "\n",
       "[112 rows x 8 columns]"
      ]
     },
     "execution_count": 35,
     "metadata": {},
     "output_type": "execute_result"
    }
   ],
   "source": [
    "ticker = 'PETR4'\n",
    "t0 = datetime.today() - timedelta(days=2)\n",
    "t1 = datetime.today()\n",
    "data = mt5.copy_rates_range(ticker,mt5.TIMEFRAME_M5, t0, t1)\n",
    "df = pd.DataFrame(data)\n",
    "df['time'] = pd.to_datetime(df['time'], unit='s', utc=True)\n",
    "df"
   ]
  },
  {
   "cell_type": "markdown",
   "id": "b7efd109",
   "metadata": {},
   "source": [
    "## Gráficos"
   ]
  },
  {
   "cell_type": "code",
   "execution_count": 38,
   "id": "87773242",
   "metadata": {},
   "outputs": [
    {
     "data": {
      "application/vnd.plotly.v1+json": {
       "config": {
        "plotlyServerURL": "https://plot.ly"
       },
       "data": [
        {
         "hovertemplate": "time=%{x}<br>close=%{y}<extra></extra>",
         "legendgroup": "",
         "line": {
          "color": "#636efa",
          "dash": "solid"
         },
         "marker": {
          "symbol": "circle"
         },
         "mode": "lines",
         "name": "",
         "orientation": "v",
         "showlegend": false,
         "type": "scatter",
         "x": [
          "2025-07-01T16:40:00.000000000",
          "2025-07-01T16:45:00.000000000",
          "2025-07-01T16:50:00.000000000",
          "2025-07-02T10:00:00.000000000",
          "2025-07-02T10:05:00.000000000",
          "2025-07-02T10:10:00.000000000",
          "2025-07-02T10:15:00.000000000",
          "2025-07-02T10:20:00.000000000",
          "2025-07-02T10:25:00.000000000",
          "2025-07-02T10:30:00.000000000",
          "2025-07-02T10:35:00.000000000",
          "2025-07-02T10:40:00.000000000",
          "2025-07-02T10:45:00.000000000",
          "2025-07-02T10:50:00.000000000",
          "2025-07-02T10:55:00.000000000",
          "2025-07-02T11:00:00.000000000",
          "2025-07-02T11:05:00.000000000",
          "2025-07-02T11:10:00.000000000",
          "2025-07-02T11:15:00.000000000",
          "2025-07-02T11:20:00.000000000",
          "2025-07-02T11:25:00.000000000",
          "2025-07-02T11:30:00.000000000",
          "2025-07-02T11:35:00.000000000",
          "2025-07-02T11:40:00.000000000",
          "2025-07-02T11:45:00.000000000",
          "2025-07-02T11:50:00.000000000",
          "2025-07-02T11:55:00.000000000",
          "2025-07-02T12:00:00.000000000",
          "2025-07-02T12:05:00.000000000",
          "2025-07-02T12:10:00.000000000",
          "2025-07-02T12:15:00.000000000",
          "2025-07-02T12:20:00.000000000",
          "2025-07-02T12:25:00.000000000",
          "2025-07-02T12:30:00.000000000",
          "2025-07-02T12:35:00.000000000",
          "2025-07-02T12:40:00.000000000",
          "2025-07-02T12:45:00.000000000",
          "2025-07-02T12:50:00.000000000",
          "2025-07-02T12:55:00.000000000",
          "2025-07-02T13:00:00.000000000",
          "2025-07-02T13:05:00.000000000",
          "2025-07-02T13:10:00.000000000",
          "2025-07-02T13:15:00.000000000",
          "2025-07-02T13:20:00.000000000",
          "2025-07-02T13:25:00.000000000",
          "2025-07-02T13:30:00.000000000",
          "2025-07-02T13:35:00.000000000",
          "2025-07-02T13:40:00.000000000",
          "2025-07-02T13:45:00.000000000",
          "2025-07-02T13:50:00.000000000",
          "2025-07-02T13:55:00.000000000",
          "2025-07-02T14:00:00.000000000",
          "2025-07-02T14:05:00.000000000",
          "2025-07-02T14:10:00.000000000",
          "2025-07-02T14:15:00.000000000",
          "2025-07-02T14:20:00.000000000",
          "2025-07-02T14:25:00.000000000",
          "2025-07-02T14:30:00.000000000",
          "2025-07-02T14:35:00.000000000",
          "2025-07-02T14:40:00.000000000",
          "2025-07-02T14:45:00.000000000",
          "2025-07-02T14:50:00.000000000",
          "2025-07-02T14:55:00.000000000",
          "2025-07-02T15:00:00.000000000",
          "2025-07-02T15:05:00.000000000",
          "2025-07-02T15:10:00.000000000",
          "2025-07-02T15:15:00.000000000",
          "2025-07-02T15:20:00.000000000",
          "2025-07-03T10:00:00.000000000",
          "2025-07-03T10:05:00.000000000",
          "2025-07-03T10:10:00.000000000",
          "2025-07-03T10:15:00.000000000",
          "2025-07-03T10:20:00.000000000",
          "2025-07-03T10:25:00.000000000",
          "2025-07-03T10:30:00.000000000",
          "2025-07-03T10:35:00.000000000",
          "2025-07-03T10:40:00.000000000",
          "2025-07-03T10:45:00.000000000",
          "2025-07-03T10:50:00.000000000",
          "2025-07-03T10:55:00.000000000",
          "2025-07-03T11:00:00.000000000",
          "2025-07-03T11:05:00.000000000",
          "2025-07-03T11:10:00.000000000",
          "2025-07-03T11:15:00.000000000",
          "2025-07-03T11:20:00.000000000",
          "2025-07-03T11:25:00.000000000",
          "2025-07-03T11:30:00.000000000",
          "2025-07-03T11:35:00.000000000",
          "2025-07-03T11:40:00.000000000",
          "2025-07-03T11:45:00.000000000",
          "2025-07-03T11:50:00.000000000",
          "2025-07-03T11:55:00.000000000",
          "2025-07-03T12:00:00.000000000",
          "2025-07-03T12:05:00.000000000",
          "2025-07-03T12:10:00.000000000",
          "2025-07-03T12:15:00.000000000",
          "2025-07-03T12:20:00.000000000",
          "2025-07-03T12:25:00.000000000",
          "2025-07-03T12:30:00.000000000",
          "2025-07-03T12:35:00.000000000",
          "2025-07-03T12:40:00.000000000",
          "2025-07-03T12:45:00.000000000",
          "2025-07-03T12:50:00.000000000",
          "2025-07-03T12:55:00.000000000",
          "2025-07-03T13:00:00.000000000",
          "2025-07-03T13:05:00.000000000",
          "2025-07-03T13:10:00.000000000",
          "2025-07-03T13:15:00.000000000",
          "2025-07-03T13:20:00.000000000",
          "2025-07-03T13:25:00.000000000",
          "2025-07-03T13:30:00.000000000",
          "2025-07-03T13:35:00.000000000"
         ],
         "xaxis": "x",
         "y": {
          "bdata": "w/UoXI+CP0AAAAAAAIA/QD0K16NwfT9A4XoUrkehP0BI4XoUrsc/QGZmZmZmpj9AMzMzMzOzP0DhehSuR6E/QLgehetRuD9ArkfhehSuP0ApXI/C9ag/QB+F61G4nj9Aw/UoXI+CP0AK16NwPYo/QEjhehSuhz9AFK5H4XqUP0AK16NwPYo/QFK4HoXrkT9AzczMzMyMP0BSuB6F65E/QM3MzMzMjD9AXI/C9SicP0DhehSuR6E/QOF6FK5HoT9A7FG4HoWrP0AfhetRuJ4/QK5H4XoUrj9AuB6F61G4P0C4HoXrUbg/QM3MzMzMzD9A4XoUrkfhP0DsUbgehes/QClcj8L16D9AH4XrUbjeP0CkcD0K1+M/QB+F61G43j9ArkfhehTuP0D2KFyPwvU/QDMzMzMz8z9AKVyPwvXoP0AfhetRuN4/QOF6FK5H4T9AFK5H4XrUP0BI4XoUrsc/QI/C9Shczz9A16NwPQrXP0BSuB6F69E/QFK4HoXr0T9AXI/C9SjcP0DsUbgehes/QGZmZmZm5j9AKVyPwvXoP0Bcj8L1KNw/QNejcD0K1z9ArkfhehTuP0DD9ShcjwJAQAAAAAAAAEBA7FG4HoULQEAUrkfhehRAQHsUrkfhGkBA16NwPQoXQECuR+F6FA5AQHE9CtejEEBAzczMzMwMQEDNzMzMzAxAQM3MzMzMDEBAzczMzMwMQEDNzMzMzAxAQEjhehSuB0BA4XoUrkcBQECF61G4HgVAQAAAAAAAAEBAPQrXo3D9P0CkcD0K1wNAQHE9CtejEEBAH4XrUbgeQEBcj8L1KBxAQOxRuB6FK0BArkfhehQuQEApXI/C9ShAQOxRuB6FK0BA4XoUrkchQEDhehSuRyFAQB+F61G4HkBAH4XrUbgeQEAfhetRuB5AQLgehetRGEBA16NwPQoXQEC4HoXrURhAQLgehetRGEBAexSuR+EaQEAAAAAAACBAQMP1KFyPIkBAw/UoXI8iQEAfhetRuB5AQKRwPQrXI0BAAAAAAAAgQEA9CtejcB1AQKRwPQrXI0BAPQrXo3AdQEB7FK5H4RpAQD0K16NwHUBAPQrXo3AdQEAfhetRuB5AQMP1KFyPIkBAw/UoXI8iQECkcD0K1yNAQMP1KFyPIkBAAAAAAAAgQEDD9ShcjyJAQEjhehSuJ0BAZmZmZmYmQEA=",
          "dtype": "f8"
         },
         "yaxis": "y"
        }
       ],
       "layout": {
        "legend": {
         "tracegroupgap": 0
        },
        "margin": {
         "t": 60
        },
        "template": {
         "data": {
          "bar": [
           {
            "error_x": {
             "color": "#2a3f5f"
            },
            "error_y": {
             "color": "#2a3f5f"
            },
            "marker": {
             "line": {
              "color": "#E5ECF6",
              "width": 0.5
             },
             "pattern": {
              "fillmode": "overlay",
              "size": 10,
              "solidity": 0.2
             }
            },
            "type": "bar"
           }
          ],
          "barpolar": [
           {
            "marker": {
             "line": {
              "color": "#E5ECF6",
              "width": 0.5
             },
             "pattern": {
              "fillmode": "overlay",
              "size": 10,
              "solidity": 0.2
             }
            },
            "type": "barpolar"
           }
          ],
          "carpet": [
           {
            "aaxis": {
             "endlinecolor": "#2a3f5f",
             "gridcolor": "white",
             "linecolor": "white",
             "minorgridcolor": "white",
             "startlinecolor": "#2a3f5f"
            },
            "baxis": {
             "endlinecolor": "#2a3f5f",
             "gridcolor": "white",
             "linecolor": "white",
             "minorgridcolor": "white",
             "startlinecolor": "#2a3f5f"
            },
            "type": "carpet"
           }
          ],
          "choropleth": [
           {
            "colorbar": {
             "outlinewidth": 0,
             "ticks": ""
            },
            "type": "choropleth"
           }
          ],
          "contour": [
           {
            "colorbar": {
             "outlinewidth": 0,
             "ticks": ""
            },
            "colorscale": [
             [
              0,
              "#0d0887"
             ],
             [
              0.1111111111111111,
              "#46039f"
             ],
             [
              0.2222222222222222,
              "#7201a8"
             ],
             [
              0.3333333333333333,
              "#9c179e"
             ],
             [
              0.4444444444444444,
              "#bd3786"
             ],
             [
              0.5555555555555556,
              "#d8576b"
             ],
             [
              0.6666666666666666,
              "#ed7953"
             ],
             [
              0.7777777777777778,
              "#fb9f3a"
             ],
             [
              0.8888888888888888,
              "#fdca26"
             ],
             [
              1,
              "#f0f921"
             ]
            ],
            "type": "contour"
           }
          ],
          "contourcarpet": [
           {
            "colorbar": {
             "outlinewidth": 0,
             "ticks": ""
            },
            "type": "contourcarpet"
           }
          ],
          "heatmap": [
           {
            "colorbar": {
             "outlinewidth": 0,
             "ticks": ""
            },
            "colorscale": [
             [
              0,
              "#0d0887"
             ],
             [
              0.1111111111111111,
              "#46039f"
             ],
             [
              0.2222222222222222,
              "#7201a8"
             ],
             [
              0.3333333333333333,
              "#9c179e"
             ],
             [
              0.4444444444444444,
              "#bd3786"
             ],
             [
              0.5555555555555556,
              "#d8576b"
             ],
             [
              0.6666666666666666,
              "#ed7953"
             ],
             [
              0.7777777777777778,
              "#fb9f3a"
             ],
             [
              0.8888888888888888,
              "#fdca26"
             ],
             [
              1,
              "#f0f921"
             ]
            ],
            "type": "heatmap"
           }
          ],
          "histogram": [
           {
            "marker": {
             "pattern": {
              "fillmode": "overlay",
              "size": 10,
              "solidity": 0.2
             }
            },
            "type": "histogram"
           }
          ],
          "histogram2d": [
           {
            "colorbar": {
             "outlinewidth": 0,
             "ticks": ""
            },
            "colorscale": [
             [
              0,
              "#0d0887"
             ],
             [
              0.1111111111111111,
              "#46039f"
             ],
             [
              0.2222222222222222,
              "#7201a8"
             ],
             [
              0.3333333333333333,
              "#9c179e"
             ],
             [
              0.4444444444444444,
              "#bd3786"
             ],
             [
              0.5555555555555556,
              "#d8576b"
             ],
             [
              0.6666666666666666,
              "#ed7953"
             ],
             [
              0.7777777777777778,
              "#fb9f3a"
             ],
             [
              0.8888888888888888,
              "#fdca26"
             ],
             [
              1,
              "#f0f921"
             ]
            ],
            "type": "histogram2d"
           }
          ],
          "histogram2dcontour": [
           {
            "colorbar": {
             "outlinewidth": 0,
             "ticks": ""
            },
            "colorscale": [
             [
              0,
              "#0d0887"
             ],
             [
              0.1111111111111111,
              "#46039f"
             ],
             [
              0.2222222222222222,
              "#7201a8"
             ],
             [
              0.3333333333333333,
              "#9c179e"
             ],
             [
              0.4444444444444444,
              "#bd3786"
             ],
             [
              0.5555555555555556,
              "#d8576b"
             ],
             [
              0.6666666666666666,
              "#ed7953"
             ],
             [
              0.7777777777777778,
              "#fb9f3a"
             ],
             [
              0.8888888888888888,
              "#fdca26"
             ],
             [
              1,
              "#f0f921"
             ]
            ],
            "type": "histogram2dcontour"
           }
          ],
          "mesh3d": [
           {
            "colorbar": {
             "outlinewidth": 0,
             "ticks": ""
            },
            "type": "mesh3d"
           }
          ],
          "parcoords": [
           {
            "line": {
             "colorbar": {
              "outlinewidth": 0,
              "ticks": ""
             }
            },
            "type": "parcoords"
           }
          ],
          "pie": [
           {
            "automargin": true,
            "type": "pie"
           }
          ],
          "scatter": [
           {
            "fillpattern": {
             "fillmode": "overlay",
             "size": 10,
             "solidity": 0.2
            },
            "type": "scatter"
           }
          ],
          "scatter3d": [
           {
            "line": {
             "colorbar": {
              "outlinewidth": 0,
              "ticks": ""
             }
            },
            "marker": {
             "colorbar": {
              "outlinewidth": 0,
              "ticks": ""
             }
            },
            "type": "scatter3d"
           }
          ],
          "scattercarpet": [
           {
            "marker": {
             "colorbar": {
              "outlinewidth": 0,
              "ticks": ""
             }
            },
            "type": "scattercarpet"
           }
          ],
          "scattergeo": [
           {
            "marker": {
             "colorbar": {
              "outlinewidth": 0,
              "ticks": ""
             }
            },
            "type": "scattergeo"
           }
          ],
          "scattergl": [
           {
            "marker": {
             "colorbar": {
              "outlinewidth": 0,
              "ticks": ""
             }
            },
            "type": "scattergl"
           }
          ],
          "scattermap": [
           {
            "marker": {
             "colorbar": {
              "outlinewidth": 0,
              "ticks": ""
             }
            },
            "type": "scattermap"
           }
          ],
          "scattermapbox": [
           {
            "marker": {
             "colorbar": {
              "outlinewidth": 0,
              "ticks": ""
             }
            },
            "type": "scattermapbox"
           }
          ],
          "scatterpolar": [
           {
            "marker": {
             "colorbar": {
              "outlinewidth": 0,
              "ticks": ""
             }
            },
            "type": "scatterpolar"
           }
          ],
          "scatterpolargl": [
           {
            "marker": {
             "colorbar": {
              "outlinewidth": 0,
              "ticks": ""
             }
            },
            "type": "scatterpolargl"
           }
          ],
          "scatterternary": [
           {
            "marker": {
             "colorbar": {
              "outlinewidth": 0,
              "ticks": ""
             }
            },
            "type": "scatterternary"
           }
          ],
          "surface": [
           {
            "colorbar": {
             "outlinewidth": 0,
             "ticks": ""
            },
            "colorscale": [
             [
              0,
              "#0d0887"
             ],
             [
              0.1111111111111111,
              "#46039f"
             ],
             [
              0.2222222222222222,
              "#7201a8"
             ],
             [
              0.3333333333333333,
              "#9c179e"
             ],
             [
              0.4444444444444444,
              "#bd3786"
             ],
             [
              0.5555555555555556,
              "#d8576b"
             ],
             [
              0.6666666666666666,
              "#ed7953"
             ],
             [
              0.7777777777777778,
              "#fb9f3a"
             ],
             [
              0.8888888888888888,
              "#fdca26"
             ],
             [
              1,
              "#f0f921"
             ]
            ],
            "type": "surface"
           }
          ],
          "table": [
           {
            "cells": {
             "fill": {
              "color": "#EBF0F8"
             },
             "line": {
              "color": "white"
             }
            },
            "header": {
             "fill": {
              "color": "#C8D4E3"
             },
             "line": {
              "color": "white"
             }
            },
            "type": "table"
           }
          ]
         },
         "layout": {
          "annotationdefaults": {
           "arrowcolor": "#2a3f5f",
           "arrowhead": 0,
           "arrowwidth": 1
          },
          "autotypenumbers": "strict",
          "coloraxis": {
           "colorbar": {
            "outlinewidth": 0,
            "ticks": ""
           }
          },
          "colorscale": {
           "diverging": [
            [
             0,
             "#8e0152"
            ],
            [
             0.1,
             "#c51b7d"
            ],
            [
             0.2,
             "#de77ae"
            ],
            [
             0.3,
             "#f1b6da"
            ],
            [
             0.4,
             "#fde0ef"
            ],
            [
             0.5,
             "#f7f7f7"
            ],
            [
             0.6,
             "#e6f5d0"
            ],
            [
             0.7,
             "#b8e186"
            ],
            [
             0.8,
             "#7fbc41"
            ],
            [
             0.9,
             "#4d9221"
            ],
            [
             1,
             "#276419"
            ]
           ],
           "sequential": [
            [
             0,
             "#0d0887"
            ],
            [
             0.1111111111111111,
             "#46039f"
            ],
            [
             0.2222222222222222,
             "#7201a8"
            ],
            [
             0.3333333333333333,
             "#9c179e"
            ],
            [
             0.4444444444444444,
             "#bd3786"
            ],
            [
             0.5555555555555556,
             "#d8576b"
            ],
            [
             0.6666666666666666,
             "#ed7953"
            ],
            [
             0.7777777777777778,
             "#fb9f3a"
            ],
            [
             0.8888888888888888,
             "#fdca26"
            ],
            [
             1,
             "#f0f921"
            ]
           ],
           "sequentialminus": [
            [
             0,
             "#0d0887"
            ],
            [
             0.1111111111111111,
             "#46039f"
            ],
            [
             0.2222222222222222,
             "#7201a8"
            ],
            [
             0.3333333333333333,
             "#9c179e"
            ],
            [
             0.4444444444444444,
             "#bd3786"
            ],
            [
             0.5555555555555556,
             "#d8576b"
            ],
            [
             0.6666666666666666,
             "#ed7953"
            ],
            [
             0.7777777777777778,
             "#fb9f3a"
            ],
            [
             0.8888888888888888,
             "#fdca26"
            ],
            [
             1,
             "#f0f921"
            ]
           ]
          },
          "colorway": [
           "#636efa",
           "#EF553B",
           "#00cc96",
           "#ab63fa",
           "#FFA15A",
           "#19d3f3",
           "#FF6692",
           "#B6E880",
           "#FF97FF",
           "#FECB52"
          ],
          "font": {
           "color": "#2a3f5f"
          },
          "geo": {
           "bgcolor": "white",
           "lakecolor": "white",
           "landcolor": "#E5ECF6",
           "showlakes": true,
           "showland": true,
           "subunitcolor": "white"
          },
          "hoverlabel": {
           "align": "left"
          },
          "hovermode": "closest",
          "mapbox": {
           "style": "light"
          },
          "paper_bgcolor": "white",
          "plot_bgcolor": "#E5ECF6",
          "polar": {
           "angularaxis": {
            "gridcolor": "white",
            "linecolor": "white",
            "ticks": ""
           },
           "bgcolor": "#E5ECF6",
           "radialaxis": {
            "gridcolor": "white",
            "linecolor": "white",
            "ticks": ""
           }
          },
          "scene": {
           "xaxis": {
            "backgroundcolor": "#E5ECF6",
            "gridcolor": "white",
            "gridwidth": 2,
            "linecolor": "white",
            "showbackground": true,
            "ticks": "",
            "zerolinecolor": "white"
           },
           "yaxis": {
            "backgroundcolor": "#E5ECF6",
            "gridcolor": "white",
            "gridwidth": 2,
            "linecolor": "white",
            "showbackground": true,
            "ticks": "",
            "zerolinecolor": "white"
           },
           "zaxis": {
            "backgroundcolor": "#E5ECF6",
            "gridcolor": "white",
            "gridwidth": 2,
            "linecolor": "white",
            "showbackground": true,
            "ticks": "",
            "zerolinecolor": "white"
           }
          },
          "shapedefaults": {
           "line": {
            "color": "#2a3f5f"
           }
          },
          "ternary": {
           "aaxis": {
            "gridcolor": "white",
            "linecolor": "white",
            "ticks": ""
           },
           "baxis": {
            "gridcolor": "white",
            "linecolor": "white",
            "ticks": ""
           },
           "bgcolor": "#E5ECF6",
           "caxis": {
            "gridcolor": "white",
            "linecolor": "white",
            "ticks": ""
           }
          },
          "title": {
           "x": 0.05
          },
          "xaxis": {
           "automargin": true,
           "gridcolor": "white",
           "linecolor": "white",
           "ticks": "",
           "title": {
            "standoff": 15
           },
           "zerolinecolor": "white",
           "zerolinewidth": 2
          },
          "yaxis": {
           "automargin": true,
           "gridcolor": "white",
           "linecolor": "white",
           "ticks": "",
           "title": {
            "standoff": 15
           },
           "zerolinecolor": "white",
           "zerolinewidth": 2
          }
         }
        },
        "xaxis": {
         "anchor": "y",
         "domain": [
          0,
          1
         ],
         "title": {
          "text": "time"
         }
        },
        "yaxis": {
         "anchor": "x",
         "domain": [
          0,
          1
         ],
         "title": {
          "text": "close"
         }
        }
       }
      }
     },
     "metadata": {},
     "output_type": "display_data"
    }
   ],
   "source": [
    "import plotly.express as px\n",
    "import plotly.io as pio\n",
    "\n",
    "pio.renderers.default = 'vscode' \n",
    "\n",
    "fig = px.line(df, x='time', y='close')\n",
    "fig"
   ]
  },
  {
   "cell_type": "code",
   "execution_count": 39,
   "id": "d480188e",
   "metadata": {},
   "outputs": [
    {
     "data": {
      "application/vnd.plotly.v1+json": {
       "config": {
        "plotlyServerURL": "https://plot.ly"
       },
       "data": [
        {
         "close": {
          "bdata": "w/UoXI+CP0AAAAAAAIA/QD0K16NwfT9A4XoUrkehP0BI4XoUrsc/QGZmZmZmpj9AMzMzMzOzP0DhehSuR6E/QLgehetRuD9ArkfhehSuP0ApXI/C9ag/QB+F61G4nj9Aw/UoXI+CP0AK16NwPYo/QEjhehSuhz9AFK5H4XqUP0AK16NwPYo/QFK4HoXrkT9AzczMzMyMP0BSuB6F65E/QM3MzMzMjD9AXI/C9SicP0DhehSuR6E/QOF6FK5HoT9A7FG4HoWrP0AfhetRuJ4/QK5H4XoUrj9AuB6F61G4P0C4HoXrUbg/QM3MzMzMzD9A4XoUrkfhP0DsUbgehes/QClcj8L16D9AH4XrUbjeP0CkcD0K1+M/QB+F61G43j9ArkfhehTuP0D2KFyPwvU/QDMzMzMz8z9AKVyPwvXoP0AfhetRuN4/QOF6FK5H4T9AFK5H4XrUP0BI4XoUrsc/QI/C9Shczz9A16NwPQrXP0BSuB6F69E/QFK4HoXr0T9AXI/C9SjcP0DsUbgehes/QGZmZmZm5j9AKVyPwvXoP0Bcj8L1KNw/QNejcD0K1z9ArkfhehTuP0DD9ShcjwJAQAAAAAAAAEBA7FG4HoULQEAUrkfhehRAQHsUrkfhGkBA16NwPQoXQECuR+F6FA5AQHE9CtejEEBAzczMzMwMQEDNzMzMzAxAQM3MzMzMDEBAzczMzMwMQEDNzMzMzAxAQEjhehSuB0BA4XoUrkcBQECF61G4HgVAQAAAAAAAAEBAPQrXo3D9P0CkcD0K1wNAQHE9CtejEEBAH4XrUbgeQEBcj8L1KBxAQOxRuB6FK0BArkfhehQuQEApXI/C9ShAQOxRuB6FK0BA4XoUrkchQEDhehSuRyFAQB+F61G4HkBAH4XrUbgeQEAfhetRuB5AQLgehetRGEBA16NwPQoXQEC4HoXrURhAQLgehetRGEBAexSuR+EaQEAAAAAAACBAQMP1KFyPIkBAw/UoXI8iQEAfhetRuB5AQKRwPQrXI0BAAAAAAAAgQEA9CtejcB1AQKRwPQrXI0BAPQrXo3AdQEB7FK5H4RpAQD0K16NwHUBAPQrXo3AdQEAfhetRuB5AQMP1KFyPIkBAw/UoXI8iQECkcD0K1yNAQMP1KFyPIkBAAAAAAAAgQEDD9ShcjyJAQEjhehSuJ0BAZmZmZmYmQEA=",
          "dtype": "f8"
         },
         "high": {
          "bdata": "CtejcD2KP0CF61G4HoU/QD0K16NwfT9A7FG4HoWrP0DNzMzMzMw/QM3MzMzMzD9AexSuR+G6P0C4HoXrUbg/QLgehetRuD9AhetRuB7FP0AzMzMzM7M/QHE9CtejsD9AKVyPwvWoP0AUrkfhepQ/QI/C9Shcjz9ApHA9CtejP0DXo3A9Cpc/QFK4HoXrkT9AUrgeheuRP0AUrkfhepQ/QNejcD0Klz9AH4XrUbieP0BmZmZmZqY/QGZmZmZmpj9ArkfhehSuP0CuR+F6FK4/QK5H4XoUrj9ASOF6FK7HP0DD9Shcj8I/QBSuR+F61D9A7FG4HoXrP0BxPQrXo/A/QDMzMzMz8z9ArkfhehTuP0DsUbgehes/QClcj8L16D9ArkfhehTuP0A9CtejcP0/QHsUrkfh+j9AcT0K16PwP0ApXI/C9eg/QKRwPQrX4z9A4XoUrkfhP0AUrkfhetQ/QFK4HoXr0T9AH4XrUbjeP0CamZmZmdk/QNejcD0K1z9AXI/C9SjcP0CuR+F6FO4/QOxRuB6F6z9A7FG4HoXrP0AzMzMzM/M/QB+F61G43j9AcT0K16PwP0CkcD0K1wNAQGZmZmZmBkBArkfhehQOQEDXo3A9ChdAQFyPwvUoHEBAH4XrUbgeQECamZmZmRlAQDMzMzMzE0BAcT0K16MQQEDNzMzMzAxAQK5H4XoUDkBAzczMzMwMQEDNzMzMzAxAQEjhehSuB0BASOF6FK4HQEDsUbgehQtAQArXo3A9CkBA4XoUrkcBQECF61G4HgVAQHE9CtejEEBA4XoUrkchQEAAAAAAACBAQK5H4XoULkBAUrgehesxQEBSuB6F6zFAQI/C9ShcL0BA7FG4HoUrQECkcD0K1yNAQKRwPQrXI0BAw/UoXI8iQEDD9ShcjyJAQOF6FK5HIUBAexSuR+EaQEB7FK5H4RpAQHsUrkfhGkBAXI/C9SgcQEDD9ShcjyJAQKRwPQrXI0BAhetRuB4lQEDD9ShcjyJAQIXrUbgeJUBApHA9CtcjQEAAAAAAACBAQKRwPQrXI0BApHA9CtcjQEAfhetRuB5AQAAAAAAAIEBAH4XrUbgeQEDhehSuRyFAQMP1KFyPIkBApHA9CtcjQECF61G4HiVAQIXrUbgeJUBApHA9CtcjQECkcD0K1yNAQClcj8L1KEBAKVyPwvUoQEA=",
          "dtype": "f8"
         },
         "low": {
          "bdata": "w/UoXI+CP0B7FK5H4Xo/QDMzMzMzcz9Aj8L1KFyPP0CamZmZmZk/QFyPwvUonD9AH4XrUbieP0DhehSuR6E/QJqZmZmZmT9A4XoUrkehP0BmZmZmZqY/QFyPwvUonD9Aw/UoXI+CP0DD9Shcj4I/QHsUrkfhej9ASOF6FK6HP0BI4XoUroc/QMP1KFyPgj9ASOF6FK6HP0CF61G4HoU/QArXo3A9ij9ACtejcD2KP0AUrkfhepQ/QFyPwvUonD9AH4XrUbieP0Bcj8L1KJw/QFyPwvUonD9A7FG4HoWrP0DsUbgehas/QLgehetRuD9ACtejcD3KP0Bcj8L1KNw/QOF6FK5H4T9AXI/C9SjcP0AfhetRuN4/QJqZmZmZ2T9AXI/C9SjcP0DsUbgehes/QHE9Ctej8D9AH4XrUbjeP0AfhetRuN4/QB+F61G43j9AUrgehevRP0AAAAAAAMA/QMP1KFyPwj9Aj8L1KFzPP0CPwvUoXM8/QM3MzMzMzD9Aj8L1KFzPP0DXo3A9Ctc/QKRwPQrX4z9A4XoUrkfhP0Bcj8L1KNw/QFK4HoXr0T9Aj8L1KFzPP0DsUbgehes/QD0K16Nw/T9AexSuR+H6P0BI4XoUrgdAQFK4HoXrEUBA16NwPQoXQEAK16NwPQpAQOxRuB6FC0BA7FG4HoULQEAK16NwPQpAQClcj8L1CEBAZmZmZmYGQEDsUbgehQtAQHE9Ctej8D9AexSuR+H6P0AAAAAAAABAQHsUrkfh+j9APQrXo3D9P0A9CtejcP0/QOF6FK5HAUBAcT0K16MQQEAUrkfhehRAQFyPwvUoHEBACtejcD0qQEBmZmZmZiZAQGZmZmZmJkBAPQrXo3AdQEDXo3A9ChdAQFyPwvUoHEBAexSuR+EaQEB7FK5H4RpAQDMzMzMzE0BAj8L1KFwPQEAzMzMzMxNAQBSuR+F6FEBA9ihcj8IVQECamZmZmRlAQPYoXI/CFUBAAAAAAAAgQEBcj8L1KBxAQB+F61G4HkBAexSuR+EaQEB7FK5H4RpAQHsUrkfhGkBAXI/C9SgcQECamZmZmRlAQJqZmZmZGUBAexSuR+EaQEB7FK5H4RpAQFyPwvUoHEBAPQrXo3AdQEDhehSuRyFAQOF6FK5HIUBAH4XrUbgeQEAfhetRuB5AQMP1KFyPIkBAhetRuB4lQEA=",
          "dtype": "f8"
         },
         "open": {
          "bdata": "hetRuB6FP0CF61G4HoU/QHsUrkfhej9AFK5H4XqUP0CkcD0K16M/QIXrUbgexT9ArkfhehSuP0AzMzMzM7M/QOF6FK5HoT9AuB6F61G4P0BxPQrXo7A/QOxRuB6Fqz9A4XoUrkehP0BI4XoUroc/QArXo3A9ij9ASOF6FK6HP0AUrkfhepQ/QM3MzMzMjD9AUrgeheuRP0CPwvUoXI8/QM3MzMzMjD9ACtejcD2KP0AfhetRuJ4/QOF6FK5HoT9AZmZmZmamP0DsUbgehas/QB+F61G4nj9ArkfhehSuP0B7FK5H4bo/QLgehetRuD9ACtejcD3KP0AfhetRuN4/QOxRuB6F6z9A7FG4HoXrP0DhehSuR+E/QGZmZmZm5j9AH4XrUbjeP0DsUbgehes/QPYoXI/C9T9AcT0K16PwP0BmZmZmZuY/QOF6FK5H4T9A4XoUrkfhP0AUrkfhetQ/QEjhehSuxz9Aj8L1KFzPP0CamZmZmdk/QFK4HoXr0T9AUrgehevRP0Bcj8L1KNw/QOxRuB6F6z9AKVyPwvXoP0ApXI/C9eg/QFyPwvUo3D9AmpmZmZnZP0BxPQrXo/A/QOF6FK5HAUBAPQrXo3D9P0DsUbgehQtAQBSuR+F6FEBAexSuR+EaQEDXo3A9ChdAQK5H4XoUDkBAcT0K16MQQEDsUbgehQtAQOxRuB6FC0BAzczMzMwMQEDNzMzMzAxAQAAAAAAAAEBAZmZmZmYGQEAAAAAAAABAQKRwPQrXA0BAAAAAAAAAQEAAAAAAAABAQKRwPQrXA0BAcT0K16MQQEAAAAAAACBAQFyPwvUoHEBA7FG4HoUrQECPwvUoXC9AQClcj8L1KEBA7FG4HoUrQEAAAAAAACBAQOF6FK5HIUBAH4XrUbgeQEAAAAAAACBAQB+F61G4HkBAuB6F61EYQEDXo3A9ChdAQLgehetRGEBA9ihcj8IVQEB7FK5H4RpAQB+F61G4HkBAw/UoXI8iQEDhehSuRyFAQB+F61G4HkBAw/UoXI8iQEAfhetRuB5AQFyPwvUoHEBA4XoUrkchQEBcj8L1KBxAQJqZmZmZGUBAXI/C9SgcQEA9CtejcB1AQB+F61G4HkBA4XoUrkchQEDD9ShcjyJAQMP1KFyPIkBAw/UoXI8iQEAfhetRuB5AQMP1KFyPIkBAKVyPwvUoQEA=",
          "dtype": "f8"
         },
         "type": "candlestick",
         "x": [
          "2025-07-01T16:40:00.000000000",
          "2025-07-01T16:45:00.000000000",
          "2025-07-01T16:50:00.000000000",
          "2025-07-02T10:00:00.000000000",
          "2025-07-02T10:05:00.000000000",
          "2025-07-02T10:10:00.000000000",
          "2025-07-02T10:15:00.000000000",
          "2025-07-02T10:20:00.000000000",
          "2025-07-02T10:25:00.000000000",
          "2025-07-02T10:30:00.000000000",
          "2025-07-02T10:35:00.000000000",
          "2025-07-02T10:40:00.000000000",
          "2025-07-02T10:45:00.000000000",
          "2025-07-02T10:50:00.000000000",
          "2025-07-02T10:55:00.000000000",
          "2025-07-02T11:00:00.000000000",
          "2025-07-02T11:05:00.000000000",
          "2025-07-02T11:10:00.000000000",
          "2025-07-02T11:15:00.000000000",
          "2025-07-02T11:20:00.000000000",
          "2025-07-02T11:25:00.000000000",
          "2025-07-02T11:30:00.000000000",
          "2025-07-02T11:35:00.000000000",
          "2025-07-02T11:40:00.000000000",
          "2025-07-02T11:45:00.000000000",
          "2025-07-02T11:50:00.000000000",
          "2025-07-02T11:55:00.000000000",
          "2025-07-02T12:00:00.000000000",
          "2025-07-02T12:05:00.000000000",
          "2025-07-02T12:10:00.000000000",
          "2025-07-02T12:15:00.000000000",
          "2025-07-02T12:20:00.000000000",
          "2025-07-02T12:25:00.000000000",
          "2025-07-02T12:30:00.000000000",
          "2025-07-02T12:35:00.000000000",
          "2025-07-02T12:40:00.000000000",
          "2025-07-02T12:45:00.000000000",
          "2025-07-02T12:50:00.000000000",
          "2025-07-02T12:55:00.000000000",
          "2025-07-02T13:00:00.000000000",
          "2025-07-02T13:05:00.000000000",
          "2025-07-02T13:10:00.000000000",
          "2025-07-02T13:15:00.000000000",
          "2025-07-02T13:20:00.000000000",
          "2025-07-02T13:25:00.000000000",
          "2025-07-02T13:30:00.000000000",
          "2025-07-02T13:35:00.000000000",
          "2025-07-02T13:40:00.000000000",
          "2025-07-02T13:45:00.000000000",
          "2025-07-02T13:50:00.000000000",
          "2025-07-02T13:55:00.000000000",
          "2025-07-02T14:00:00.000000000",
          "2025-07-02T14:05:00.000000000",
          "2025-07-02T14:10:00.000000000",
          "2025-07-02T14:15:00.000000000",
          "2025-07-02T14:20:00.000000000",
          "2025-07-02T14:25:00.000000000",
          "2025-07-02T14:30:00.000000000",
          "2025-07-02T14:35:00.000000000",
          "2025-07-02T14:40:00.000000000",
          "2025-07-02T14:45:00.000000000",
          "2025-07-02T14:50:00.000000000",
          "2025-07-02T14:55:00.000000000",
          "2025-07-02T15:00:00.000000000",
          "2025-07-02T15:05:00.000000000",
          "2025-07-02T15:10:00.000000000",
          "2025-07-02T15:15:00.000000000",
          "2025-07-02T15:20:00.000000000",
          "2025-07-03T10:00:00.000000000",
          "2025-07-03T10:05:00.000000000",
          "2025-07-03T10:10:00.000000000",
          "2025-07-03T10:15:00.000000000",
          "2025-07-03T10:20:00.000000000",
          "2025-07-03T10:25:00.000000000",
          "2025-07-03T10:30:00.000000000",
          "2025-07-03T10:35:00.000000000",
          "2025-07-03T10:40:00.000000000",
          "2025-07-03T10:45:00.000000000",
          "2025-07-03T10:50:00.000000000",
          "2025-07-03T10:55:00.000000000",
          "2025-07-03T11:00:00.000000000",
          "2025-07-03T11:05:00.000000000",
          "2025-07-03T11:10:00.000000000",
          "2025-07-03T11:15:00.000000000",
          "2025-07-03T11:20:00.000000000",
          "2025-07-03T11:25:00.000000000",
          "2025-07-03T11:30:00.000000000",
          "2025-07-03T11:35:00.000000000",
          "2025-07-03T11:40:00.000000000",
          "2025-07-03T11:45:00.000000000",
          "2025-07-03T11:50:00.000000000",
          "2025-07-03T11:55:00.000000000",
          "2025-07-03T12:00:00.000000000",
          "2025-07-03T12:05:00.000000000",
          "2025-07-03T12:10:00.000000000",
          "2025-07-03T12:15:00.000000000",
          "2025-07-03T12:20:00.000000000",
          "2025-07-03T12:25:00.000000000",
          "2025-07-03T12:30:00.000000000",
          "2025-07-03T12:35:00.000000000",
          "2025-07-03T12:40:00.000000000",
          "2025-07-03T12:45:00.000000000",
          "2025-07-03T12:50:00.000000000",
          "2025-07-03T12:55:00.000000000",
          "2025-07-03T13:00:00.000000000",
          "2025-07-03T13:05:00.000000000",
          "2025-07-03T13:10:00.000000000",
          "2025-07-03T13:15:00.000000000",
          "2025-07-03T13:20:00.000000000",
          "2025-07-03T13:25:00.000000000",
          "2025-07-03T13:30:00.000000000",
          "2025-07-03T13:35:00.000000000"
         ]
        }
       ],
       "layout": {
        "template": {
         "data": {
          "bar": [
           {
            "error_x": {
             "color": "#2a3f5f"
            },
            "error_y": {
             "color": "#2a3f5f"
            },
            "marker": {
             "line": {
              "color": "#E5ECF6",
              "width": 0.5
             },
             "pattern": {
              "fillmode": "overlay",
              "size": 10,
              "solidity": 0.2
             }
            },
            "type": "bar"
           }
          ],
          "barpolar": [
           {
            "marker": {
             "line": {
              "color": "#E5ECF6",
              "width": 0.5
             },
             "pattern": {
              "fillmode": "overlay",
              "size": 10,
              "solidity": 0.2
             }
            },
            "type": "barpolar"
           }
          ],
          "carpet": [
           {
            "aaxis": {
             "endlinecolor": "#2a3f5f",
             "gridcolor": "white",
             "linecolor": "white",
             "minorgridcolor": "white",
             "startlinecolor": "#2a3f5f"
            },
            "baxis": {
             "endlinecolor": "#2a3f5f",
             "gridcolor": "white",
             "linecolor": "white",
             "minorgridcolor": "white",
             "startlinecolor": "#2a3f5f"
            },
            "type": "carpet"
           }
          ],
          "choropleth": [
           {
            "colorbar": {
             "outlinewidth": 0,
             "ticks": ""
            },
            "type": "choropleth"
           }
          ],
          "contour": [
           {
            "colorbar": {
             "outlinewidth": 0,
             "ticks": ""
            },
            "colorscale": [
             [
              0,
              "#0d0887"
             ],
             [
              0.1111111111111111,
              "#46039f"
             ],
             [
              0.2222222222222222,
              "#7201a8"
             ],
             [
              0.3333333333333333,
              "#9c179e"
             ],
             [
              0.4444444444444444,
              "#bd3786"
             ],
             [
              0.5555555555555556,
              "#d8576b"
             ],
             [
              0.6666666666666666,
              "#ed7953"
             ],
             [
              0.7777777777777778,
              "#fb9f3a"
             ],
             [
              0.8888888888888888,
              "#fdca26"
             ],
             [
              1,
              "#f0f921"
             ]
            ],
            "type": "contour"
           }
          ],
          "contourcarpet": [
           {
            "colorbar": {
             "outlinewidth": 0,
             "ticks": ""
            },
            "type": "contourcarpet"
           }
          ],
          "heatmap": [
           {
            "colorbar": {
             "outlinewidth": 0,
             "ticks": ""
            },
            "colorscale": [
             [
              0,
              "#0d0887"
             ],
             [
              0.1111111111111111,
              "#46039f"
             ],
             [
              0.2222222222222222,
              "#7201a8"
             ],
             [
              0.3333333333333333,
              "#9c179e"
             ],
             [
              0.4444444444444444,
              "#bd3786"
             ],
             [
              0.5555555555555556,
              "#d8576b"
             ],
             [
              0.6666666666666666,
              "#ed7953"
             ],
             [
              0.7777777777777778,
              "#fb9f3a"
             ],
             [
              0.8888888888888888,
              "#fdca26"
             ],
             [
              1,
              "#f0f921"
             ]
            ],
            "type": "heatmap"
           }
          ],
          "histogram": [
           {
            "marker": {
             "pattern": {
              "fillmode": "overlay",
              "size": 10,
              "solidity": 0.2
             }
            },
            "type": "histogram"
           }
          ],
          "histogram2d": [
           {
            "colorbar": {
             "outlinewidth": 0,
             "ticks": ""
            },
            "colorscale": [
             [
              0,
              "#0d0887"
             ],
             [
              0.1111111111111111,
              "#46039f"
             ],
             [
              0.2222222222222222,
              "#7201a8"
             ],
             [
              0.3333333333333333,
              "#9c179e"
             ],
             [
              0.4444444444444444,
              "#bd3786"
             ],
             [
              0.5555555555555556,
              "#d8576b"
             ],
             [
              0.6666666666666666,
              "#ed7953"
             ],
             [
              0.7777777777777778,
              "#fb9f3a"
             ],
             [
              0.8888888888888888,
              "#fdca26"
             ],
             [
              1,
              "#f0f921"
             ]
            ],
            "type": "histogram2d"
           }
          ],
          "histogram2dcontour": [
           {
            "colorbar": {
             "outlinewidth": 0,
             "ticks": ""
            },
            "colorscale": [
             [
              0,
              "#0d0887"
             ],
             [
              0.1111111111111111,
              "#46039f"
             ],
             [
              0.2222222222222222,
              "#7201a8"
             ],
             [
              0.3333333333333333,
              "#9c179e"
             ],
             [
              0.4444444444444444,
              "#bd3786"
             ],
             [
              0.5555555555555556,
              "#d8576b"
             ],
             [
              0.6666666666666666,
              "#ed7953"
             ],
             [
              0.7777777777777778,
              "#fb9f3a"
             ],
             [
              0.8888888888888888,
              "#fdca26"
             ],
             [
              1,
              "#f0f921"
             ]
            ],
            "type": "histogram2dcontour"
           }
          ],
          "mesh3d": [
           {
            "colorbar": {
             "outlinewidth": 0,
             "ticks": ""
            },
            "type": "mesh3d"
           }
          ],
          "parcoords": [
           {
            "line": {
             "colorbar": {
              "outlinewidth": 0,
              "ticks": ""
             }
            },
            "type": "parcoords"
           }
          ],
          "pie": [
           {
            "automargin": true,
            "type": "pie"
           }
          ],
          "scatter": [
           {
            "fillpattern": {
             "fillmode": "overlay",
             "size": 10,
             "solidity": 0.2
            },
            "type": "scatter"
           }
          ],
          "scatter3d": [
           {
            "line": {
             "colorbar": {
              "outlinewidth": 0,
              "ticks": ""
             }
            },
            "marker": {
             "colorbar": {
              "outlinewidth": 0,
              "ticks": ""
             }
            },
            "type": "scatter3d"
           }
          ],
          "scattercarpet": [
           {
            "marker": {
             "colorbar": {
              "outlinewidth": 0,
              "ticks": ""
             }
            },
            "type": "scattercarpet"
           }
          ],
          "scattergeo": [
           {
            "marker": {
             "colorbar": {
              "outlinewidth": 0,
              "ticks": ""
             }
            },
            "type": "scattergeo"
           }
          ],
          "scattergl": [
           {
            "marker": {
             "colorbar": {
              "outlinewidth": 0,
              "ticks": ""
             }
            },
            "type": "scattergl"
           }
          ],
          "scattermap": [
           {
            "marker": {
             "colorbar": {
              "outlinewidth": 0,
              "ticks": ""
             }
            },
            "type": "scattermap"
           }
          ],
          "scattermapbox": [
           {
            "marker": {
             "colorbar": {
              "outlinewidth": 0,
              "ticks": ""
             }
            },
            "type": "scattermapbox"
           }
          ],
          "scatterpolar": [
           {
            "marker": {
             "colorbar": {
              "outlinewidth": 0,
              "ticks": ""
             }
            },
            "type": "scatterpolar"
           }
          ],
          "scatterpolargl": [
           {
            "marker": {
             "colorbar": {
              "outlinewidth": 0,
              "ticks": ""
             }
            },
            "type": "scatterpolargl"
           }
          ],
          "scatterternary": [
           {
            "marker": {
             "colorbar": {
              "outlinewidth": 0,
              "ticks": ""
             }
            },
            "type": "scatterternary"
           }
          ],
          "surface": [
           {
            "colorbar": {
             "outlinewidth": 0,
             "ticks": ""
            },
            "colorscale": [
             [
              0,
              "#0d0887"
             ],
             [
              0.1111111111111111,
              "#46039f"
             ],
             [
              0.2222222222222222,
              "#7201a8"
             ],
             [
              0.3333333333333333,
              "#9c179e"
             ],
             [
              0.4444444444444444,
              "#bd3786"
             ],
             [
              0.5555555555555556,
              "#d8576b"
             ],
             [
              0.6666666666666666,
              "#ed7953"
             ],
             [
              0.7777777777777778,
              "#fb9f3a"
             ],
             [
              0.8888888888888888,
              "#fdca26"
             ],
             [
              1,
              "#f0f921"
             ]
            ],
            "type": "surface"
           }
          ],
          "table": [
           {
            "cells": {
             "fill": {
              "color": "#EBF0F8"
             },
             "line": {
              "color": "white"
             }
            },
            "header": {
             "fill": {
              "color": "#C8D4E3"
             },
             "line": {
              "color": "white"
             }
            },
            "type": "table"
           }
          ]
         },
         "layout": {
          "annotationdefaults": {
           "arrowcolor": "#2a3f5f",
           "arrowhead": 0,
           "arrowwidth": 1
          },
          "autotypenumbers": "strict",
          "coloraxis": {
           "colorbar": {
            "outlinewidth": 0,
            "ticks": ""
           }
          },
          "colorscale": {
           "diverging": [
            [
             0,
             "#8e0152"
            ],
            [
             0.1,
             "#c51b7d"
            ],
            [
             0.2,
             "#de77ae"
            ],
            [
             0.3,
             "#f1b6da"
            ],
            [
             0.4,
             "#fde0ef"
            ],
            [
             0.5,
             "#f7f7f7"
            ],
            [
             0.6,
             "#e6f5d0"
            ],
            [
             0.7,
             "#b8e186"
            ],
            [
             0.8,
             "#7fbc41"
            ],
            [
             0.9,
             "#4d9221"
            ],
            [
             1,
             "#276419"
            ]
           ],
           "sequential": [
            [
             0,
             "#0d0887"
            ],
            [
             0.1111111111111111,
             "#46039f"
            ],
            [
             0.2222222222222222,
             "#7201a8"
            ],
            [
             0.3333333333333333,
             "#9c179e"
            ],
            [
             0.4444444444444444,
             "#bd3786"
            ],
            [
             0.5555555555555556,
             "#d8576b"
            ],
            [
             0.6666666666666666,
             "#ed7953"
            ],
            [
             0.7777777777777778,
             "#fb9f3a"
            ],
            [
             0.8888888888888888,
             "#fdca26"
            ],
            [
             1,
             "#f0f921"
            ]
           ],
           "sequentialminus": [
            [
             0,
             "#0d0887"
            ],
            [
             0.1111111111111111,
             "#46039f"
            ],
            [
             0.2222222222222222,
             "#7201a8"
            ],
            [
             0.3333333333333333,
             "#9c179e"
            ],
            [
             0.4444444444444444,
             "#bd3786"
            ],
            [
             0.5555555555555556,
             "#d8576b"
            ],
            [
             0.6666666666666666,
             "#ed7953"
            ],
            [
             0.7777777777777778,
             "#fb9f3a"
            ],
            [
             0.8888888888888888,
             "#fdca26"
            ],
            [
             1,
             "#f0f921"
            ]
           ]
          },
          "colorway": [
           "#636efa",
           "#EF553B",
           "#00cc96",
           "#ab63fa",
           "#FFA15A",
           "#19d3f3",
           "#FF6692",
           "#B6E880",
           "#FF97FF",
           "#FECB52"
          ],
          "font": {
           "color": "#2a3f5f"
          },
          "geo": {
           "bgcolor": "white",
           "lakecolor": "white",
           "landcolor": "#E5ECF6",
           "showlakes": true,
           "showland": true,
           "subunitcolor": "white"
          },
          "hoverlabel": {
           "align": "left"
          },
          "hovermode": "closest",
          "mapbox": {
           "style": "light"
          },
          "paper_bgcolor": "white",
          "plot_bgcolor": "#E5ECF6",
          "polar": {
           "angularaxis": {
            "gridcolor": "white",
            "linecolor": "white",
            "ticks": ""
           },
           "bgcolor": "#E5ECF6",
           "radialaxis": {
            "gridcolor": "white",
            "linecolor": "white",
            "ticks": ""
           }
          },
          "scene": {
           "xaxis": {
            "backgroundcolor": "#E5ECF6",
            "gridcolor": "white",
            "gridwidth": 2,
            "linecolor": "white",
            "showbackground": true,
            "ticks": "",
            "zerolinecolor": "white"
           },
           "yaxis": {
            "backgroundcolor": "#E5ECF6",
            "gridcolor": "white",
            "gridwidth": 2,
            "linecolor": "white",
            "showbackground": true,
            "ticks": "",
            "zerolinecolor": "white"
           },
           "zaxis": {
            "backgroundcolor": "#E5ECF6",
            "gridcolor": "white",
            "gridwidth": 2,
            "linecolor": "white",
            "showbackground": true,
            "ticks": "",
            "zerolinecolor": "white"
           }
          },
          "shapedefaults": {
           "line": {
            "color": "#2a3f5f"
           }
          },
          "ternary": {
           "aaxis": {
            "gridcolor": "white",
            "linecolor": "white",
            "ticks": ""
           },
           "baxis": {
            "gridcolor": "white",
            "linecolor": "white",
            "ticks": ""
           },
           "bgcolor": "#E5ECF6",
           "caxis": {
            "gridcolor": "white",
            "linecolor": "white",
            "ticks": ""
           }
          },
          "title": {
           "x": 0.05
          },
          "xaxis": {
           "automargin": true,
           "gridcolor": "white",
           "linecolor": "white",
           "ticks": "",
           "title": {
            "standoff": 15
           },
           "zerolinecolor": "white",
           "zerolinewidth": 2
          },
          "yaxis": {
           "automargin": true,
           "gridcolor": "white",
           "linecolor": "white",
           "ticks": "",
           "title": {
            "standoff": 15
           },
           "zerolinecolor": "white",
           "zerolinewidth": 2
          }
         }
        }
       }
      }
     },
     "metadata": {},
     "output_type": "display_data"
    }
   ],
   "source": [
    "fig = go.Figure(data=[go.Candlestick(\n",
    "    x=df['time'],\n",
    "    open =df['open'],\n",
    "    high = df['high'],\n",
    "    low=df['low'],\n",
    "    close=df['close']\n",
    ")])\n",
    "fig"
   ]
  },
  {
   "cell_type": "markdown",
   "id": "229830f5",
   "metadata": {},
   "source": [
    "## Bid e Ask"
   ]
  },
  {
   "cell_type": "code",
   "execution_count": null,
   "id": "122f338c",
   "metadata": {},
   "outputs": [
    {
     "data": {
      "text/html": [
       "<div>\n",
       "<style scoped>\n",
       "    .dataframe tbody tr th:only-of-type {\n",
       "        vertical-align: middle;\n",
       "    }\n",
       "\n",
       "    .dataframe tbody tr th {\n",
       "        vertical-align: top;\n",
       "    }\n",
       "\n",
       "    .dataframe thead th {\n",
       "        text-align: right;\n",
       "    }\n",
       "</style>\n",
       "<table border=\"1\" class=\"dataframe\">\n",
       "  <thead>\n",
       "    <tr style=\"text-align: right;\">\n",
       "      <th></th>\n",
       "      <th>time</th>\n",
       "      <th>bid</th>\n",
       "      <th>ask</th>\n",
       "      <th>last</th>\n",
       "      <th>volume</th>\n",
       "      <th>time_msc</th>\n",
       "      <th>flags</th>\n",
       "      <th>volume_real</th>\n",
       "    </tr>\n",
       "  </thead>\n",
       "  <tbody>\n",
       "    <tr>\n",
       "      <th>0</th>\n",
       "      <td>2025-07-01 16:41:38+00:00</td>\n",
       "      <td>31.52</td>\n",
       "      <td>31.53</td>\n",
       "      <td>31.53</td>\n",
       "      <td>100</td>\n",
       "      <td>1751388098754</td>\n",
       "      <td>1336</td>\n",
       "      <td>100.0</td>\n",
       "    </tr>\n",
       "    <tr>\n",
       "      <th>1</th>\n",
       "      <td>2025-07-01 16:41:40+00:00</td>\n",
       "      <td>31.52</td>\n",
       "      <td>31.53</td>\n",
       "      <td>31.53</td>\n",
       "      <td>900</td>\n",
       "      <td>1751388100081</td>\n",
       "      <td>1336</td>\n",
       "      <td>900.0</td>\n",
       "    </tr>\n",
       "    <tr>\n",
       "      <th>2</th>\n",
       "      <td>2025-07-01 16:41:40+00:00</td>\n",
       "      <td>31.52</td>\n",
       "      <td>31.53</td>\n",
       "      <td>31.53</td>\n",
       "      <td>600</td>\n",
       "      <td>1751388100083</td>\n",
       "      <td>1336</td>\n",
       "      <td>600.0</td>\n",
       "    </tr>\n",
       "    <tr>\n",
       "      <th>3</th>\n",
       "      <td>2025-07-01 16:41:40+00:00</td>\n",
       "      <td>31.52</td>\n",
       "      <td>31.53</td>\n",
       "      <td>31.53</td>\n",
       "      <td>1400</td>\n",
       "      <td>1751388100091</td>\n",
       "      <td>1336</td>\n",
       "      <td>1400.0</td>\n",
       "    </tr>\n",
       "    <tr>\n",
       "      <th>4</th>\n",
       "      <td>2025-07-01 16:41:40+00:00</td>\n",
       "      <td>31.52</td>\n",
       "      <td>31.53</td>\n",
       "      <td>31.53</td>\n",
       "      <td>100</td>\n",
       "      <td>1751388100102</td>\n",
       "      <td>1336</td>\n",
       "      <td>100.0</td>\n",
       "    </tr>\n",
       "    <tr>\n",
       "      <th>...</th>\n",
       "      <td>...</td>\n",
       "      <td>...</td>\n",
       "      <td>...</td>\n",
       "      <td>...</td>\n",
       "      <td>...</td>\n",
       "      <td>...</td>\n",
       "      <td>...</td>\n",
       "      <td>...</td>\n",
       "    </tr>\n",
       "    <tr>\n",
       "      <th>40885</th>\n",
       "      <td>2025-07-03 13:41:09+00:00</td>\n",
       "      <td>32.28</td>\n",
       "      <td>32.29</td>\n",
       "      <td>32.28</td>\n",
       "      <td>100</td>\n",
       "      <td>1751550069553</td>\n",
       "      <td>1112</td>\n",
       "      <td>100.0</td>\n",
       "    </tr>\n",
       "    <tr>\n",
       "      <th>40886</th>\n",
       "      <td>2025-07-03 13:41:09+00:00</td>\n",
       "      <td>32.28</td>\n",
       "      <td>32.29</td>\n",
       "      <td>32.28</td>\n",
       "      <td>100</td>\n",
       "      <td>1751550069553</td>\n",
       "      <td>1028</td>\n",
       "      <td>100.0</td>\n",
       "    </tr>\n",
       "    <tr>\n",
       "      <th>40887</th>\n",
       "      <td>2025-07-03 13:41:12+00:00</td>\n",
       "      <td>32.28</td>\n",
       "      <td>32.29</td>\n",
       "      <td>32.29</td>\n",
       "      <td>100</td>\n",
       "      <td>1751550072435</td>\n",
       "      <td>1080</td>\n",
       "      <td>100.0</td>\n",
       "    </tr>\n",
       "    <tr>\n",
       "      <th>40888</th>\n",
       "      <td>2025-07-03 13:41:19+00:00</td>\n",
       "      <td>32.28</td>\n",
       "      <td>32.29</td>\n",
       "      <td>32.29</td>\n",
       "      <td>200</td>\n",
       "      <td>1751550079067</td>\n",
       "      <td>1080</td>\n",
       "      <td>200.0</td>\n",
       "    </tr>\n",
       "    <tr>\n",
       "      <th>40889</th>\n",
       "      <td>2025-07-03 13:41:19+00:00</td>\n",
       "      <td>32.28</td>\n",
       "      <td>32.29</td>\n",
       "      <td>32.28</td>\n",
       "      <td>100</td>\n",
       "      <td>1751550079453</td>\n",
       "      <td>1112</td>\n",
       "      <td>100.0</td>\n",
       "    </tr>\n",
       "  </tbody>\n",
       "</table>\n",
       "<p>40890 rows × 8 columns</p>\n",
       "</div>"
      ],
      "text/plain": [
       "                           time    bid    ask   last  volume       time_msc  \\\n",
       "0     2025-07-01 16:41:38+00:00  31.52  31.53  31.53     100  1751388098754   \n",
       "1     2025-07-01 16:41:40+00:00  31.52  31.53  31.53     900  1751388100081   \n",
       "2     2025-07-01 16:41:40+00:00  31.52  31.53  31.53     600  1751388100083   \n",
       "3     2025-07-01 16:41:40+00:00  31.52  31.53  31.53    1400  1751388100091   \n",
       "4     2025-07-01 16:41:40+00:00  31.52  31.53  31.53     100  1751388100102   \n",
       "...                         ...    ...    ...    ...     ...            ...   \n",
       "40885 2025-07-03 13:41:09+00:00  32.28  32.29  32.28     100  1751550069553   \n",
       "40886 2025-07-03 13:41:09+00:00  32.28  32.29  32.28     100  1751550069553   \n",
       "40887 2025-07-03 13:41:12+00:00  32.28  32.29  32.29     100  1751550072435   \n",
       "40888 2025-07-03 13:41:19+00:00  32.28  32.29  32.29     200  1751550079067   \n",
       "40889 2025-07-03 13:41:19+00:00  32.28  32.29  32.28     100  1751550079453   \n",
       "\n",
       "       flags  volume_real  \n",
       "0       1336        100.0  \n",
       "1       1336        900.0  \n",
       "2       1336        600.0  \n",
       "3       1336       1400.0  \n",
       "4       1336        100.0  \n",
       "...      ...          ...  \n",
       "40885   1112        100.0  \n",
       "40886   1028        100.0  \n",
       "40887   1080        100.0  \n",
       "40888   1080        200.0  \n",
       "40889   1112        100.0  \n",
       "\n",
       "[40890 rows x 8 columns]"
      ]
     },
     "execution_count": 42,
     "metadata": {},
     "output_type": "execute_result"
    }
   ],
   "source": [
    "ticker = 'PETR4'\n",
    "t0 = datetime.today() - timedelta(days=2)\n",
    "t1 = datetime.today()\n",
    "data = mt5.copy_ticks_range(ticker, t0, t1, mt5.COPY_TICKS_ALL)\n",
    "df = pd.DataFrame(data)\n",
    "df['time'] = pd.to_datetime(df['time'], unit='s', utc=True)\n",
    "df"
   ]
  }
 ],
 "metadata": {
  "kernelspec": {
   "display_name": ".venv",
   "language": "python",
   "name": "python3"
  },
  "language_info": {
   "codemirror_mode": {
    "name": "ipython",
    "version": 3
   },
   "file_extension": ".py",
   "mimetype": "text/x-python",
   "name": "python",
   "nbconvert_exporter": "python",
   "pygments_lexer": "ipython3",
   "version": "3.12.4"
  }
 },
 "nbformat": 4,
 "nbformat_minor": 5
}
