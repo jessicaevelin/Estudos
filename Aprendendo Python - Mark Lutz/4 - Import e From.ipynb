{
 "cells": [
  {
   "cell_type": "markdown",
   "id": "59354b67",
   "metadata": {},
   "source": [
    "## Import e From"
   ]
  },
  {
   "cell_type": "code",
   "execution_count": 1,
   "id": "d83c11ce",
   "metadata": {},
   "outputs": [
    {
     "name": "stdout",
     "output_type": "stream",
     "text": [
      "Evelin\n",
      "['maçã', 'banana', 'laranja']\n",
      "100.5\n"
     ]
    }
   ],
   "source": [
    "# Importa apenas algumas funções e variáveis\n",
    "\n",
    "from modulo import imprime, frutas, carteira\n",
    "\n",
    "imprime('Evelin')\n",
    "print(frutas)\n",
    "print(carteira)"
   ]
  },
  {
   "cell_type": "code",
   "execution_count": 5,
   "id": "809d0aa9",
   "metadata": {},
   "outputs": [
    {
     "name": "stdout",
     "output_type": "stream",
     "text": [
      "Evelin\n",
      "['maçã', 'banana', 'laranja']\n",
      "100.5\n"
     ]
    }
   ],
   "source": [
    "# Atribui um objeto um módulo inteiro\n",
    "import modulo\n",
    "\n",
    "modulo.imprime('Evelin')\n",
    "print(modulo.frutas)\n",
    "print(modulo.carteira)"
   ]
  },
  {
   "cell_type": "code",
   "execution_count": 3,
   "id": "ad9cf412",
   "metadata": {},
   "outputs": [
    {
     "name": "stdout",
     "output_type": "stream",
     "text": [
      "Evelin\n",
      "['maçã', 'banana', 'laranja']\n",
      "100.5\n"
     ]
    }
   ],
   "source": [
    "# Importa todas as funções e variáveis\n",
    "\n",
    "from modulo import *\n",
    "\n",
    "imprime('Evelin')\n",
    "print(frutas)\n",
    "print(carteira)"
   ]
  }
 ],
 "metadata": {
  "kernelspec": {
   "display_name": ".venv",
   "language": "python",
   "name": "python3"
  },
  "language_info": {
   "codemirror_mode": {
    "name": "ipython",
    "version": 3
   },
   "file_extension": ".py",
   "mimetype": "text/x-python",
   "name": "python",
   "nbconvert_exporter": "python",
   "pygments_lexer": "ipython3",
   "version": "3.12.4"
  }
 },
 "nbformat": 4,
 "nbformat_minor": 5
}
