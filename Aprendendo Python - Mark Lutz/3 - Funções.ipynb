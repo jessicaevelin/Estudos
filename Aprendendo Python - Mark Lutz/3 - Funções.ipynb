{
 "cells": [
  {
   "cell_type": "markdown",
   "id": "c0c59564",
   "metadata": {},
   "source": [
    "# Funções\n",
    "\n",
    "<img src='./Dados/funcoes.png'></img>"
   ]
  },
  {
   "cell_type": "code",
   "execution_count": null,
   "id": "b39433c6",
   "metadata": {},
   "outputs": [
    {
     "data": {
      "text/plain": [
       "'abc|abc|abc|abc|abc|abc|abc|abc|abc|abc|'"
      ]
     },
     "execution_count": 5,
     "metadata": {},
     "output_type": "execute_result"
    }
   ],
   "source": [
    "def times(x,y):\n",
    "    return x*y \n",
    "\n",
    "times('abc|',10) # Objetos que suportam * vai rodar sem erro"
   ]
  },
  {
   "cell_type": "code",
   "execution_count": null,
   "id": "a76cbc04",
   "metadata": {},
   "outputs": [
    {
     "data": {
      "text/plain": [
       "['c', 'd']"
      ]
     },
     "execution_count": 16,
     "metadata": {},
     "output_type": "execute_result"
    }
   ],
   "source": [
    "def intersercao(seq1, seq2):\n",
    "    resultado = [] # variável local\n",
    "    for x in seq1:\n",
    "        if x in seq2:\n",
    "            resultado.append(x)\n",
    "    return resultado\n",
    "            \n",
    "intersercao('abcd','cdef')"
   ]
  },
  {
   "cell_type": "markdown",
   "id": "faa78758",
   "metadata": {},
   "source": [
    "## Escopos e Argumentos\n",
    "\n",
    "* Local: Dentro de um módulo envolvente\n",
    "\n",
    "* Global: Pode ser acessado fora da função, nível superior\n",
    "\n",
    "* Interno: <code>__builin__</code>, definidos pelo Python\n",
    "\n",
    "<img src='./Dados/escopo_legb.png'></img>\n",
    "\n",
    "De local para interno"
   ]
  },
  {
   "cell_type": "markdown",
   "id": "331e1d5e",
   "metadata": {},
   "source": [
    "* Global: x, fun\n",
    "\n",
    "* Local: z, y"
   ]
  },
  {
   "cell_type": "code",
   "execution_count": 25,
   "id": "40a36301",
   "metadata": {},
   "outputs": [
    {
     "name": "stdout",
     "output_type": "stream",
     "text": [
      "100\n",
      "8\n"
     ]
    }
   ],
   "source": [
    "# Escopo global\n",
    "x = 99\n",
    "\n",
    "def fun(y):\n",
    "    global w # Declara w como global\n",
    "    # Escopo local\n",
    "    w = 8\n",
    "    z = x + y\n",
    "    return z\n",
    "\n",
    "print(fun(1))\n",
    "print(w)"
   ]
  },
  {
   "cell_type": "code",
   "execution_count": 55,
   "id": "a10f6663",
   "metadata": {},
   "outputs": [
    {
     "data": {
      "text/plain": [
       "(19, 1000000000)"
      ]
     },
     "execution_count": 55,
     "metadata": {},
     "output_type": "execute_result"
    }
   ],
   "source": [
    "# Return em tuplas\n",
    "def fun(x,y=9):\n",
    "    z = x + y\n",
    "    w = x ** y\n",
    "    \n",
    "    return z,w\n",
    "\n",
    "a, b = fun(10,2)\n",
    "# ou \n",
    "fun(10)"
   ]
  },
  {
   "cell_type": "markdown",
   "id": "c7d1e1ad",
   "metadata": {},
   "source": [
    "## Argumentos arbitrários\n",
    "\n",
    "* '* e **' são funções que permitem qualquer número de argumentos\n",
    "\n",
    "<code>\n",
    "def f(*args):\n",
    "    print(args)\n",
    "</code>\n",
    "\n",
    "* O python vai encaixando os argumentos sem chaves primeiro e depois os com chave"
   ]
  },
  {
   "cell_type": "code",
   "execution_count": null,
   "id": "12a74eb2",
   "metadata": {},
   "outputs": [
    {
     "name": "stdout",
     "output_type": "stream",
     "text": [
      "(1, 2, 3, 4, 5, 6, 7, 8)\n"
     ]
    }
   ],
   "source": [
    "# Coleta os argumentos como uma tupla\n",
    "def f(*args):\n",
    "    print(args)\n",
    "\n",
    "f(1,2,3,4,5,6,7,8)"
   ]
  },
  {
   "cell_type": "code",
   "execution_count": null,
   "id": "5dce2478",
   "metadata": {},
   "outputs": [
    {
     "name": "stdout",
     "output_type": "stream",
     "text": [
      "{'a': 1, 'b': 2, 'c': 3, 'd': 4, 'e': 5}\n"
     ]
    }
   ],
   "source": [
    "# Coleta os argumentos como um dicionário\n",
    "def f(**args):\n",
    "    print(args)\n",
    "\n",
    "f(a=1,b=2,c=3,d=4,e=5)"
   ]
  },
  {
   "cell_type": "code",
   "execution_count": null,
   "id": "64ae03bb",
   "metadata": {},
   "outputs": [
    {
     "name": "stdout",
     "output_type": "stream",
     "text": [
      "1 (2, 3) {'x': 4, 'y': 5}\n",
      "None\n"
     ]
    }
   ],
   "source": [
    "# Misturando os 3\n",
    "def f(z, *pargs, **kargs):\n",
    "    print (z, pargs, kargs)\n",
    "    \n",
    "\n",
    "print(f(1, 2, 3,x=4, y=5))"
   ]
  },
  {
   "cell_type": "markdown",
   "id": "94ab7520",
   "metadata": {},
   "source": [
    "## Funções anônimas / Lambda\n",
    "\n",
    "lambda é uma função que retorna o resultado inves de atribuição\n",
    "\n",
    "Função anônimas são aquelas sem def\n",
    "\n",
    "Usada para instruções simples\n",
    "\n",
    "<img src='./Dados/lambda.png'></img>"
   ]
  },
  {
   "cell_type": "code",
   "execution_count": 60,
   "id": "21edc219",
   "metadata": {},
   "outputs": [
    {
     "data": {
      "text/plain": [
       "20"
      ]
     },
     "execution_count": 60,
     "metadata": {},
     "output_type": "execute_result"
    }
   ],
   "source": [
    "def dobrar(x):\n",
    "    return x * 2\n",
    "dobrar(10)"
   ]
  },
  {
   "cell_type": "code",
   "execution_count": null,
   "id": "9523d152",
   "metadata": {},
   "outputs": [
    {
     "data": {
      "text/plain": [
       "20"
      ]
     },
     "execution_count": 62,
     "metadata": {},
     "output_type": "execute_result"
    }
   ],
   "source": [
    "dobrar = lambda x: x*2\n",
    "dobrar(10)"
   ]
  },
  {
   "cell_type": "markdown",
   "id": "bd83f9ce",
   "metadata": {},
   "source": [
    "Por exemplo, uma função que cria um elevador de potência:\n",
    "\n",
    "* Se eu disser 2, quero uma função que eleve ao quadrado (²).\n",
    "\n",
    "* Se eu disser 3, quero uma função que eleve ao cubo (³)."
   ]
  },
  {
   "cell_type": "code",
   "execution_count": 64,
   "id": "5b35f126",
   "metadata": {},
   "outputs": [],
   "source": [
    "def potencia(n):\n",
    "    return lambda x: x ** n"
   ]
  },
  {
   "cell_type": "code",
   "execution_count": 65,
   "id": "d995a3f0",
   "metadata": {},
   "outputs": [
    {
     "data": {
      "text/plain": [
       "25"
      ]
     },
     "execution_count": 65,
     "metadata": {},
     "output_type": "execute_result"
    }
   ],
   "source": [
    "quadrado = potencia(2)\n",
    "quadrado(5)"
   ]
  },
  {
   "cell_type": "code",
   "execution_count": 68,
   "id": "1e9582d1",
   "metadata": {},
   "outputs": [
    {
     "data": {
      "text/plain": [
       "125"
      ]
     },
     "execution_count": 68,
     "metadata": {},
     "output_type": "execute_result"
    }
   ],
   "source": [
    "cubo = potencia(3)\n",
    "cubo(5)"
   ]
  },
  {
   "cell_type": "markdown",
   "id": "902f9c0f",
   "metadata": {},
   "source": [
    "## Apply"
   ]
  }
 ],
 "metadata": {
  "kernelspec": {
   "display_name": ".venv",
   "language": "python",
   "name": "python3"
  },
  "language_info": {
   "codemirror_mode": {
    "name": "ipython",
    "version": 3
   },
   "file_extension": ".py",
   "mimetype": "text/x-python",
   "name": "python",
   "nbconvert_exporter": "python",
   "pygments_lexer": "ipython3",
   "version": "3.12.4"
  }
 },
 "nbformat": 4,
 "nbformat_minor": 5
}
