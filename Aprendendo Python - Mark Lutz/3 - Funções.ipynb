{
 "cells": [
  {
   "cell_type": "markdown",
   "id": "c0c59564",
   "metadata": {},
   "source": [
    "# Funções\n",
    "\n",
    "<img src='./Dados/funcoes.png'></img>"
   ]
  },
  {
   "cell_type": "code",
   "execution_count": null,
   "id": "b39433c6",
   "metadata": {},
   "outputs": [
    {
     "data": {
      "text/plain": [
       "'abc|abc|abc|abc|abc|abc|abc|abc|abc|abc|'"
      ]
     },
     "execution_count": 5,
     "metadata": {},
     "output_type": "execute_result"
    }
   ],
   "source": [
    "def times(x,y):\n",
    "    return x*y \n",
    "\n",
    "times('abc|',10) # Objetos que suportam * vai rodar sem erro"
   ]
  },
  {
   "cell_type": "code",
   "execution_count": null,
   "id": "a76cbc04",
   "metadata": {},
   "outputs": [
    {
     "data": {
      "text/plain": [
       "['c', 'd']"
      ]
     },
     "execution_count": 16,
     "metadata": {},
     "output_type": "execute_result"
    }
   ],
   "source": [
    "def intersercao(seq1, seq2):\n",
    "    resultado = [] # variável local\n",
    "    for x in seq1:\n",
    "        if x in seq2:\n",
    "            resultado.append(x)\n",
    "    return resultado\n",
    "            \n",
    "intersercao('abcd','cdef')"
   ]
  },
  {
   "cell_type": "markdown",
   "id": "faa78758",
   "metadata": {},
   "source": [
    "## Escopos e Argumentos\n",
    "\n",
    "* Local: Dentro de um módulo envolvente\n",
    "\n",
    "* Global: Pode ser acessado fora da função, nível superior\n",
    "\n",
    "* Interno: <code>__builin__</code>, definidos pelo Python\n",
    "\n",
    "<img src='./Dados/escopo_legb.png'></img>\n",
    "\n",
    "De local para interno"
   ]
  },
  {
   "cell_type": "markdown",
   "id": "331e1d5e",
   "metadata": {},
   "source": [
    "* Global: x, fun\n",
    "\n",
    "* Local: z, y"
   ]
  },
  {
   "cell_type": "code",
   "execution_count": 25,
   "id": "40a36301",
   "metadata": {},
   "outputs": [
    {
     "name": "stdout",
     "output_type": "stream",
     "text": [
      "100\n",
      "8\n"
     ]
    }
   ],
   "source": [
    "# Escopo global\n",
    "x = 99\n",
    "\n",
    "def fun(y):\n",
    "    global w # Declara w como global\n",
    "    # Escopo local\n",
    "    w = 8\n",
    "    z = x + y\n",
    "    return z\n",
    "\n",
    "print(fun(1))\n",
    "print(w)"
   ]
  },
  {
   "cell_type": "code",
   "execution_count": 55,
   "id": "a10f6663",
   "metadata": {},
   "outputs": [
    {
     "data": {
      "text/plain": [
       "(19, 1000000000)"
      ]
     },
     "execution_count": 55,
     "metadata": {},
     "output_type": "execute_result"
    }
   ],
   "source": [
    "# Return em tuplas\n",
    "def fun(x,y=9):\n",
    "    z = x + y\n",
    "    w = x ** y\n",
    "    \n",
    "    return z,w\n",
    "\n",
    "a, b = fun(10,2)\n",
    "# ou \n",
    "fun(10)"
   ]
  },
  {
   "cell_type": "markdown",
   "id": "c7d1e1ad",
   "metadata": {},
   "source": [
    "## Argumentos arbitrários\n",
    "\n",
    "* '* e **' são funções que permitem qualquer número de argumentos\n",
    "\n",
    "<code>\n",
    "def f(*args):\n",
    "    print(args)\n",
    "</code>\n",
    "\n",
    "* O python vai encaixando os argumentos sem chaves primeiro e depois os com chave"
   ]
  },
  {
   "cell_type": "code",
   "execution_count": null,
   "id": "12a74eb2",
   "metadata": {},
   "outputs": [
    {
     "name": "stdout",
     "output_type": "stream",
     "text": [
      "(1, 2, 3, 4, 5, 6, 7, 8)\n"
     ]
    }
   ],
   "source": [
    "# Coleta os argumentos como uma tupla\n",
    "def f(*args):\n",
    "    print(args)\n",
    "\n",
    "f(1,2,3,4,5,6,7,8)"
   ]
  },
  {
   "cell_type": "code",
   "execution_count": null,
   "id": "5dce2478",
   "metadata": {},
   "outputs": [
    {
     "name": "stdout",
     "output_type": "stream",
     "text": [
      "{'a': 1, 'b': 2, 'c': 3, 'd': 4, 'e': 5}\n"
     ]
    }
   ],
   "source": [
    "# Coleta os argumentos como um dicionário\n",
    "def f(**args):\n",
    "    print(args)\n",
    "\n",
    "f(a=1,b=2,c=3,d=4,e=5)"
   ]
  },
  {
   "cell_type": "code",
   "execution_count": null,
   "id": "64ae03bb",
   "metadata": {},
   "outputs": [
    {
     "name": "stdout",
     "output_type": "stream",
     "text": [
      "1 (2, 3) {'x': 4, 'y': 5}\n",
      "None\n"
     ]
    }
   ],
   "source": [
    "# Misturando os 3\n",
    "def f(z, *pargs, **kargs):\n",
    "    print (z, pargs, kargs)\n",
    "    \n",
    "\n",
    "print(f(1, 2, 3,x=4, y=5))"
   ]
  },
  {
   "cell_type": "markdown",
   "id": "94ab7520",
   "metadata": {},
   "source": [
    "## Lambda / Funções anônimas\n",
    "\n",
    "lambda é uma função que retorna o resultado inves de atribuição\n",
    "\n",
    "Função anônimas são aquelas sem def\n",
    "\n",
    "Usada para instruções simples\n",
    "\n",
    "<img src='./Dados/lambda.png'></img>"
   ]
  },
  {
   "cell_type": "code",
   "execution_count": 60,
   "id": "21edc219",
   "metadata": {},
   "outputs": [
    {
     "data": {
      "text/plain": [
       "20"
      ]
     },
     "execution_count": 60,
     "metadata": {},
     "output_type": "execute_result"
    }
   ],
   "source": [
    "def dobrar(x):\n",
    "    return x * 2\n",
    "dobrar(10)"
   ]
  },
  {
   "cell_type": "code",
   "execution_count": null,
   "id": "9523d152",
   "metadata": {},
   "outputs": [
    {
     "data": {
      "text/plain": [
       "20"
      ]
     },
     "execution_count": 62,
     "metadata": {},
     "output_type": "execute_result"
    }
   ],
   "source": [
    "dobrar = lambda x: x*2\n",
    "dobrar(10)"
   ]
  },
  {
   "cell_type": "markdown",
   "id": "bd83f9ce",
   "metadata": {},
   "source": [
    "Por exemplo, uma função que cria um elevador de potência:\n",
    "\n",
    "* Se eu disser 2, quero uma função que eleve ao quadrado (²).\n",
    "\n",
    "* Se eu disser 3, quero uma função que eleve ao cubo (³)."
   ]
  },
  {
   "cell_type": "code",
   "execution_count": 64,
   "id": "5b35f126",
   "metadata": {},
   "outputs": [],
   "source": [
    "def potencia(n):\n",
    "    return lambda x: x ** n"
   ]
  },
  {
   "cell_type": "code",
   "execution_count": 65,
   "id": "d995a3f0",
   "metadata": {},
   "outputs": [
    {
     "data": {
      "text/plain": [
       "25"
      ]
     },
     "execution_count": 65,
     "metadata": {},
     "output_type": "execute_result"
    }
   ],
   "source": [
    "quadrado = potencia(2)\n",
    "quadrado(5)"
   ]
  },
  {
   "cell_type": "code",
   "execution_count": 68,
   "id": "1e9582d1",
   "metadata": {},
   "outputs": [
    {
     "data": {
      "text/plain": [
       "125"
      ]
     },
     "execution_count": 68,
     "metadata": {},
     "output_type": "execute_result"
    }
   ],
   "source": [
    "cubo = potencia(3)\n",
    "cubo(5)"
   ]
  },
  {
   "cell_type": "markdown",
   "id": "902f9c0f",
   "metadata": {},
   "source": [
    "## Apply\n",
    "\n",
    "Chamar funções e argumentos com o apply"
   ]
  },
  {
   "cell_type": "code",
   "execution_count": 9,
   "id": "aa7c5562",
   "metadata": {},
   "outputs": [
    {
     "name": "stdout",
     "output_type": "stream",
     "text": [
      "   0\n",
      "0  1\n",
      "1  2\n",
      "2  3\n"
     ]
    },
    {
     "data": {
      "text/html": [
       "<div>\n",
       "<style scoped>\n",
       "    .dataframe tbody tr th:only-of-type {\n",
       "        vertical-align: middle;\n",
       "    }\n",
       "\n",
       "    .dataframe tbody tr th {\n",
       "        vertical-align: top;\n",
       "    }\n",
       "\n",
       "    .dataframe thead th {\n",
       "        text-align: right;\n",
       "    }\n",
       "</style>\n",
       "<table border=\"1\" class=\"dataframe\">\n",
       "  <thead>\n",
       "    <tr style=\"text-align: right;\">\n",
       "      <th></th>\n",
       "      <th>0</th>\n",
       "    </tr>\n",
       "  </thead>\n",
       "  <tbody>\n",
       "    <tr>\n",
       "      <th>0</th>\n",
       "      <td>4</td>\n",
       "    </tr>\n",
       "    <tr>\n",
       "      <th>1</th>\n",
       "      <td>8</td>\n",
       "    </tr>\n",
       "    <tr>\n",
       "      <th>2</th>\n",
       "      <td>12</td>\n",
       "    </tr>\n",
       "  </tbody>\n",
       "</table>\n",
       "</div>"
      ],
      "text/plain": [
       "    0\n",
       "0   4\n",
       "1   8\n",
       "2  12"
      ]
     },
     "execution_count": 9,
     "metadata": {},
     "output_type": "execute_result"
    }
   ],
   "source": [
    "import pandas as pd\n",
    "df = pd.DataFrame((1,2,3))\n",
    "print(df)\n",
    "\n",
    "df.apply(lambda x: x*4)"
   ]
  },
  {
   "cell_type": "markdown",
   "id": "34469d2a",
   "metadata": {},
   "source": [
    "## Funções de mapeamento em sequências\n",
    "\n",
    "Sequências = Listas, strings ...\n",
    "\n",
    "Operar cada item de uma sequência e coletar os resultados\n",
    "\n",
    "Dá para fazer por **FOR**, mas o python criou o **MAP** para facilitar"
   ]
  },
  {
   "cell_type": "code",
   "execution_count": 22,
   "id": "0a0945e4",
   "metadata": {},
   "outputs": [
    {
     "data": {
      "text/plain": [
       "[101, 102, 103]"
      ]
     },
     "execution_count": 22,
     "metadata": {},
     "output_type": "execute_result"
    }
   ],
   "source": [
    "contador = [1,2,3]\n",
    "update = []\n",
    "\n",
    "def fun(x):\n",
    "    return x + 100\n",
    "\n",
    "for i in contador: # Para cada item no contador\n",
    "    i = fun(i) # Some 100\n",
    "    update.append(i) # Adicione ao final da lista\n",
    "\n",
    "update"
   ]
  },
  {
   "cell_type": "markdown",
   "id": "a0a91656",
   "metadata": {},
   "source": [
    "**MAP** aplicar funções a sequências"
   ]
  },
  {
   "cell_type": "code",
   "execution_count": 25,
   "id": "aaa476f9",
   "metadata": {},
   "outputs": [
    {
     "data": {
      "text/plain": [
       "[101, 102, 103]"
      ]
     },
     "execution_count": 25,
     "metadata": {},
     "output_type": "execute_result"
    }
   ],
   "source": [
    "contador = [1,2,3]\n",
    "update = []\n",
    "\n",
    "for i in map(fun, contador):\n",
    "    update.append(i)\n",
    "\n",
    "update"
   ]
  },
  {
   "cell_type": "markdown",
   "id": "d7285ce5",
   "metadata": {},
   "source": [
    "**FILTER** seleciona os items que serão afetados pela função"
   ]
  },
  {
   "cell_type": "code",
   "execution_count": 29,
   "id": "a0c3ca00",
   "metadata": {},
   "outputs": [
    {
     "name": "stdout",
     "output_type": "stream",
     "text": [
      "-5\n",
      "-4\n",
      "-3\n",
      "-2\n",
      "-1\n"
     ]
    }
   ],
   "source": [
    "for i in filter(lambda x: x < 0, range(-5,5)):\n",
    "    print(i)"
   ]
  },
  {
   "cell_type": "markdown",
   "id": "8621ce38",
   "metadata": {},
   "source": [
    "**REDUCE** acumula os itens de acordo com as funções"
   ]
  },
  {
   "cell_type": "code",
   "execution_count": 35,
   "id": "1776a7cd",
   "metadata": {},
   "outputs": [
    {
     "name": "stdout",
     "output_type": "stream",
     "text": [
      "6\n"
     ]
    }
   ],
   "source": [
    "from functools import reduce\n",
    "\n",
    "# Soma todos os números da lista\n",
    "result = reduce(lambda acumulador, x: acumulador + x, [1, 2, 3])  # 6\n",
    "\n",
    "print(result)  # 6\n"
   ]
  },
  {
   "cell_type": "markdown",
   "id": "3c78750d",
   "metadata": {},
   "source": [
    "## Loops aninhados / Abrangências de listas"
   ]
  },
  {
   "cell_type": "code",
   "execution_count": null,
   "id": "1384d8aa",
   "metadata": {},
   "outputs": [
    {
     "data": {
      "text/plain": [
       "[0, 4, 16, 36, 64]"
      ]
     },
     "execution_count": 39,
     "metadata": {},
     "output_type": "execute_result"
    }
   ],
   "source": [
    "# Expressão para cada item do 0 a 10, selecione se o resto da divisão for 0\n",
    "[x**2 for x in range(10) if x % 2 == 0]"
   ]
  },
  {
   "cell_type": "markdown",
   "id": "c2bf85b2",
   "metadata": {},
   "source": [
    "## Funções Geradoras \n",
    "\n",
    "Uma função geradora é uma função especial que, em vez de retornar um valor e acabar, ela pode \"pausar\" e \"retomar\" seu estado, \"gerando\" vários valores ao longo do tempo.\n",
    "\n",
    "* Economiza memória\n",
    "\n",
    "* Dados sob demanda\n",
    "\n",
    "* Fluxos infinitos sem travar"
   ]
  },
  {
   "cell_type": "code",
   "execution_count": 59,
   "id": "d0577586",
   "metadata": {},
   "outputs": [],
   "source": [
    "def fung1(n):\n",
    "    for i in range(n):\n",
    "        yield i ** 2\n",
    "        \n",
    "gerador = fung1(4)"
   ]
  },
  {
   "cell_type": "code",
   "execution_count": 60,
   "id": "f7be1e71",
   "metadata": {},
   "outputs": [
    {
     "name": "stdout",
     "output_type": "stream",
     "text": [
      "0\n"
     ]
    }
   ],
   "source": [
    "print(next(gerador))"
   ]
  },
  {
   "cell_type": "code",
   "execution_count": 61,
   "id": "6a30f565",
   "metadata": {},
   "outputs": [
    {
     "name": "stdout",
     "output_type": "stream",
     "text": [
      "1\n"
     ]
    }
   ],
   "source": [
    "print(next(gerador))"
   ]
  },
  {
   "cell_type": "code",
   "execution_count": 62,
   "id": "4b8507b5",
   "metadata": {},
   "outputs": [
    {
     "name": "stdout",
     "output_type": "stream",
     "text": [
      "4\n"
     ]
    }
   ],
   "source": [
    "print(next(gerador))"
   ]
  },
  {
   "cell_type": "code",
   "execution_count": null,
   "id": "86185915",
   "metadata": {},
   "outputs": [
    {
     "name": "stdout",
     "output_type": "stream",
     "text": [
      "0\n",
      "1\n"
     ]
    }
   ],
   "source": [
    "def fung2(n):\n",
    "    res =[]\n",
    "    for i in range(n): res.append(i**2)\n",
    "    return res\n",
    "\n",
    "for x in fung2(2): print(x)"
   ]
  }
 ],
 "metadata": {
  "kernelspec": {
   "display_name": ".venv",
   "language": "python",
   "name": "python3"
  },
  "language_info": {
   "codemirror_mode": {
    "name": "ipython",
    "version": 3
   },
   "file_extension": ".py",
   "mimetype": "text/x-python",
   "name": "python",
   "nbconvert_exporter": "python",
   "pygments_lexer": "ipython3",
   "version": "3.12.4"
  }
 },
 "nbformat": 4,
 "nbformat_minor": 5
}
