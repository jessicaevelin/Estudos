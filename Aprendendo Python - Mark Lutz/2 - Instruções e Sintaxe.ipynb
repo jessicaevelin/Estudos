{
 "cells": [
  {
   "cell_type": "markdown",
   "id": "fe01c964",
   "metadata": {},
   "source": [
    "# Instruções e Sintaxe\n",
    "\n",
    "<img src='./Dados/instrucoes.png' width=500></img>"
   ]
  },
  {
   "cell_type": "markdown",
   "id": "9c315a00",
   "metadata": {},
   "source": [
    "## Atribuições"
   ]
  },
  {
   "cell_type": "code",
   "execution_count": null,
   "id": "9ea71b70",
   "metadata": {},
   "outputs": [
    {
     "data": {
      "text/plain": [
       "'A'"
      ]
     },
     "execution_count": 8,
     "metadata": {},
     "output_type": "execute_result"
    }
   ],
   "source": [
    "x = [1,2,3]\n",
    "x = [1,2,3]\n",
    "x, y = 1, 3\n",
    "# x = 1\n",
    "[x,y,z] = [1, 2, 3]\n",
    "#x = 1\n",
    "(x,y) = (\"AC\")\n",
    "# x = 'A'\n",
    "x = y = z = 'sei_lá'\n",
    "# x = 'sei_lá'\n",
    "x,y,z = range(3)\n",
    "# x = 0"
   ]
  },
  {
   "cell_type": "markdown",
   "id": "805ca4c1",
   "metadata": {},
   "source": [
    "## Tipagens\n",
    "\n",
    "Objetos tem um tipo (número, lista, float) e Varíaveis/Nome não tem tipo, são apenas referências para objetos e pode ser mutável"
   ]
  },
  {
   "cell_type": "code",
   "execution_count": null,
   "id": "83c486d7",
   "metadata": {},
   "outputs": [],
   "source": [
    "x = 0 # x faz referência para o objeto 0\n",
    "x = 'String' # x faz referência para o objeto 'String'\n",
    "x = [1, 2, 3] # x faz referência para o objeto [1, 2, 3]"
   ]
  },
  {
   "cell_type": "markdown",
   "id": "21716b5d",
   "metadata": {},
   "source": [
    "## Atribuição ampliada"
   ]
  },
  {
   "cell_type": "code",
   "execution_count": null,
   "id": "e67d5579",
   "metadata": {},
   "outputs": [
    {
     "data": {
      "text/plain": [
       "[1, 2, 3, 4, 5, 6]"
      ]
     },
     "execution_count": 14,
     "metadata": {},
     "output_type": "execute_result"
    }
   ],
   "source": [
    "A = 10\n",
    "A = A  + 2\n",
    "\n",
    "# Principais\n",
    "A += 2\n",
    "A -= 1\n",
    "A *= 2\n",
    "A **= 2\n",
    "\n",
    "# Com listas\n",
    "# O ideal é ir por append ou extend\n",
    "lista = [1, 2, 3]\n",
    "lista += [4, 5, 6]\n",
    "lista\n"
   ]
  },
  {
   "cell_type": "markdown",
   "id": "ecc0eac1",
   "metadata": {},
   "source": [
    "\n",
    "<img src='./Dados/int_expre.png' width=500></img>"
   ]
  },
  {
   "cell_type": "markdown",
   "id": "0ba1e539",
   "metadata": {},
   "source": [
    "## Instruções Compostas"
   ]
  },
  {
   "cell_type": "markdown",
   "id": "7970f9db",
   "metadata": {},
   "source": [
    "### If"
   ]
  },
  {
   "cell_type": "code",
   "execution_count": null,
   "id": "f440521e",
   "metadata": {},
   "outputs": [
    {
     "name": "stdout",
     "output_type": "stream",
     "text": [
      "Igual a 10\n"
     ]
    }
   ],
   "source": [
    "x = 10\n",
    "\n",
    "# Bloco\n",
    "if x > 10:\n",
    "    print('Maior que 10')\n",
    "elif x < 10:\n",
    "    print('Menor que 10')\n",
    "else:\n",
    "    print('Igual a 10')"
   ]
  },
  {
   "cell_type": "code",
   "execution_count": 18,
   "id": "a464f3c1",
   "metadata": {},
   "outputs": [
    {
     "name": "stdout",
     "output_type": "stream",
     "text": [
      "O preço da laranja é 3.7\n",
      "3.7\n"
     ]
    }
   ],
   "source": [
    "frutas ={'maça': 1.5, 'banana': 2, 'laranja': 3.7}\n",
    "\n",
    "escolha = 'laranja'\n",
    "\n",
    "if escolha in frutas:\n",
    "    print(f'O preço da {escolha} é {frutas[escolha]}')\n",
    "    \n",
    "if escolha == 'maça':\n",
    "    print(frutas['maça'])\n",
    "elif escolha == 'banana':\n",
    "    print(frutas['banana'])\n",
    "elif escolha == 'laranja':\n",
    "    print(frutas['laranja'])"
   ]
  },
  {
   "cell_type": "markdown",
   "id": "56371649",
   "metadata": {},
   "source": [
    "## Delimitadores de bloco"
   ]
  },
  {
   "cell_type": "markdown",
   "id": "720936ab",
   "metadata": {},
   "source": [
    "<img src='./Dados/delimitadores.png' width=500></img>"
   ]
  },
  {
   "cell_type": "code",
   "execution_count": null,
   "id": "e968ff41",
   "metadata": {},
   "outputs": [],
   "source": []
  }
 ],
 "metadata": {
  "kernelspec": {
   "display_name": ".venv",
   "language": "python",
   "name": "python3"
  },
  "language_info": {
   "codemirror_mode": {
    "name": "ipython",
    "version": 3
   },
   "file_extension": ".py",
   "mimetype": "text/x-python",
   "name": "python",
   "nbconvert_exporter": "python",
   "pygments_lexer": "ipython3",
   "version": "3.12.4"
  }
 },
 "nbformat": 4,
 "nbformat_minor": 5
}
