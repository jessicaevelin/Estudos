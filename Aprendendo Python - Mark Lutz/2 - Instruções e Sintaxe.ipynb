{
 "cells": [
  {
   "cell_type": "markdown",
   "id": "fe01c964",
   "metadata": {},
   "source": [
    "# Instruções e Sintaxe\n",
    "\n",
    "<img src='./Dados/instrucoes.png'></img>"
   ]
  },
  {
   "cell_type": "markdown",
   "id": "9c315a00",
   "metadata": {},
   "source": [
    "## Atribuições"
   ]
  },
  {
   "cell_type": "code",
   "execution_count": null,
   "id": "9ea71b70",
   "metadata": {},
   "outputs": [
    {
     "data": {
      "text/plain": [
       "'A'"
      ]
     },
     "execution_count": 8,
     "metadata": {},
     "output_type": "execute_result"
    }
   ],
   "source": [
    "x = [1,2,3]\n",
    "x = [1,2,3]\n",
    "x, y = 1, 3\n",
    "# x = 1\n",
    "[x,y,z] = [1, 2, 3]\n",
    "#x = 1\n",
    "(x,y) = (\"AC\")\n",
    "# x = 'A'\n",
    "x = y = z = 'sei_lá'\n",
    "# x = 'sei_lá'\n",
    "x,y,z = range(3)\n",
    "# x = 0"
   ]
  }
 ],
 "metadata": {
  "kernelspec": {
   "display_name": ".venv",
   "language": "python",
   "name": "python3"
  },
  "language_info": {
   "codemirror_mode": {
    "name": "ipython",
    "version": 3
   },
   "file_extension": ".py",
   "mimetype": "text/x-python",
   "name": "python",
   "nbconvert_exporter": "python",
   "pygments_lexer": "ipython3",
   "version": "3.12.4"
  }
 },
 "nbformat": 4,
 "nbformat_minor": 5
}
