{
 "cells": [
  {
   "cell_type": "markdown",
   "id": "fe01c964",
   "metadata": {},
   "source": [
    "# Instruções e Sintaxe\n",
    "\n",
    "<img src='./Dados/instrucoes.png' width=500></img>"
   ]
  },
  {
   "cell_type": "markdown",
   "id": "9c315a00",
   "metadata": {},
   "source": [
    "## Atribuições"
   ]
  },
  {
   "cell_type": "code",
   "execution_count": 1,
   "id": "9ea71b70",
   "metadata": {},
   "outputs": [],
   "source": [
    "x = [1,2,3]\n",
    "x = [1,2,3]\n",
    "x, y = 1, 3\n",
    "# x = 1\n",
    "[x,y,z] = [1, 2, 3]\n",
    "#x = 1\n",
    "(x,y) = (\"AC\")\n",
    "# x = 'A'\n",
    "x = y = z = 'sei_lá'\n",
    "# x = 'sei_lá'\n",
    "x,y,z = range(3)\n",
    "# x = 0"
   ]
  },
  {
   "cell_type": "markdown",
   "id": "805ca4c1",
   "metadata": {},
   "source": [
    "## Tipagens\n",
    "\n",
    "Objetos tem um tipo (número, lista, float) e Varíaveis/Nome não tem tipo, são apenas referências para objetos e pode ser mutável"
   ]
  },
  {
   "cell_type": "code",
   "execution_count": 2,
   "id": "83c486d7",
   "metadata": {},
   "outputs": [],
   "source": [
    "x = 0 # x faz referência para o objeto 0\n",
    "x = 'String' # x faz referência para o objeto 'String'\n",
    "x = [1, 2, 3] # x faz referência para o objeto [1, 2, 3]"
   ]
  },
  {
   "cell_type": "markdown",
   "id": "21716b5d",
   "metadata": {},
   "source": [
    "## Atribuição ampliada"
   ]
  },
  {
   "cell_type": "code",
   "execution_count": null,
   "id": "e67d5579",
   "metadata": {},
   "outputs": [
    {
     "data": {
      "text/plain": [
       "[1, 2, 3, 4, 5, 6]"
      ]
     },
     "execution_count": 3,
     "metadata": {},
     "output_type": "execute_result"
    }
   ],
   "source": [
    "A = 10\n",
    "A = A  + 2\n",
    "\n",
    "# Principais\n",
    "A += 2\n",
    "A -= 1\n",
    "A *= 2\n",
    "A **= 2\n",
    "\n",
    "# Com listas\n",
    "# O ideal é ir por append ou extend\n",
    "lista = [1, 2, 3]\n",
    "lista += [4, 5, 6]\n",
    "lista"
   ]
  },
  {
   "cell_type": "markdown",
   "id": "ecc0eac1",
   "metadata": {},
   "source": [
    "\n",
    "<img src='./Dados/int_expre.png' width=500></img>"
   ]
  },
  {
   "cell_type": "markdown",
   "id": "0ba1e539",
   "metadata": {},
   "source": [
    "## Instruções Compostas"
   ]
  },
  {
   "cell_type": "markdown",
   "id": "7970f9db",
   "metadata": {},
   "source": [
    "### If"
   ]
  },
  {
   "cell_type": "code",
   "execution_count": 4,
   "id": "f440521e",
   "metadata": {},
   "outputs": [
    {
     "name": "stdout",
     "output_type": "stream",
     "text": [
      "Igual a 10\n"
     ]
    }
   ],
   "source": [
    "x = 10\n",
    "\n",
    "# Bloco\n",
    "if x > 10:\n",
    "    print('Maior que 10')\n",
    "elif x < 10:\n",
    "    print('Menor que 10')\n",
    "else:\n",
    "    print('Igual a 10')"
   ]
  },
  {
   "cell_type": "code",
   "execution_count": 5,
   "id": "a464f3c1",
   "metadata": {},
   "outputs": [
    {
     "name": "stdout",
     "output_type": "stream",
     "text": [
      "O preço da laranja é 3.7\n",
      "3.7\n"
     ]
    }
   ],
   "source": [
    "frutas ={'maça': 1.5, 'banana': 2, 'laranja': 3.7}\n",
    "\n",
    "escolha = 'laranja'\n",
    "\n",
    "if escolha in frutas:\n",
    "    print(f'O preço da {escolha} é {frutas[escolha]}')\n",
    "    \n",
    "if escolha == 'maça':\n",
    "    print(frutas['maça'])\n",
    "elif escolha == 'banana':\n",
    "    print(frutas['banana'])\n",
    "elif escolha == 'laranja':\n",
    "    print(frutas['laranja'])"
   ]
  },
  {
   "cell_type": "markdown",
   "id": "56371649",
   "metadata": {},
   "source": [
    "## Delimitadores de bloco"
   ]
  },
  {
   "cell_type": "markdown",
   "id": "720936ab",
   "metadata": {},
   "source": [
    "<img src='./Dados/delimitadores.png' width=500></img>"
   ]
  },
  {
   "cell_type": "markdown",
   "id": "6bed8c46",
   "metadata": {},
   "source": [
    "## Testes de verdade\n",
    "\n",
    "* X and Y -> True, se X e Y são True\n",
    "\n",
    "* X or Y -> True, se X ou Y é True\n",
    "\n",
    "* not X -> True, se X é False"
   ]
  },
  {
   "cell_type": "code",
   "execution_count": 6,
   "id": "e968ff41",
   "metadata": {},
   "outputs": [
    {
     "data": {
      "text/plain": [
       "(3, 5)"
      ]
     },
     "execution_count": 6,
     "metadata": {},
     "output_type": "execute_result"
    }
   ],
   "source": [
    "# Os dois são True, o python retorna o último valor\n",
    "2 and 3, 10 and 5"
   ]
  },
  {
   "cell_type": "code",
   "execution_count": 7,
   "id": "91a8fd53",
   "metadata": {},
   "outputs": [
    {
     "data": {
      "text/plain": [
       "[]"
      ]
     },
     "execution_count": 7,
     "metadata": {},
     "output_type": "execute_result"
    }
   ],
   "source": [
    "# Os dois são False, o python retorna o primeiro\n",
    "[] and {}"
   ]
  },
  {
   "cell_type": "code",
   "execution_count": 10,
   "id": "08de64ed",
   "metadata": {},
   "outputs": [
    {
     "name": "stdout",
     "output_type": "stream",
     "text": [
      "Pelo menos uma função retornou True\n"
     ]
    }
   ],
   "source": [
    "# Não funciona porque o python não vai executar as funções\n",
    "# if funcao1() or funcao2():\n",
    "#    print('Pelo menos uma função retornou True')\n",
    "\n",
    "# Para retornar uma função True (ou não vazia):\n",
    "def funcao1(): pass\n",
    "\n",
    "def funcao2(): return True\n",
    "\n",
    "tmp1, tmp2 = funcao1(), funcao2()\n",
    "if tmp1 or tmp2:\n",
    "    print('Pelo menos uma função retornou True')"
   ]
  },
  {
   "cell_type": "markdown",
   "id": "87a183c3",
   "metadata": {},
   "source": [
    "## Loops while e for\n",
    "\n",
    "while: usado para loops gerais que eu não sei quando acaba.\n",
    "\n",
    "* Continua o loop enquanto o teste for verdadeiro\n",
    "\n",
    "<img src='./Dados/while1.png'>"
   ]
  },
  {
   "cell_type": "code",
   "execution_count": 11,
   "id": "a182419f",
   "metadata": {},
   "outputs": [
    {
     "name": "stdout",
     "output_type": "stream",
     "text": [
      "spam\n",
      "pam\n",
      "am\n",
      "m\n"
     ]
    }
   ],
   "source": [
    "x = 'spam'\n",
    "while x:\n",
    "    print(x)\n",
    "    x = x[1:]  # remove o primeiro caractere"
   ]
  },
  {
   "cell_type": "code",
   "execution_count": 12,
   "id": "806ceeb3",
   "metadata": {},
   "outputs": [
    {
     "name": "stdout",
     "output_type": "stream",
     "text": [
      "3\n",
      "4\n"
     ]
    }
   ],
   "source": [
    "a = 3\n",
    "while a < 5:\n",
    "    print(a)\n",
    "    a += 1"
   ]
  },
  {
   "cell_type": "markdown",
   "id": "05b3debd",
   "metadata": {},
   "source": [
    "### Break, Continue e Pass\n",
    "\n",
    "* Break: Sai do loop que a envolve\n",
    "\n",
    "* Continue: Pula para o próximo loop\n",
    "\n",
    "* Pass: Faz nada\n",
    "\n",
    "* Else: só é executado se sair do loop sem usar o break"
   ]
  },
  {
   "cell_type": "code",
   "execution_count": 13,
   "id": "94c4189a",
   "metadata": {},
   "outputs": [
    {
     "name": "stdout",
     "output_type": "stream",
     "text": [
      "0\n",
      "1\n",
      "2\n",
      "3\n"
     ]
    }
   ],
   "source": [
    "x = 0\n",
    "\n",
    "while True:\n",
    "    print(x)\n",
    "    if x == 3:\n",
    "        break\n",
    "    x += 1"
   ]
  },
  {
   "cell_type": "code",
   "execution_count": 14,
   "id": "1dcf43b5",
   "metadata": {},
   "outputs": [
    {
     "name": "stdout",
     "output_type": "stream",
     "text": [
      "8\n",
      "6\n",
      "4\n",
      "2\n",
      "0\n"
     ]
    }
   ],
   "source": [
    "x = 10\n",
    "while x:\n",
    "    x -= 1\n",
    "    if x % 2 != 0: # Se o valor de x for impar, pule esse x e volte para o inicio do loop\n",
    "        continue\n",
    "    print(x) # Se o valor de x for par, imprima o valor de x\n",
    "    "
   ]
  },
  {
   "cell_type": "code",
   "execution_count": 15,
   "id": "a97a60e0",
   "metadata": {},
   "outputs": [],
   "source": [
    "idade = 90\n",
    "while True:\n",
    "    if idade >= 18:\n",
    "        pass # faz nada\n",
    "        break # Encerra o loop\n",
    "    else:\n",
    "        print('Não pode entrar')"
   ]
  },
  {
   "cell_type": "code",
   "execution_count": 16,
   "id": "f0eafd47",
   "metadata": {},
   "outputs": [
    {
     "name": "stdout",
     "output_type": "stream",
     "text": [
      "Senha incorreta.\n",
      "Senha incorreta.\n",
      "Acesso liberado!\n"
     ]
    }
   ],
   "source": [
    "tentativas = 0\n",
    "\n",
    "while tentativas < 3:\n",
    "    senha = input(\"Digite a senha: \")\n",
    "    if senha == \"123\":\n",
    "        print(\"Acesso liberado!\")\n",
    "        break  # Sai do while se acertar\n",
    "    print(\"Senha incorreta.\")\n",
    "    tentativas += 1\n",
    "else:\n",
    "    print(\"Número máximo de tentativas. Acesso bloqueado.\")\n"
   ]
  },
  {
   "cell_type": "markdown",
   "id": "afcfedfc",
   "metadata": {},
   "source": [
    "## For\n",
    "\n",
    "<img src='./Dados/for.png'></img>"
   ]
  },
  {
   "cell_type": "code",
   "execution_count": 17,
   "id": "c9a45e09",
   "metadata": {},
   "outputs": [
    {
     "name": "stdout",
     "output_type": "stream",
     "text": [
      "O\n",
      "i\n"
     ]
    }
   ],
   "source": [
    "string = 'Oi'\n",
    "\n",
    "for i in string:\n",
    "    print(i)"
   ]
  },
  {
   "cell_type": "code",
   "execution_count": 18,
   "id": "45db21d6",
   "metadata": {},
   "outputs": [
    {
     "name": "stdout",
     "output_type": "stream",
     "text": [
      "1\n",
      "3\n",
      "6\n"
     ]
    }
   ],
   "source": [
    "list = [1, 2, 3]\n",
    "sum = 0\n",
    "\n",
    "for i in list:\n",
    "    sum += i\n",
    "    print(sum)"
   ]
  },
  {
   "cell_type": "code",
   "execution_count": 19,
   "id": "0815ebdd",
   "metadata": {},
   "outputs": [
    {
     "name": "stdout",
     "output_type": "stream",
     "text": [
      "Comprei Maçã\n",
      "Não encontrei Chocolate\n",
      "Comprei Bolacha\n"
     ]
    }
   ],
   "source": [
    "supermercado = ['Maçã', 'Banana', 'Laranja', 'Bolacha']\n",
    "lista_compras = ['Maçã', 'Chocolate', 'Bolacha']\n",
    "\n",
    "for lista in lista_compras: # Para cada item da lista de compras\n",
    "    for produtos in supermercado: # Verifica se o item existe no supermercado\n",
    "        if lista == produtos: # Se o item da lista de compras for igual ao produto do supermercado\n",
    "            print('Comprei', lista)\n",
    "            break\n",
    "    else:\n",
    "        print('Não encontrei', lista)"
   ]
  },
  {
   "cell_type": "code",
   "execution_count": 20,
   "id": "e2e0497d",
   "metadata": {},
   "outputs": [
    {
     "name": "stdout",
     "output_type": "stream",
     "text": [
      "Comprei Maçã\n",
      "Não encontrei Chocolate\n",
      "Comprei Bolacha\n"
     ]
    }
   ],
   "source": [
    "for lista in lista_compras: # Para cada item da lista de compras\n",
    "    if lista in supermercado: # Verifica se o item existe no supermercado\n",
    "        print('Comprei', lista)\n",
    "    else:\n",
    "        print('Não encontrei', lista)"
   ]
  },
  {
   "cell_type": "markdown",
   "id": "b8bacf50",
   "metadata": {},
   "source": [
    "## Usando Range e Zip no For"
   ]
  },
  {
   "cell_type": "code",
   "execution_count": 21,
   "id": "2150f8af",
   "metadata": {},
   "outputs": [
    {
     "name": "stdout",
     "output_type": "stream",
     "text": [
      "-1\n",
      "0\n",
      "1\n"
     ]
    }
   ],
   "source": [
    "for i in range(-1,2):\n",
    "    print(i)"
   ]
  },
  {
   "cell_type": "code",
   "execution_count": 22,
   "id": "591aff06",
   "metadata": {},
   "outputs": [
    {
     "name": "stdout",
     "output_type": "stream",
     "text": [
      "0\n",
      "a\n",
      "2\n",
      "c\n",
      "4\n",
      "e\n",
      "6\n",
      "g\n",
      "8\n",
      "i\n"
     ]
    }
   ],
   "source": [
    "X = 'abcdefghij'\n",
    "for i in range(0, len(X), 2): # De 2 em 2\n",
    "    print(i)\n",
    "    print(X[i])  # Imprime cada caractere da string X"
   ]
  },
  {
   "cell_type": "code",
   "execution_count": 23,
   "id": "726261db",
   "metadata": {},
   "outputs": [
    {
     "name": "stdout",
     "output_type": "stream",
     "text": [
      "1\n",
      "11\n",
      "2\n",
      "12\n",
      "3\n",
      "13\n"
     ]
    },
    {
     "data": {
      "text/plain": [
       "[11, 12, 13]"
      ]
     },
     "execution_count": 23,
     "metadata": {},
     "output_type": "execute_result"
    }
   ],
   "source": [
    "# Alterando uma lista com for\n",
    "lista = [1, 2, 3]\n",
    "for i in range(len(lista)):\n",
    "    print(lista[i])\n",
    "    lista[i] += 10  # Incrementa cada elemento da lista\n",
    "    print(lista[i])  # Imprime o novo valor de cada elemento da lista\n",
    "lista"
   ]
  },
  {
   "cell_type": "code",
   "execution_count": 24,
   "id": "c0566124",
   "metadata": {},
   "outputs": [
    {
     "name": "stdout",
     "output_type": "stream",
     "text": [
      "<zip object at 0x0000018F6294E340>\n",
      "<map object at 0x0000018F62969E40>\n"
     ]
    }
   ],
   "source": [
    "lista1 = [1, 2, 3]\n",
    "lista2 = [4, 5, 6]\n",
    "lista3 = [7, 8]\n",
    "\n",
    "print(zip(lista1, lista2))  # Retorna um iterador de tuplas\n",
    "print(map(lista1, lista3))  # Retorna um iterador de tuplas"
   ]
  },
  {
   "cell_type": "code",
   "execution_count": 25,
   "id": "f413b940",
   "metadata": {},
   "outputs": [
    {
     "data": {
      "text/plain": [
       "{1: 4, 2: 5, 3: 6}"
      ]
     },
     "execution_count": 25,
     "metadata": {},
     "output_type": "execute_result"
    }
   ],
   "source": [
    "dict(zip(lista1, lista2))  # Cria um dicionário a partir de duas listas"
   ]
  },
  {
   "cell_type": "markdown",
   "id": "49dc51d7",
   "metadata": {},
   "source": [
    "## Ajuda"
   ]
  },
  {
   "cell_type": "code",
   "execution_count": 26,
   "id": "7c4118f6",
   "metadata": {},
   "outputs": [
    {
     "data": {
      "text/plain": [
       "['__add__',\n",
       " '__class__',\n",
       " '__class_getitem__',\n",
       " '__contains__',\n",
       " '__delattr__',\n",
       " '__delitem__',\n",
       " '__dir__',\n",
       " '__doc__',\n",
       " '__eq__',\n",
       " '__format__',\n",
       " '__ge__',\n",
       " '__getattribute__',\n",
       " '__getitem__',\n",
       " '__getstate__',\n",
       " '__gt__',\n",
       " '__hash__',\n",
       " '__iadd__',\n",
       " '__imul__',\n",
       " '__init__',\n",
       " '__init_subclass__',\n",
       " '__iter__',\n",
       " '__le__',\n",
       " '__len__',\n",
       " '__lt__',\n",
       " '__mul__',\n",
       " '__ne__',\n",
       " '__new__',\n",
       " '__reduce__',\n",
       " '__reduce_ex__',\n",
       " '__repr__',\n",
       " '__reversed__',\n",
       " '__rmul__',\n",
       " '__setattr__',\n",
       " '__setitem__',\n",
       " '__sizeof__',\n",
       " '__str__',\n",
       " '__subclasshook__',\n",
       " 'append',\n",
       " 'clear',\n",
       " 'copy',\n",
       " 'count',\n",
       " 'extend',\n",
       " 'index',\n",
       " 'insert',\n",
       " 'pop',\n",
       " 'remove',\n",
       " 'reverse',\n",
       " 'sort']"
      ]
     },
     "execution_count": 26,
     "metadata": {},
     "output_type": "execute_result"
    }
   ],
   "source": [
    "dir([])"
   ]
  },
  {
   "cell_type": "code",
   "execution_count": 27,
   "id": "1a06ae7a",
   "metadata": {},
   "outputs": [
    {
     "data": {
      "text/plain": [
       "'Insert object before index.'"
      ]
     },
     "execution_count": 27,
     "metadata": {},
     "output_type": "execute_result"
    }
   ],
   "source": [
    "lista.insert.__doc__"
   ]
  },
  {
   "cell_type": "code",
   "execution_count": 28,
   "id": "e1f5f306",
   "metadata": {},
   "outputs": [
    {
     "name": "stdout",
     "output_type": "stream",
     "text": [
      "Help on list object:\n",
      "\n",
      "class list(object)\n",
      " |  list(iterable=(), /)\n",
      " |\n",
      " |  Built-in mutable sequence.\n",
      " |\n",
      " |  If no argument is given, the constructor creates a new empty list.\n",
      " |  The argument must be an iterable if specified.\n",
      " |\n",
      " |  Methods defined here:\n",
      " |\n",
      " |  __add__(self, value, /)\n",
      " |      Return self+value.\n",
      " |\n",
      " |  __contains__(self, key, /)\n",
      " |      Return bool(key in self).\n",
      " |\n",
      " |  __delitem__(self, key, /)\n",
      " |      Delete self[key].\n",
      " |\n",
      " |  __eq__(self, value, /)\n",
      " |      Return self==value.\n",
      " |\n",
      " |  __ge__(self, value, /)\n",
      " |      Return self>=value.\n",
      " |\n",
      " |  __getattribute__(self, name, /)\n",
      " |      Return getattr(self, name).\n",
      " |\n",
      " |  __getitem__(self, index, /)\n",
      " |      Return self[index].\n",
      " |\n",
      " |  __gt__(self, value, /)\n",
      " |      Return self>value.\n",
      " |\n",
      " |  __iadd__(self, value, /)\n",
      " |      Implement self+=value.\n",
      " |\n",
      " |  __imul__(self, value, /)\n",
      " |      Implement self*=value.\n",
      " |\n",
      " |  __init__(self, /, *args, **kwargs)\n",
      " |      Initialize self.  See help(type(self)) for accurate signature.\n",
      " |\n",
      " |  __iter__(self, /)\n",
      " |      Implement iter(self).\n",
      " |\n",
      " |  __le__(self, value, /)\n",
      " |      Return self<=value.\n",
      " |\n",
      " |  __len__(self, /)\n",
      " |      Return len(self).\n",
      " |\n",
      " |  __lt__(self, value, /)\n",
      " |      Return self<value.\n",
      " |\n",
      " |  __mul__(self, value, /)\n",
      " |      Return self*value.\n",
      " |\n",
      " |  __ne__(self, value, /)\n",
      " |      Return self!=value.\n",
      " |\n",
      " |  __repr__(self, /)\n",
      " |      Return repr(self).\n",
      " |\n",
      " |  __reversed__(self, /)\n",
      " |      Return a reverse iterator over the list.\n",
      " |\n",
      " |  __rmul__(self, value, /)\n",
      " |      Return value*self.\n",
      " |\n",
      " |  __setitem__(self, key, value, /)\n",
      " |      Set self[key] to value.\n",
      " |\n",
      " |  __sizeof__(self, /)\n",
      " |      Return the size of the list in memory, in bytes.\n",
      " |\n",
      " |  append(self, object, /)\n",
      " |      Append object to the end of the list.\n",
      " |\n",
      " |  clear(self, /)\n",
      " |      Remove all items from list.\n",
      " |\n",
      " |  copy(self, /)\n",
      " |      Return a shallow copy of the list.\n",
      " |\n",
      " |  count(self, value, /)\n",
      " |      Return number of occurrences of value.\n",
      " |\n",
      " |  extend(self, iterable, /)\n",
      " |      Extend list by appending elements from the iterable.\n",
      " |\n",
      " |  index(self, value, start=0, stop=9223372036854775807, /)\n",
      " |      Return first index of value.\n",
      " |\n",
      " |      Raises ValueError if the value is not present.\n",
      " |\n",
      " |  insert(self, index, object, /)\n",
      " |      Insert object before index.\n",
      " |\n",
      " |  pop(self, index=-1, /)\n",
      " |      Remove and return item at index (default last).\n",
      " |\n",
      " |      Raises IndexError if list is empty or index is out of range.\n",
      " |\n",
      " |  remove(self, value, /)\n",
      " |      Remove first occurrence of value.\n",
      " |\n",
      " |      Raises ValueError if the value is not present.\n",
      " |\n",
      " |  reverse(self, /)\n",
      " |      Reverse *IN PLACE*.\n",
      " |\n",
      " |  sort(self, /, *, key=None, reverse=False)\n",
      " |      Sort the list in ascending order and return None.\n",
      " |\n",
      " |      The sort is in-place (i.e. the list itself is modified) and stable (i.e. the\n",
      " |      order of two equal elements is maintained).\n",
      " |\n",
      " |      If a key function is given, apply it once to each list item and sort them,\n",
      " |      ascending or descending, according to their function values.\n",
      " |\n",
      " |      The reverse flag can be set to sort in descending order.\n",
      " |\n",
      " |  ----------------------------------------------------------------------\n",
      " |  Class methods defined here:\n",
      " |\n",
      " |  __class_getitem__(...)\n",
      " |      See PEP 585\n",
      " |\n",
      " |  ----------------------------------------------------------------------\n",
      " |  Static methods defined here:\n",
      " |\n",
      " |  __new__(*args, **kwargs)\n",
      " |      Create and return a new object.  See help(type) for accurate signature.\n",
      " |\n",
      " |  ----------------------------------------------------------------------\n",
      " |  Data and other attributes defined here:\n",
      " |\n",
      " |  __hash__ = None\n",
      "\n"
     ]
    }
   ],
   "source": [
    "help(lista)"
   ]
  },
  {
   "cell_type": "code",
   "execution_count": 29,
   "id": "e4aaa09c",
   "metadata": {},
   "outputs": [
    {
     "name": "stdout",
     "output_type": "stream",
     "text": [
      "Help on built-in function append:\n",
      "\n",
      "append(object, /) method of builtins.list instance\n",
      "    Append object to the end of the list.\n",
      "\n"
     ]
    }
   ],
   "source": [
    "help(lista.append)"
   ]
  }
 ],
 "metadata": {
  "kernelspec": {
   "display_name": ".venv",
   "language": "python",
   "name": "python3"
  },
  "language_info": {
   "codemirror_mode": {
    "name": "ipython",
    "version": 3
   },
   "file_extension": ".py",
   "mimetype": "text/x-python",
   "name": "python",
   "nbconvert_exporter": "python",
   "pygments_lexer": "ipython3",
   "version": "3.12.4"
  }
 },
 "nbformat": 4,
 "nbformat_minor": 5
}
