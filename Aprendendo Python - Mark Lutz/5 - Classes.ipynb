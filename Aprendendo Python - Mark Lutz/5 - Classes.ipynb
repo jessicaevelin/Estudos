{
 "cells": [
  {
   "cell_type": "markdown",
   "id": "c173cfda",
   "metadata": {},
   "source": [
    "# Classes\n",
    "\n",
    "Uma maneira de criar novos objetos\n",
    "\n",
    "* Cada chamada de classe resulta em um novo objeto/instância\n",
    "\n",
    "\n",
    "\n",
    "* Herança: os objetos herdam propriedades da categoria geral\n",
    "\n",
    "* Composição: Contém outros objetos que executam as tarefas\n",
    "\n",
    "<img src='./Dados/arvore.png'></img>\n",
    "\n",
    "Uma instância herda atributos de sua classe e uma classe herda atributos de todas as classes acima dele\n",
    "\n",
    "<img src='./Dados/classes_instancias.png'></img>\n",
    "\n",
    "* O class cria um objeto classe e atribui um nome a ele\n",
    "\n",
    "* A instrução class é executadas como uma def\n",
    "\n",
    "* Assim como os módulos, os atributos da classe são acessados por: objeto.nome\n",
    "\n",
    "* O primeiro argumento self referência o objeto instância que está sendo processado\n",
    "\n"
   ]
  },
  {
   "cell_type": "code",
   "execution_count": 1,
   "id": "c16e26d5",
   "metadata": {},
   "outputs": [
    {
     "data": {
      "text/plain": [
       "{}"
      ]
     },
     "execution_count": 1,
     "metadata": {},
     "output_type": "execute_result"
    }
   ],
   "source": [
    "rec = {}\n",
    "rec"
   ]
  },
  {
   "cell_type": "code",
   "execution_count": null,
   "id": "bc4ade94",
   "metadata": {},
   "outputs": [],
   "source": [
    "# Crie uma classe chamada Carro com os seguintes requisitos:\n",
    "# Atributos: marca, modelo, ano\n",
    "# Método: descrever() que imprime as informações do carro\n",
    "\n",
    "class Carro:\n",
    "    def __init__(self, marca, modelo, ano):\n",
    "        self.marca = marca\n",
    "        self.modelo = modelo\n",
    "        self.ano = ano\n",
    "    def descrever(self):\n",
    "        return f'O carro é um {self.marca}, {self.modelo}, {self.ano}'\n",
    "\n",
    "# Instânciando um objeto    \n",
    "meu_carro = Carro('Fiat', 'Uno', 2008)\n",
    "\n",
    "# Acessando as informações\n",
    "print(meu_carro.marca)\n",
    "print(meu_carro.modelo)\n",
    "print(meu_carro.ano)\n",
    "\n",
    "# Acessando o método\n",
    "meu_carro.descrever()"
   ]
  },
  {
   "cell_type": "markdown",
   "id": "b7f30232",
   "metadata": {},
   "source": [
    "🚗💨 **Desafio: Simulador de Carro (versão avançada)**\n",
    "\n",
    "Crie uma classe Carro com os seguintes requisitos:\n",
    "\n",
    "🧱 **Atributos**:\n",
    "\n",
    "* marca\n",
    "\n",
    "* modelo\n",
    "\n",
    "* ano\n",
    "\n",
    "* ligado (começa como False)\n",
    "\n",
    "* velocidade (começa em 0)\n",
    "\n",
    "⚙️ **Métodos**:\n",
    "\n",
    "* ligar() → muda o estado para ligado (True) e imprime \"Carro ligado.\"\n",
    "\n",
    "* desligar() → só pode desligar se a velocidade for 0. Se estiver em movimento, avise o usuário.\n",
    "\n",
    "* acelerar(valor) → só funciona se o carro estiver ligado. Aumenta a velocidade em valor.\n",
    "\n",
    "* frear(valor) → diminui a velocidade, mas nunca deixa ela negativa.\n",
    "\n",
    "* status() → imprime as informações do carro (marca, modelo, ligado/desligado, velocidade atual)"
   ]
  },
  {
   "cell_type": "code",
   "execution_count": 85,
   "id": "14bd6968",
   "metadata": {},
   "outputs": [],
   "source": [
    "class Carro:\n",
    "    def __init__(self, marca, modelo, ano):\n",
    "        self.marca = marca\n",
    "        self.modelo = modelo\n",
    "        self.ano = ano\n",
    "        self.ligado = False\n",
    "        self.velocidade = 0\n",
    "    def ligar(self):\n",
    "        self.ligado = True\n",
    "        return 'Carro ligado'\n",
    "    def desligar(self):\n",
    "        self.ligado = False\n",
    "        return 'Carro ligado'\n",
    "    def acelerar(self, valor):\n",
    "        if self.ligado:\n",
    "            self.velocidade += valor\n",
    "        else:\n",
    "            print('O carro está desligado. Ligue antes de acelerar')\n",
    "    def frear(self, valor):\n",
    "        self.velocidade -= valor\n",
    "        if self.velocidade <=0:\n",
    "            self.velocidade = 0\n",
    "    def status(self):\n",
    "        return f'{self.marca}, {self.modelo}, {self.ano}, {'Ligado' if self.ligado else 'Desligado'}, {self.velocidade}'"
   ]
  },
  {
   "cell_type": "code",
   "execution_count": 103,
   "id": "cac7754f",
   "metadata": {},
   "outputs": [
    {
     "data": {
      "text/plain": [
       "'Fiat, Uno, 2008, Desligado, 0'"
      ]
     },
     "execution_count": 103,
     "metadata": {},
     "output_type": "execute_result"
    }
   ],
   "source": [
    "meu_carro = Carro('Fiat', 'Uno', 2008)\n",
    "meu_carro.status()"
   ]
  },
  {
   "cell_type": "code",
   "execution_count": 104,
   "id": "03602167",
   "metadata": {},
   "outputs": [
    {
     "name": "stdout",
     "output_type": "stream",
     "text": [
      "O carro está desligado. Ligue antes de acelerar\n"
     ]
    }
   ],
   "source": [
    "meu_carro.acelerar(90)"
   ]
  },
  {
   "cell_type": "code",
   "execution_count": 109,
   "id": "9f033ce4",
   "metadata": {},
   "outputs": [
    {
     "data": {
      "text/plain": [
       "'Fiat, Uno, 2008, Ligado, 180'"
      ]
     },
     "execution_count": 109,
     "metadata": {},
     "output_type": "execute_result"
    }
   ],
   "source": [
    "meu_carro.ligar()\n",
    "meu_carro.acelerar(90)\n",
    "meu_carro.status()"
   ]
  },
  {
   "cell_type": "code",
   "execution_count": 110,
   "id": "24664aea",
   "metadata": {},
   "outputs": [
    {
     "data": {
      "text/plain": [
       "'Fiat, Uno, 2008, Ligado, 90'"
      ]
     },
     "execution_count": 110,
     "metadata": {},
     "output_type": "execute_result"
    }
   ],
   "source": [
    "meu_carro.frear(90)\n",
    "meu_carro.status()"
   ]
  },
  {
   "cell_type": "code",
   "execution_count": 111,
   "id": "7a3397a1",
   "metadata": {},
   "outputs": [
    {
     "data": {
      "text/plain": [
       "'Fiat, Uno, 2008, Ligado, 0'"
      ]
     },
     "execution_count": 111,
     "metadata": {},
     "output_type": "execute_result"
    }
   ],
   "source": [
    "meu_carro.frear(90)\n",
    "meu_carro.status()"
   ]
  },
  {
   "cell_type": "code",
   "execution_count": 112,
   "id": "77ba9cde",
   "metadata": {},
   "outputs": [
    {
     "data": {
      "text/plain": [
       "'Fiat, Uno, 2008, Desligado, 0'"
      ]
     },
     "execution_count": 112,
     "metadata": {},
     "output_type": "execute_result"
    }
   ],
   "source": [
    "meu_carro.desligar()\n",
    "meu_carro.status()"
   ]
  }
 ],
 "metadata": {
  "kernelspec": {
   "display_name": ".venv",
   "language": "python",
   "name": "python3"
  },
  "language_info": {
   "codemirror_mode": {
    "name": "ipython",
    "version": 3
   },
   "file_extension": ".py",
   "mimetype": "text/x-python",
   "name": "python",
   "nbconvert_exporter": "python",
   "pygments_lexer": "ipython3",
   "version": "3.12.4"
  }
 },
 "nbformat": 4,
 "nbformat_minor": 5
}
