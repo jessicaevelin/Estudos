{
 "cells": [
  {
   "cell_type": "markdown",
   "id": "c173cfda",
   "metadata": {},
   "source": [
    "# Classes\n",
    "\n",
    "Uma maneira de criar novos objetos\n",
    "\n",
    "* Cada chamada de classe resulta em um novo objeto/instância\n",
    "\n",
    "\n",
    "\n",
    "* Herança: os objetos herdam propriedades da categoria geral\n",
    "\n",
    "* Composição: Contém outros objetos que executam as tarefas\n",
    "\n",
    "<img src='./Dados/arvore.png'></img>\n",
    "\n",
    "Uma instância herda atributos de sua classe e uma classe herda atributos de todas as classes acima dele\n",
    "\n",
    "<img src='./Dados/classes_instancias.png'></img>\n",
    "\n",
    "* O class cria um objeto classe e atribui um nome a ele\n",
    "\n",
    "* A instrução class é executadas como uma def\n",
    "\n",
    "* Assim como os módulos, os atributos da classe são acessados por: objeto.nome\n",
    "\n",
    "* O primeiro argumento self referência o objeto instância que está sendo processado\n",
    "\n"
   ]
  },
  {
   "cell_type": "markdown",
   "id": "20eb2ffa",
   "metadata": {},
   "source": []
  }
 ],
 "metadata": {
  "kernelspec": {
   "display_name": ".venv",
   "language": "python",
   "name": "python3"
  },
  "language_info": {
   "name": "python",
   "version": "3.12.4"
  }
 },
 "nbformat": 4,
 "nbformat_minor": 5
}
