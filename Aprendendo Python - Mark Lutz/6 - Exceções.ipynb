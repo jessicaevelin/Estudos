{
 "cells": [
  {
   "cell_type": "markdown",
   "id": "dcbe4494",
   "metadata": {},
   "source": [
    "# Exceções\n",
    "\n",
    "* Tratamento de erros,\n",
    "* Notificação de eventos, \n",
    "* Casos especiais, \n",
    "* Garantir a execução\n",
    "\n",
    "<img src='./Dados/exceções.png'></img>"
   ]
  },
  {
   "cell_type": "markdown",
   "id": "0a2f4526",
   "metadata": {},
   "source": [
    "<img src='./Dados/exceções2.png'></img>"
   ]
  },
  {
   "cell_type": "code",
   "execution_count": 7,
   "id": "3f2174cb",
   "metadata": {},
   "outputs": [
    {
     "data": {
      "text/plain": [
       "6"
      ]
     },
     "execution_count": 7,
     "metadata": {},
     "output_type": "execute_result"
    }
   ],
   "source": [
    "s = 'string'\n",
    "len(s)"
   ]
  },
  {
   "cell_type": "markdown",
   "id": "64a2d3a2",
   "metadata": {},
   "source": [
    "## Base"
   ]
  },
  {
   "cell_type": "code",
   "execution_count": 36,
   "id": "3f6d52f0",
   "metadata": {},
   "outputs": [
    {
     "name": "stdout",
     "output_type": "stream",
     "text": [
      "r\n"
     ]
    }
   ],
   "source": [
    "try:\n",
    "    print(s[2])\n",
    "except Exception as Tipo_Erro:\n",
    "    print(f'Erro: {Tipo_Erro}')"
   ]
  },
  {
   "cell_type": "code",
   "execution_count": 37,
   "id": "cff7231f",
   "metadata": {},
   "outputs": [
    {
     "name": "stdout",
     "output_type": "stream",
     "text": [
      "Erro: string index out of range\n"
     ]
    }
   ],
   "source": [
    "try:\n",
    "    print(s[999999999])\n",
    "except Exception as Tipo_Erro:\n",
    "    print(f'Erro: {Tipo_Erro}')"
   ]
  },
  {
   "cell_type": "markdown",
   "id": "797f597f",
   "metadata": {},
   "source": [
    "## Especificando o erro"
   ]
  },
  {
   "cell_type": "code",
   "execution_count": 8,
   "id": "667935f1",
   "metadata": {},
   "outputs": [
    {
     "name": "stdout",
     "output_type": "stream",
     "text": [
      "Digite apenas números!\n",
      "O valor informado foi: [1, 5, 6, 9]\n",
      "Código finalizado!\n"
     ]
    }
   ],
   "source": [
    "numero = [1,5,6,9]\n",
    "\n",
    "try:\n",
    "    divisao = 1/numero\n",
    "except (TypeError):\n",
    "    # Corrigir erros de tipo\n",
    "    print('Digite apenas números!')\n",
    "except (ZeroDivisionError):\n",
    "    # Corrigir divisão por zero\n",
    "    print('O número não pode ser zero')\n",
    "except Exception as Outros_erros:\n",
    "    # Corrige todos os outros erros\n",
    "    print('Ocorreu a excessão:', Outros_erros)\n",
    "else:\n",
    "    # O else só é ativado porque não teve exceções\n",
    "    print(\"1 dividido por\", numero, \"é\", divisao)\n",
    "finally:\n",
    "    # Roda sempre, independente do try ou except\n",
    "    print('O valor informado foi:', numero)\n",
    "    print('Código finalizado!')"
   ]
  },
  {
   "cell_type": "markdown",
   "id": "cdff270e",
   "metadata": {},
   "source": [
    "## Criando erros/exceções (Raise)"
   ]
  },
  {
   "cell_type": "code",
   "execution_count": null,
   "id": "4f413c17",
   "metadata": {},
   "outputs": [
    {
     "name": "stdout",
     "output_type": "stream",
     "text": [
      "Criei um erro/exceção\n"
     ]
    }
   ],
   "source": [
    "numero = 2\n",
    "\n",
    "try:\n",
    "    # Criando uma excessão com raise\n",
    "    raise ValueError('Criei um erro/exceção')\n",
    "    \n",
    "    divisao = 1/numero\n",
    "    \n",
    "except Exception as erro:\n",
    "    print(erro)"
   ]
  },
  {
   "cell_type": "code",
   "execution_count": 24,
   "id": "da9ea6ed",
   "metadata": {},
   "outputs": [
    {
     "name": "stdout",
     "output_type": "stream",
     "text": [
      "Não são aceitos números negativos\n"
     ]
    }
   ],
   "source": [
    "numero = -1\n",
    "\n",
    "try:\n",
    "    # Criando uma excessão com raise\n",
    "    if numero < 0:\n",
    "        raise ValueError('Não são aceitos números negativos')\n",
    "\n",
    "    divisao = 1/numero\n",
    "    \n",
    "except Exception as erro:\n",
    "    print(erro)"
   ]
  }
 ],
 "metadata": {
  "kernelspec": {
   "display_name": ".venv",
   "language": "python",
   "name": "python3"
  },
  "language_info": {
   "codemirror_mode": {
    "name": "ipython",
    "version": 3
   },
   "file_extension": ".py",
   "mimetype": "text/x-python",
   "name": "python",
   "nbconvert_exporter": "python",
   "pygments_lexer": "ipython3",
   "version": "3.12.4"
  }
 },
 "nbformat": 4,
 "nbformat_minor": 5
}
